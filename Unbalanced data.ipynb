{
 "cells": [
  {
   "cell_type": "code",
   "execution_count": 1,
   "id": "bf108ad6-5ccb-4fa5-9ea4-fe71472308f3",
   "metadata": {},
   "outputs": [],
   "source": [
    "import os\n",
    "import pandas as pd\n",
    "import numpy as np\n",
    "import torch\n",
    "import torch.nn as nn\n",
    "import torch.optim as optim\n",
    "from torch.utils.data import Dataset, DataLoader\n",
    "from torchvision import transforms\n",
    "from PIL import Image\n",
    "import matplotlib.pyplot as plt\n",
    "from pathlib import Path"
   ]
  },
  {
   "cell_type": "code",
   "execution_count": 2,
   "id": "3f874d7e-9dff-45ae-9ece-09bf49da3a94",
   "metadata": {},
   "outputs": [
    {
     "name": "stdout",
     "output_type": "stream",
     "text": [
      "Using device: cuda\n"
     ]
    }
   ],
   "source": [
    "device = torch.device(\"cuda\" if torch.cuda.is_available() else \"cpu\")\n",
    "print(f\"Using device: {device}\") "
   ]
  },
  {
   "cell_type": "code",
   "execution_count": 3,
   "id": "5233828c-85ca-4f72-8e81-62d5d1a5b30f",
   "metadata": {},
   "outputs": [],
   "source": [
    "# Define dataset paths\n",
    "base_dir = \"MURA-v1.1\"  # Update this to the root directory of your dataset\n"
   ]
  },
  {
   "cell_type": "code",
   "execution_count": 4,
   "id": "6f9dafce-21ff-47de-9ba9-b83188d008ca",
   "metadata": {},
   "outputs": [],
   "source": [
    "# CSV files for train and validation datasets\n",
    "train_images_csv = os.path.join(base_dir, \"train_image_paths.csv\")  # Update with actual filename\n",
    "train_labels_csv = os.path.join(base_dir, \"train_labeled_studies.csv\")  # Update with actual filename\n",
    "valid_images_csv = os.path.join(base_dir, \"valid_image_paths.csv\")  # Update with actual filename\n",
    "valid_labels_csv = os.path.join(base_dir, \"valid_labeled_studies.csv\")  # Update with actual filename"
   ]
  },
  {
   "cell_type": "code",
   "execution_count": 5,
   "id": "b89ec3f2-dff3-482a-9f48-901fb2fb1823",
   "metadata": {},
   "outputs": [],
   "source": [
    "df_train_images = pd.read_csv(train_images_csv, header=None)\n",
    "df_train_labels = pd.read_csv(train_labels_csv, header=None)\n",
    "df_valid_images = pd.read_csv(valid_images_csv, header=None)\n",
    "df_valid_labels = pd.read_csv(valid_labels_csv, header=None)\n"
   ]
  },
  {
   "cell_type": "code",
   "execution_count": 6,
   "id": "3b97ab32-bc0f-4504-ae00-63a99adc0e10",
   "metadata": {},
   "outputs": [
    {
     "name": "stdout",
     "output_type": "stream",
     "text": [
      "Sample image path from CSV: MURA-v1.1/train/XR_SHOULDER/patient00001/study1_positive/image1.png\n",
      "Full path that would be constructed: MURA-v1.1/train/XR_SHOULDER/patient00001/study1_positive/image1.png\n"
     ]
    }
   ],
   "source": [
    "# FIX: Print some sample paths to debug\n",
    "print(\"Sample image path from CSV:\", df_train_images[0].iloc[0])\n",
    "print(\"Full path that would be constructed:\", os.path.join(df_train_images[0].iloc[0]))"
   ]
  },
  {
   "cell_type": "code",
   "execution_count": 7,
   "id": "b1d4e6f6-f6e7-4225-803e-3b832942a1d7",
   "metadata": {},
   "outputs": [],
   "source": [
    "train_label_dict = dict(zip(df_train_labels[0], df_train_labels[1]))\n",
    "valid_label_dict = dict(zip(df_valid_labels[0], df_valid_labels[1]))\n",
    "\n",
    "def get_label(image_path, label_dict):\n",
    "    study_path = \"/\".join(image_path.split(\"/\")[:-1]) + \"/\"  # Extract study path\n",
    "    return label_dict.get(study_path, -1)  # Default label -1 if not found"
   ]
  },
  {
   "cell_type": "code",
   "execution_count": 8,
   "id": "6736447b-fd59-4122-8608-77495e51a882",
   "metadata": {},
   "outputs": [],
   "source": [
    "# Apply label extraction\n",
    "df_train_images[\"label\"] = df_train_images[0].apply(lambda x: get_label(x, train_label_dict))\n",
    "df_valid_images[\"label\"] = df_valid_images[0].apply(lambda x: get_label(x, valid_label_dict))"
   ]
  },
  {
   "cell_type": "code",
   "execution_count": 9,
   "id": "37454536-e4e6-4d2a-b2bc-10de2cd53287",
   "metadata": {},
   "outputs": [],
   "source": [
    "class MURADataset(Dataset):\n",
    "    def __init__(self, image_paths, labels, transform=None):\n",
    "        self.image_paths = image_paths\n",
    "        self.labels = labels\n",
    "        self.transform = transform\n",
    "\n",
    "    def __len__(self):\n",
    "        return len(self.image_paths)\n",
    "\n",
    "    def __getitem__(self, idx):\n",
    "        img_path = self.image_paths[idx]\n",
    "\n",
    "        # ✅ Ensure path is correctly formatted (normalize path)\n",
    "        img_path = os.path.normpath(img_path)\n",
    "\n",
    "        # ✅ If path doesn't exist, try adding base_dir\n",
    "        if not os.path.exists(img_path):\n",
    "            img_path = os.path.normpath(os.path.join(base_dir, img_path))\n",
    "\n",
    "        # ✅ If still missing, return placeholder\n",
    "        if not os.path.exists(img_path):\n",
    "            print(f\"❌ File missing: {img_path}\")\n",
    "            placeholder = torch.zeros((3, 224, 224))  # Return black image\n",
    "            return placeholder, torch.tensor(-1, dtype=torch.long)\n",
    "\n",
    "        label = self.labels[idx]\n",
    "\n",
    "        try:\n",
    "            # ✅ Load image safely\n",
    "            image = Image.open(img_path).convert(\"RGB\")\n",
    "\n",
    "            # ✅ Apply transformations\n",
    "            if self.transform:\n",
    "                image = self.transform(image)\n",
    "\n",
    "            return image, torch.tensor(label, dtype=torch.long)\n",
    "        except Exception as e:\n",
    "            print(f\"❌ Error loading {img_path}: {e}\")\n",
    "            placeholder = torch.zeros((3, 224, 224))  # Return black image\n",
    "            return placeholder, torch.tensor(-1, dtype=torch.long)"
   ]
  },
  {
   "cell_type": "code",
   "execution_count": 10,
   "id": "b5980d76-9c70-4717-80ae-c23df56052f3",
   "metadata": {},
   "outputs": [],
   "source": [
    "# ✅ Define transformations\n",
    "transform = transforms.Compose([\n",
    "    transforms.Resize((224, 224)),  # Resize to 224x224\n",
    "    transforms.ToTensor(),  # Convert to tensor\n",
    "    transforms.Normalize(mean=[0.5, 0.5, 0.5], std=[0.5, 0.5, 0.5])  # Normalize for RGB\n",
    "])"
   ]
  },
  {
   "cell_type": "code",
   "execution_count": 11,
   "id": "44774db4-4e9a-4c7c-bc36-2e953befe256",
   "metadata": {},
   "outputs": [],
   "source": [
    "# ✅ Function to check dataset paths\n",
    "def check_dataset_paths(base_dir, sample_paths, num_samples=5):\n",
    "    print(\"\\n--- Dataset Path Check ---\")\n",
    "    \n",
    "    paths_to_check = [\n",
    "        base_dir,\n",
    "        os.path.join(os.getcwd(), base_dir),\n",
    "        os.path.dirname(base_dir),\n",
    "        os.path.join(os.getcwd(), os.path.dirname(base_dir))\n",
    "    ]\n",
    "    \n",
    "    for path in paths_to_check:\n",
    "        if os.path.exists(path):\n",
    "            print(f\"✅ Found directory: {path}\")\n",
    "        else:\n",
    "            print(f\"❌ Directory not found: {path}\")\n",
    "\n",
    "    for i, path in enumerate(sample_paths[:num_samples]):\n",
    "        norm_path = os.path.normpath(path)\n",
    "        full_path = os.path.normpath(os.path.join(base_dir, path))\n",
    "\n",
    "        if os.path.exists(norm_path):\n",
    "            print(f\"✅ Sample {i+1}: File exists at {norm_path}\")\n",
    "        elif os.path.exists(full_path):\n",
    "            print(f\"✅ Sample {i+1}: File exists at {full_path}\")\n",
    "        else:\n",
    "            print(f\"❌ Sample {i+1}: File not found at {norm_path} or {full_path}\")\n",
    "    print(\"-------------------------\\n\")"
   ]
  },
  {
   "cell_type": "code",
   "execution_count": 12,
   "id": "57772cb2-1ec8-4678-a498-dcf794641e0b",
   "metadata": {},
   "outputs": [
    {
     "name": "stdout",
     "output_type": "stream",
     "text": [
      "\n",
      "--- Dataset Path Check ---\n",
      "✅ Found directory: MURA-v1.1\n",
      "✅ Found directory: D:\\Sem 6 project\\MURA-v1.1\n",
      "❌ Directory not found: \n",
      "✅ Found directory: D:\\Sem 6 project\\\n",
      "✅ Sample 1: File exists at MURA-v1.1\\train\\XR_SHOULDER\\patient00001\\study1_positive\\image1.png\n",
      "✅ Sample 2: File exists at MURA-v1.1\\train\\XR_SHOULDER\\patient00001\\study1_positive\\image2.png\n",
      "✅ Sample 3: File exists at MURA-v1.1\\train\\XR_SHOULDER\\patient00001\\study1_positive\\image3.png\n",
      "✅ Sample 4: File exists at MURA-v1.1\\train\\XR_SHOULDER\\patient00002\\study1_positive\\image1.png\n",
      "✅ Sample 5: File exists at MURA-v1.1\\train\\XR_SHOULDER\\patient00002\\study1_positive\\image2.png\n",
      "-------------------------\n",
      "\n"
     ]
    }
   ],
   "source": [
    "# ✅ Run dataset path check\n",
    "check_dataset_paths(base_dir, df_train_images[0].tolist())"
   ]
  },
  {
   "cell_type": "code",
   "execution_count": 13,
   "id": "7e45a011-0425-4996-8c0e-b730feb9d610",
   "metadata": {},
   "outputs": [],
   "source": [
    "# ✅ Create datasets\n",
    "train_dataset = MURADataset(df_train_images[0].tolist(), df_train_images[\"label\"].tolist(), transform=transform)\n",
    "valid_dataset = MURADataset(df_valid_images[0].tolist(), df_valid_images[\"label\"].tolist(), transform=transform)"
   ]
  },
  {
   "cell_type": "code",
   "execution_count": 14,
   "id": "edfabeec-3311-47e2-bb9c-f731d2bc261d",
   "metadata": {},
   "outputs": [],
   "source": [
    "# ✅ Create DataLoaders (CPU optimized)\n",
    "train_loader = DataLoader(train_dataset, batch_size=4, shuffle=True, num_workers=0)\n",
    "valid_loader = DataLoader(valid_dataset, batch_size=4, shuffle=False, num_workers=0)\n"
   ]
  },
  {
   "cell_type": "code",
   "execution_count": 15,
   "id": "86256601-106d-41cc-8a26-f82de9cfed59",
   "metadata": {},
   "outputs": [],
   "source": [
    "def show_batch(sample_batch):\n",
    "    images, labels = sample_batch  \n",
    "    valid_indices = [i for i, label in enumerate(labels) if label != -1]\n",
    "\n",
    "    if not valid_indices:\n",
    "        print(\"No valid images found in batch\")\n",
    "        return\n",
    "\n",
    "    num_to_show = min(3, len(valid_indices))\n",
    "    fig, axes = plt.subplots(1, num_to_show, figsize=(12, 5))\n",
    "\n",
    "    if num_to_show == 1:\n",
    "        axes = [axes]\n",
    "\n",
    "    for i in range(num_to_show):\n",
    "        idx = valid_indices[i]\n",
    "        img = images[idx].permute(1, 2, 0).numpy()\n",
    "        img = (img * 0.5) + 0.5  # Denormalize\n",
    "        axes[i].imshow(img)\n",
    "        axes[i].set_title(f\"Label: {labels[idx].item()}\")\n",
    "        axes[i].axis(\"off\")\n",
    "    plt.show()\n"
   ]
  },
  {
   "cell_type": "code",
   "execution_count": 16,
   "id": "cad3e327-7fdb-40a1-8e00-1793cdae901d",
   "metadata": {},
   "outputs": [
    {
     "name": "stdout",
     "output_type": "stream",
     "text": [
      "Attempting to load a batch...\n",
      "❌ Error loading batch: name 'time' is not defined\n"
     ]
    }
   ],
   "source": [
    "# ✅ Try loading a batch\n",
    "try:\n",
    "    print(\"Attempting to load a batch...\")\n",
    "    start = time.time()\n",
    "    sample_batch = next(iter(train_loader))\n",
    "    print(f\"✅ Successfully loaded a batch in {time.time() - start:.2f} sec\")\n",
    "    show_batch(sample_batch)\n",
    "except Exception as e:\n",
    "    print(f\"❌ Error loading batch: {e}\")"
   ]
  },
  {
   "cell_type": "code",
   "execution_count": 17,
   "id": "d1b3d2e7-c23a-45ba-9434-5d9de09dbff9",
   "metadata": {},
   "outputs": [],
   "source": [
    "import seaborn as sns"
   ]
  },
  {
   "cell_type": "code",
   "execution_count": 18,
   "id": "f21ca081-5085-433c-8d73-7cd20f8cc8d2",
   "metadata": {},
   "outputs": [],
   "source": [
    "# ✅ Extract categories from file paths\n",
    "df_train_images[\"category\"] = df_train_images[0].apply(lambda x: x.split(\"/\")[1])\n",
    "df_valid_images[\"category\"] = df_valid_images[0].apply(lambda x: x.split(\"/\")[1])"
   ]
  },
  {
   "cell_type": "code",
   "execution_count": 19,
   "id": "41e6b970-f6b9-4a21-a8b0-4ea2e8d0e2f3",
   "metadata": {},
   "outputs": [],
   "source": [
    "# ✅ Count the number of images per category\n",
    "train_category_counts = df_train_images[\"category\"].value_counts()\n",
    "valid_category_counts = df_valid_images[\"category\"].value_counts()"
   ]
  },
  {
   "cell_type": "code",
   "execution_count": 20,
   "id": "29c450b6-867a-43dc-bad9-134e9cc6788e",
   "metadata": {},
   "outputs": [],
   "source": [
    "# ✅ Count the number of positive and negative cases\n",
    "train_label_counts = df_train_images[\"label\"].value_counts()\n",
    "valid_label_counts = df_valid_images[\"label\"].value_counts()"
   ]
  },
  {
   "cell_type": "code",
   "execution_count": 21,
   "id": "af751347-01c0-46c1-9d99-a94695c91c96",
   "metadata": {},
   "outputs": [
    {
     "name": "stdout",
     "output_type": "stream",
     "text": [
      "🔹 Training Set Categories:\n",
      " category\n",
      "train    36808\n",
      "Name: count, dtype: int64\n",
      "🔹 Validation Set Categories:\n",
      " category\n",
      "valid    3197\n",
      "Name: count, dtype: int64\n",
      "\n",
      "🔹 Training Label Distribution:\n",
      " label\n",
      "0    21935\n",
      "1    14873\n",
      "Name: count, dtype: int64\n",
      "🔹 Validation Label Distribution:\n",
      " label\n",
      "0    1667\n",
      "1    1530\n",
      "Name: count, dtype: int64\n"
     ]
    }
   ],
   "source": [
    "# ✅ Print summary statistics\n",
    "print(\"🔹 Training Set Categories:\\n\", train_category_counts)\n",
    "print(\"🔹 Validation Set Categories:\\n\", valid_category_counts)\n",
    "print(\"\\n🔹 Training Label Distribution:\\n\", train_label_counts)\n",
    "print(\"🔹 Validation Label Distribution:\\n\", valid_label_counts)"
   ]
  },
  {
   "cell_type": "code",
   "execution_count": 22,
   "id": "f1db1ba7-dec1-4cdf-b0e5-861fd4232634",
   "metadata": {},
   "outputs": [
    {
     "data": {
      "image/png": "[encoded data removed]",
      "text/plain": [
       "<Figure size 800x800 with 1 Axes>"
      ]
     },
     "metadata": {},
     "output_type": "display_data"
    }
   ],
   "source": [
    "\n",
    "# Path to your dataset\n",
    "train_dir = \"MURA-v1.1/train\"\n",
    "# Get body part categories (folder names)\n",
    "categories = [d for d in os.listdir(train_dir) if os.path.isdir(os.path.join(train_dir, d))]\n",
    "# Count images per category\n",
    "category_counts = {category: 0 for category in categories}\n",
    "for category in categories:\n",
    "    category_path = os.path.join(train_dir, category)\n",
    "    for patient in os.listdir(category_path):\n",
    "        patient_path = os.path.join(category_path, patient)\n",
    "        for study in os.listdir(patient_path):\n",
    "            study_path = os.path.join(patient_path, study)\n",
    "            category_counts[category] += len(os.listdir(study_path))  # Count images\n",
    "\n",
    "# Plot pie chart\n",
    "plt.figure(figsize=(8, 8))\n",
    "plt.pie(\n",
    "    category_counts.values(),\n",
    "    labels=category_counts.keys(),\n",
    "    autopct='%1.1f%%',\n",
    "    colors=plt.cm.Paired.colors\n",
    ")\n",
    "plt.title(\"Training Dataset: Image Distribution by Body Part Category\")\n",
    "plt.show()\n"
   ]
  },
  {
   "cell_type": "code",
   "execution_count": 23,
   "id": "bc09779d-c105-41f0-980a-d82400fc1dad",
   "metadata": {},
   "outputs": [
    {
     "data": {
      "image/png": "[encoded data removed]",
      "text/plain": [
       "<Figure size 1200x1200 with 1 Axes>"
      ]
     },
     "metadata": {},
     "output_type": "display_data"
    }
   ],
   "source": [
    "import os\n",
    "import matplotlib.pyplot as plt\n",
    "import numpy as np\n",
    "\n",
    "# Path to your dataset\n",
    "train_dir = \"MURA-v1.1/train\"\n",
    "\n",
    "# Get body part categories (folder names)\n",
    "categories = [d for d in os.listdir(train_dir) if os.path.isdir(os.path.join(train_dir, d))]\n",
    "\n",
    "# Dictionary to store counts of positive & negative cases per category\n",
    "category_counts = {category: {\"positive\": 0, \"negative\": 0} for category in categories}\n",
    "\n",
    "# Count images per category (split into positive/negative)\n",
    "for category in categories:\n",
    "    category_path = os.path.join(train_dir, category)\n",
    "    for patient in os.listdir(category_path):\n",
    "        patient_path = os.path.join(category_path, patient)\n",
    "        for study in os.listdir(patient_path):\n",
    "            study_path = os.path.join(patient_path, study)\n",
    "            if \"positive\" in study.lower():\n",
    "                category_counts[category][\"positive\"] += len(os.listdir())\n",
    "            elif \"negative\" in study.lower():\n",
    "                category_counts[category][\"negative\"] += len(os.listdir())\n",
    "\n",
    "# Preparing data for plotting\n",
    "outer_labels = list(category_counts.keys())  # Body part categories\n",
    "outer_sizes = [sum(vals.values()) for vals in category_counts.values()]  # Total images per category\n",
    "\n",
    "inner_labels = []\n",
    "inner_sizes = []\n",
    "for category, counts in category_counts.items():\n",
    "    inner_labels.append(f\"{category} Positive\")\n",
    "    inner_sizes.append(counts[\"positive\"])\n",
    "    inner_labels.append(f\"{category} Negative\")\n",
    "    inner_sizes.append(counts[\"negative\"])\n",
    "\n",
    "# Generate colors using tab10 colormap\n",
    "base_colormap = plt.colormaps.get_cmap('tab10')  # Get main colormap\n",
    "colors_outer = [base_colormap(i / len(outer_labels)) for i in range(len(outer_labels))]  # Distinct colors per category\n",
    "\n",
    "# Ensure positive/negative shades are linked to the correct body parts\n",
    "colors_inner = []\n",
    "for i in range(len(outer_labels)):\n",
    "    colors_inner.append((*colors_outer[i][:3], 0.4))  # Light shade for positive\n",
    "    colors_inner.append((*colors_outer[i][:3], 0.9))  # Dark shade for negative\n",
    "\n",
    "# Create figure\n",
    "fig, ax = plt.subplots(figsize=(12, 12))\n",
    "\n",
    "# Outer Pie (Body Parts)\n",
    "ax.pie(\n",
    "    outer_sizes,\n",
    "    labels=outer_labels,\n",
    "    radius=1,\n",
    "    wedgeprops=dict(width=0.3, edgecolor='white'),\n",
    "    colors=colors_outer,\n",
    "    autopct='%1.1f%%',\n",
    "    pctdistance=0.85,\n",
    "    startangle=90\n",
    ")\n",
    "\n",
    "# Inner Pie (Positive/Negative)\n",
    "inner_wedges, inner_texts, inner_autotexts = ax.pie(\n",
    "    inner_sizes,\n",
    "    \n",
    "    radius=0.7,\n",
    "    wedgeprops=dict(width=0.3, edgecolor='white'),\n",
    "    colors=colors_inner,\n",
    "    labeldistance=0.6,\n",
    "    startangle=90,\n",
    "    autopct='%1.1f%%'\n",
    ")\n",
    "\n",
    "# Extract percentage values for each inner section\n",
    "percentages = [text.get_text() for text in inner_autotexts]\n",
    "\n",
    "# List percentages outside the chart\n",
    "for i, (label, perc) in enumerate(zip(inner_labels, percentages)):\n",
    "    x = 1.2  # X coordinate outside the chart\n",
    "    y = 1 - (i * 0.05)  # Y coordinate (spaced vertically)\n",
    "    ax.text(x, y, f\"{label}: {perc}\", fontsize=12, ha='left', va='top')\n",
    "\n",
    "# Title\n",
    "ax.set_title(\"Image Distribution by Body Part & Positive/Negative Cases\", fontsize=14)\n",
    "\n",
    "# Show plot\n",
    "plt.show()\n"
   ]
  },
  {
   "cell_type": "code",
   "execution_count": 24,
   "id": "02951dea-8ccb-4bb6-add2-500614ad688b",
   "metadata": {},
   "outputs": [
    {
     "data": {
      "image/png": "[encoded data removed]",
      "text/plain": [
       "<Figure size 600x400 with 1 Axes>"
      ]
     },
     "metadata": {},
     "output_type": "display_data"
    }
   ],
   "source": [
    "# ✅ Visualization: Positive vs. Negative Cases\n",
    "plt.figure(figsize=(6, 4))\n",
    "sns.barplot(x=train_label_counts.index.astype(str), y=train_label_counts.values, hue=train_label_counts.index.astype(str), palette=\"Set2\", legend=False)\n",
    "plt.xlabel(\"Class (0 = Negative, 1 = Positive)\")\n",
    "plt.ylabel(\"Number of Images\")\n",
    "plt.title(\"Training Dataset: Positive vs. Negative Cases\")\n",
    "plt.xticks([0, 1], [\"Negative\", \"Positive\"])\n",
    "plt.show()"
   ]
  },
  {
   "cell_type": "markdown",
   "id": "90abc336-57c6-47ca-96bb-a09c3773ecea",
   "metadata": {},
   "source": [
    "### GAN"
   ]
  },
  {
   "cell_type": "code",
   "execution_count": 1,
   "id": "5ebe937d-f814-4239-adc6-dcae3dce6a6a",
   "metadata": {},
   "outputs": [
    {
     "name": "stdout",
     "output_type": "stream",
     "text": [
      "Using device: cuda\n"
     ]
    }
   ],
   "source": [
    "import os\n",
    "import torch\n",
    "import torch.nn as nn\n",
    "import torch.optim as optim\n",
    "from torch.utils.data import Dataset, DataLoader\n",
    "import torchvision.transforms as transforms\n",
    "from PIL import Image\n",
    "import pandas as pd\n",
    "import numpy as np\n",
    "from tqdm import tqdm\n",
    "import gc\n",
    "\n",
    "# Set device\n",
    "device = torch.device(\"cuda\" if torch.cuda.is_available() else \"cpu\")\n",
    "print(f\"Using device: {device}\")\n",
    "\n",
    "# Set environment variable to avoid memory fragmentation\n",
    "os.environ[\"PYTORCH_CUDA_ALLOC_CONF\"] = \"expandable_segments:True\"\n",
    "\n",
    "# Create directories for checkpoints and synthetic images\n",
    "os.makedirs(\"MURA-v1.1/checkpoints\", exist_ok=True)\n",
    "os.makedirs(\"MURA-v1.1/synthetic\", exist_ok=True)\n",
    "os.makedirs(\"MURA-v1.1/synthetic/samples\", exist_ok=True)"
   ]
  },
  {
   "cell_type": "code",
   "execution_count": 2,
   "id": "96fc8ff8-b44e-4d3e-b31d-d9bd64381e9f",
   "metadata": {},
   "outputs": [
    {
     "name": "stdout",
     "output_type": "stream",
     "text": [
      "Total images: 36808\n",
      "                                          image_path  label     category\n",
      "0  MURA-v1.1/train/XR_SHOULDER/patient00001/study...      1  XR_SHOULDER\n",
      "1  MURA-v1.1/train/XR_SHOULDER/patient00001/study...      1  XR_SHOULDER\n",
      "2  MURA-v1.1/train/XR_SHOULDER/patient00001/study...      1  XR_SHOULDER\n",
      "3  MURA-v1.1/train/XR_SHOULDER/patient00002/study...      1  XR_SHOULDER\n",
      "4  MURA-v1.1/train/XR_SHOULDER/patient00002/study...      1  XR_SHOULDER\n",
      "5  MURA-v1.1/train/XR_SHOULDER/patient00002/study...      1  XR_SHOULDER\n",
      "6  MURA-v1.1/train/XR_SHOULDER/patient00003/study...      1  XR_SHOULDER\n",
      "7  MURA-v1.1/train/XR_SHOULDER/patient00003/study...      1  XR_SHOULDER\n",
      "8  MURA-v1.1/train/XR_SHOULDER/patient00003/study...      1  XR_SHOULDER\n",
      "9  MURA-v1.1/train/XR_SHOULDER/patient00004/study...      1  XR_SHOULDER\n",
      "File exists: MURA-v1.1/train/XR_SHOULDER/patient00001/study1_positive/image1.png\n",
      "File exists: MURA-v1.1/train/XR_SHOULDER/patient00001/study1_positive/image2.png\n",
      "File exists: MURA-v1.1/train/XR_SHOULDER/patient00001/study1_positive/image3.png\n",
      "File exists: MURA-v1.1/train/XR_SHOULDER/patient00002/study1_positive/image1.png\n",
      "File exists: MURA-v1.1/train/XR_SHOULDER/patient00002/study1_positive/image2.png\n"
     ]
    }
   ],
   "source": [
    "# Define transforms\n",
    "transform = transforms.Compose([\n",
    "    transforms.Resize((224, 224)),\n",
    "    transforms.ToTensor(),\n",
    "    transforms.Normalize(mean=[0.5], std=[0.5])  # Scale to [-1, 1]\n",
    "])\n",
    "\n",
    "# Load the dataset (assuming train.csv is provided)\n",
    "df_train_images = pd.read_csv(\"MURA-v1.1/train_image_paths.csv\", header=None, names=[\"image_path\"])\n",
    "# Do not prepend \"MURA-v1.1\" since it's already in the CSV paths\n",
    "df_train_images[\"label\"] = df_train_images[\"image_path\"].apply(lambda x: 1 if \"positive\" in x else 0)\n",
    "df_train_images[\"category\"] = df_train_images[\"image_path\"].apply(lambda x: x.split('/')[2])\n",
    "\n",
    "# Verify the dataset\n",
    "print(f\"Total images: {len(df_train_images)}\")\n",
    "print(df_train_images.head(10))\n",
    "\n",
    "# Verify file existence for the first few paths\n",
    "for path in df_train_images[\"image_path\"].head():\n",
    "    if not os.path.exists(path):\n",
    "        print(f\"File not found: {path}\")\n",
    "    else:\n",
    "        print(f\"File exists: {path}\")"
   ]
  },
  {
   "cell_type": "code",
   "execution_count": 3,
   "id": "554b1f12-39d6-44d2-ac58-97439cf70fd3",
   "metadata": {},
   "outputs": [
    {
     "name": "stdout",
     "output_type": "stream",
     "text": [
      "Category counts: {'XR_SHOULDER': 8379, 'XR_HUMERUS': 1272, 'XR_FINGER': 5106, 'XR_ELBOW': 4931, 'XR_WRIST': 9752, 'XR_FOREARM': 1825, 'XR_HAND': 5543}\n",
      "Target count for balancing: 9752\n"
     ]
    }
   ],
   "source": [
    "# Compute category counts\n",
    "categories = df_train_images[\"category\"].unique()\n",
    "category_counts = {cat: len(df_train_images[df_train_images[\"category\"] == cat]) for cat in categories}\n",
    "print(\"Category counts:\", category_counts)\n",
    "\n",
    "# Target count: maximum number of images in any category\n",
    "target_count = max(category_counts.values())\n",
    "print(f\"Target count for balancing: {target_count}\")"
   ]
  },
  {
   "cell_type": "code",
   "execution_count": 7,
   "id": "cceac9b7-7020-490e-94d7-6bb1b5c07bb0",
   "metadata": {},
   "outputs": [
    {
     "name": "stdout",
     "output_type": "stream",
     "text": [
      "Using device: cuda\n"
     ]
    }
   ],
   "source": [
    "device = torch.device(\"cuda\" if torch.cuda.is_available() else \"cpu\")\n",
    "if torch.cuda.is_available():\n",
    "    torch.cuda.empty_cache()\n",
    "    dummy = torch.zeros(1, device=device)  # Warm-up\n",
    "print(f\"Using device: {device}\")"
   ]
  },
  {
   "cell_type": "code",
   "execution_count": 8,
   "id": "1390367c-f4d2-4144-a77a-e3da8a1ae898",
   "metadata": {},
   "outputs": [
    {
     "name": "stdout",
     "output_type": "stream",
     "text": [
      "PyTorch version: 2.5.1+cu121\n",
      "CUDA available: True\n",
      "CUDA version: 12.1\n",
      "Device name: NVIDIA GeForce RTX 3060\n"
     ]
    }
   ],
   "source": [
    "import torch\n",
    "print(f\"PyTorch version: {torch.__version__}\")\n",
    "print(f\"CUDA available: {torch.cuda.is_available()}\")\n",
    "print(f\"CUDA version: {torch.version.cuda}\")\n",
    "print(f\"Device name: {torch.cuda.get_device_name(0)}\")"
   ]
  },
  {
   "cell_type": "code",
   "execution_count": 4,
   "id": "7a33382c-5bb3-4c25-83b1-61ab6387237c",
   "metadata": {},
   "outputs": [],
   "source": [
    "class GeneratorBlock(nn.Module):\n",
    "    def __init__(self, in_channels, out_channels, initial_block=False):\n",
    "        super(GeneratorBlock, self).__init__()\n",
    "        self.initial_block = initial_block\n",
    "        if initial_block:\n",
    "            self.conv = nn.Sequential(\n",
    "                nn.ConvTranspose2d(in_channels, out_channels, 4, 1, 0),\n",
    "                nn.BatchNorm2d(out_channels),\n",
    "                nn.PReLU()  # Use PReLU to mitigate vanishing gradients\n",
    "            )\n",
    "        else:\n",
    "            self.conv = nn.Sequential(\n",
    "                nn.Upsample(scale_factor=2, mode='nearest'),\n",
    "                nn.Conv2d(in_channels, out_channels, 3, padding=1),\n",
    "                nn.BatchNorm2d(out_channels),\n",
    "                nn.PReLU()\n",
    "            )\n",
    "        self.to_rgb = nn.Conv2d(out_channels, 1, 1)  # 1 channel for grayscale\n",
    "\n",
    "    def forward(self, x):\n",
    "        x = self.conv(x)\n",
    "        rgb = self.to_rgb(x)\n",
    "        return x, rgb\n",
    "\n",
    "class DiscriminatorBlock(nn.Module):\n",
    "    def __init__(self, in_channels, out_channels, initial_block=False):\n",
    "        super(DiscriminatorBlock, self).__init__()\n",
    "        self.initial_block = initial_block\n",
    "        if initial_block:\n",
    "            self.conv = nn.Sequential(\n",
    "                nn.Conv2d(in_channels, out_channels, 4, 1, 0),\n",
    "                nn.LeakyReLU(0.2, inplace=True)\n",
    "            )\n",
    "        else:\n",
    "            self.conv = nn.Sequential(\n",
    "                nn.Conv2d(in_channels, out_channels, 3, stride=2, padding=1),\n",
    "                nn.LeakyReLU(0.2, inplace=True)\n",
    "            )\n",
    "        self.from_rgb = nn.Conv2d(1, in_channels, 1)  # 1 channel for grayscale\n",
    "\n",
    "    def forward(self, x):\n",
    "        x = self.from_rgb(x)\n",
    "        x = self.conv(x)\n",
    "        return x\n",
    "\n",
    "class ProGANGenerator(nn.Module):\n",
    "    def __init__(self, latent_dim, num_classes):\n",
    "        super(ProGANGenerator, self).__init__()\n",
    "        self.latent_dim = latent_dim\n",
    "        self.num_classes = num_classes\n",
    "        self.label_emb = nn.Embedding(num_classes, latent_dim)\n",
    "\n",
    "        # Resolution stages: 4x4, 8x8, 16x16, 32x32, 64x64, 112x112, 224x224\n",
    "        self.blocks = nn.ModuleList([\n",
    "            GeneratorBlock(2 * latent_dim, 512, initial_block=True),  # 4x4\n",
    "            GeneratorBlock(512, 512),  # 8x8\n",
    "            GeneratorBlock(512, 256),  # 16x16\n",
    "            GeneratorBlock(256, 128),  # 32x32\n",
    "            GeneratorBlock(128, 64),   # 64x64\n",
    "            GeneratorBlock(64, 32),    # 112x112\n",
    "            GeneratorBlock(32, 16),    # 224x224\n",
    "        ])\n",
    "        self.current_depth = 0  # Start at 4x4\n",
    "\n",
    "    def forward(self, z, labels, alpha=1.0):\n",
    "        label_embed = self.label_emb(labels)\n",
    "        z = torch.cat([z, label_embed], dim=1)\n",
    "        z = z.view(z.size(0), z.size(1), 1, 1)\n",
    "\n",
    "        x = z\n",
    "        for i in range(self.current_depth + 1):\n",
    "            x, rgb = self.blocks[i](x)\n",
    "            if i == self.current_depth and i > 0:\n",
    "                # Fade-in: blend between the previous resolution and current resolution\n",
    "                _, prev_rgb = self.blocks[i-1](self.blocks[i-1].conv(x))\n",
    "                rgb = (1 - alpha) * prev_rgb + alpha * rgb\n",
    "\n",
    "        return rgb\n",
    "\n",
    "class ProGANDiscriminator(nn.Module):\n",
    "    def __init__(self, num_classes, latent_dim=100):\n",
    "        super(ProGANDiscriminator, self).__init__()\n",
    "        self.num_classes = num_classes\n",
    "        self.latent_dim = latent_dim\n",
    "        self.label_emb = nn.Embedding(num_classes, latent_dim)\n",
    "        self.blocks = nn.ModuleList([\n",
    "            DiscriminatorBlock(16, 32),    # 224x224 -> 112x112\n",
    "            DiscriminatorBlock(32, 64),    # 112x112 -> 64x64\n",
    "            DiscriminatorBlock(64, 128),   # 64x64 -> 32x32\n",
    "            DiscriminatorBlock(128, 256),  # 32x32 -> 16x16\n",
    "            DiscriminatorBlock(256, 512),  # 16x16 -> 8x8\n",
    "            DiscriminatorBlock(512, 512),  # 8x8 -> 4x4\n",
    "            DiscriminatorBlock(512, 512, initial_block=True),  # 4x4 -> 1x1\n",
    "        ])\n",
    "        self.final_layer = nn.Linear(512 + latent_dim, 1)  # Adjusted for label embedding\n",
    "        self.current_depth = 0\n",
    "        self.resolutions = [4, 8, 16, 32, 64, 112, 224]\n",
    "\n",
    "    def forward(self, img, labels, alpha=1.0, current_res=None):\n",
    "        if current_res is None:\n",
    "            raise ValueError(\"current_res must be provided to match the input image resolution\")\n",
    "        \n",
    "        x = img\n",
    "        for i in range(len(self.blocks) - self.current_depth - 1, len(self.blocks)):\n",
    "            if i == len(self.blocks) - self.current_depth - 1 and i < len(self.blocks) - 1:\n",
    "                prev_x = self.blocks[i+1].from_rgb(x)\n",
    "                x = self.blocks[i](x)\n",
    "                x = (1 - alpha) * prev_x + alpha * x\n",
    "            else:\n",
    "                x = self.blocks[i](x)\n",
    "\n",
    "        x = x.view(x.size(0), -1)\n",
    "        label_embed = self.label_emb(labels).view(labels.size(0), -1)\n",
    "        x = torch.cat([x, label_embed], dim=1)\n",
    "        x = self.final_layer(x)\n",
    "        return x"
   ]
  },
  {
   "cell_type": "code",
   "execution_count": 15,
   "id": "a5883177-7797-44e5-9124-0121ada83f2e",
   "metadata": {},
   "outputs": [],
   "source": [
    "class MURADataset(Dataset):\n",
    "    def __init__(self, image_paths, labels, transform=None):\n",
    "        self.image_paths = image_paths\n",
    "        self.labels = labels\n",
    "        self.transform = transform\n",
    "\n",
    "    def __len__(self):\n",
    "        return len(self.image_paths)\n",
    "\n",
    "    def __getitem__(self, idx):\n",
    "        img_path = self.image_paths[idx]\n",
    "        label = self.labels[idx]\n",
    "        image = Image.open(img_path).convert('L')  # Convert to grayscale\n",
    "        if self.transform:\n",
    "            image = self.transform(image)\n",
    "        return image, label\n",
    "\n",
    "def compute_gradient_penalty(discriminator, real_samples, fake_samples, labels, device, current_res):\n",
    "    alpha = torch.rand(real_samples.size(0), 1, 1, 1, device=device)\n",
    "    interpolates = (alpha * real_samples + (1 - alpha) * fake_samples).requires_grad_(True)\n",
    "    d_interpolates = discriminator(interpolates, labels, alpha=1.0, current_res=current_res)\n",
    "    fake = torch.ones(real_samples.size(0), 1, device=device, requires_grad=False)\n",
    "    gradients = torch.autograd.grad(\n",
    "        outputs=d_interpolates,\n",
    "        inputs=interpolates,\n",
    "        grad_outputs=fake,\n",
    "        create_graph=True,\n",
    "        retain_graph=True,\n",
    "        only_inputs=True,\n",
    "    )[0]\n",
    "    gradients = gradients.view(gradients.size(0), -1)\n",
    "    gradient_penalty = ((gradients.norm(2, dim=1) - 1) ** 2).mean()\n",
    "    return gradient_penalty\n",
    "\n",
    "def train_progan(generator, discriminator, dataloader, num_epochs_per_resolution, latent_dim, device, \n",
    "                 save_interval=10, save_dir=\"checkpoints\", minority_label=1, category=\"unknown\", start_depth=0):\n",
    "    g_optimizer = optim.Adam(generator.parameters(), lr=0.001, betas=(0, 0.99))\n",
    "    d_optimizer = optim.Adam(discriminator.parameters(), lr=0.001, betas=(0, 0.99))\n",
    "    lambda_gp = 10\n",
    "\n",
    "    resolutions = [4, 8, 16, 32, 64, 112, 224]\n",
    "    for depth in range(start_depth, len(resolutions)):\n",
    "        generator.current_depth = depth\n",
    "        discriminator.current_depth = depth\n",
    "        resolution = resolutions[depth]\n",
    "        print(f\"\\nTraining at resolution {resolution}x{resolution}\")\n",
    "\n",
    "        current_transform = transforms.Compose([\n",
    "            transforms.Resize((resolution, resolution)),\n",
    "            transforms.ToTensor(),\n",
    "            transforms.Normalize(mean=[0.5], std=[0.5])\n",
    "        ])\n",
    "        dataset = MURADataset(dataloader.dataset.image_paths, dataloader.dataset.labels, transform=current_transform)\n",
    "        current_dataloader = DataLoader(dataset, batch_size=16, shuffle=True, num_workers=0)\n",
    "        print(f\"Dataset size: {len(dataset)}, Batches: {len(current_dataloader)}\")\n",
    "\n",
    "        # Fade-in phase\n",
    "        for alpha in np.linspace(0, 1, num_epochs_per_resolution // 2):\n",
    "            alpha = float(alpha)\n",
    "            print(f\"Fade-in phase, alpha={alpha}\")\n",
    "            for i, (real_imgs, labels) in enumerate(current_dataloader):\n",
    "                real_imgs = real_imgs.to(device)\n",
    "                labels = labels.to(device)\n",
    "                batch_size = real_imgs.size(0)\n",
    "\n",
    "                d_optimizer.zero_grad()\n",
    "                z = torch.randn(batch_size, latent_dim, device=device)\n",
    "                fake_labels = torch.full((batch_size,), minority_label, dtype=torch.long, device=device)\n",
    "                fake_imgs = generator(z, fake_labels, alpha=alpha)\n",
    "\n",
    "                real_validity = discriminator(real_imgs, labels, alpha=alpha, current_res=resolution)\n",
    "                fake_validity = discriminator(fake_imgs.detach(), fake_labels, alpha=alpha, current_res=resolution)\n",
    "                gradient_penalty = compute_gradient_penalty(discriminator, real_imgs, fake_imgs.detach(), \n",
    "                                                          labels, device, current_res=resolution)\n",
    "                d_loss = -torch.mean(real_validity) + torch.mean(fake_validity) + lambda_gp * gradient_penalty\n",
    "                d_loss.backward()\n",
    "                d_optimizer.step()\n",
    "\n",
    "                if i % 5 == 0:\n",
    "                    g_optimizer.zero_grad()\n",
    "                    fake_imgs = generator(z, fake_labels, alpha=alpha)\n",
    "                    fake_validity = discriminator(fake_imgs, fake_labels, alpha=alpha, current_res=resolution)\n",
    "                    g_loss = -torch.mean(fake_validity)\n",
    "                    g_loss.backward()\n",
    "                    g_optimizer.step()\n",
    "\n",
    "        # Stabilization phase\n",
    "        for epoch in range(num_epochs_per_resolution // 2):\n",
    "            # Initialize losses for accumulation (optional, if you want averages)\n",
    "            d_loss_total = 0.0\n",
    "            g_loss_total = 0.0\n",
    "            g_updates = 0\n",
    "\n",
    "            for i, (real_imgs, labels) in enumerate(current_dataloader):\n",
    "                real_imgs = real_imgs.to(device)\n",
    "                labels = labels.to(device)\n",
    "                batch_size = real_imgs.size(0)\n",
    "\n",
    "                d_optimizer.zero_grad()\n",
    "                z = torch.randn(batch_size, latent_dim, device=device)\n",
    "                fake_labels = torch.full((batch_size,), minority_label, dtype=torch.long, device=device)\n",
    "                fake_imgs = generator(z, fake_labels, alpha=1.0)\n",
    "\n",
    "                real_validity = discriminator(real_imgs, labels, alpha=1.0, current_res=resolution)\n",
    "                fake_validity = discriminator(fake_imgs.detach(), fake_labels, alpha=1.0, current_res=resolution)\n",
    "                gradient_penalty = compute_gradient_penalty(discriminator, real_imgs, fake_imgs.detach(), \n",
    "                                                          labels, device, current_res=resolution)\n",
    "                d_loss = -torch.mean(real_validity) + torch.mean(fake_validity) + lambda_gp * gradient_penalty\n",
    "                d_loss.backward()\n",
    "                d_optimizer.step()\n",
    "\n",
    "                # Accumulate discriminator loss (optional)\n",
    "                d_loss_total += d_loss.item()\n",
    "\n",
    "                if i % 5 == 0:\n",
    "                    g_optimizer.zero_grad()\n",
    "                    fake_imgs = generator(z, fake_labels, alpha=1.0)\n",
    "                    fake_validity = discriminator(fake_imgs, fake_labels, alpha=1.0, current_res=resolution)\n",
    "                    g_loss = -torch.mean(fake_validity)\n",
    "                    g_loss.backward()\n",
    "                    g_optimizer.step()\n",
    "                    # Accumulate generator loss (optional)\n",
    "                    g_loss_total += g_loss.item()\n",
    "                    g_updates += 1\n",
    "\n",
    "            # Print once per epoch, after all batches\n",
    "            # Option 1: Last batch losses (simpler)\n",
    "            print(f\"Depth {depth}, Epoch {epoch+1}/{num_epochs_per_resolution//2} completed, D Loss: {d_loss.item():.4f}, G Loss: {g_loss.item():.4f}\")\n",
    "            # Option 2: Average losses (uncomment if preferred)\n",
    "            # avg_d_loss = d_loss_total / len(current_dataloader)\n",
    "            # avg_g_loss = g_loss_total / g_updates if g_updates > 0 else 0.0\n",
    "            # print(f\"Depth {depth}, Epoch {epoch+1}/{num_epochs_per_resolution//2} completed, Avg D Loss: {avg_d_loss:.4f}, Avg G Loss: {avg_g_loss:.4f}\")\n",
    "\n",
    "            # Save sample images every 10 epochs\n",
    "            if (epoch + 1) % 10 == 0:\n",
    "                with torch.no_grad():\n",
    "                    sample_z = torch.randn(5, latent_dim, device=device)\n",
    "                    sample_labels = torch.full((5,), minority_label, dtype=torch.long, device=device)\n",
    "                    sample_imgs = generator(sample_z, sample_labels, alpha=1.0)\n",
    "                    sample_imgs = (sample_imgs * 0.5 + 0.5) * 255\n",
    "                    sample_imgs = sample_imgs.cpu().numpy().astype(np.uint8)\n",
    "                    for j in range(5):\n",
    "                        Image.fromarray(sample_imgs[j, 0], mode='L').save(\n",
    "                            f\"MURA-v1.1/synthetic/samples/{category}_{'positive' if minority_label == 1 else 'negative'}_depth{depth}_epoch{epoch+1}_{j}.png\"\n",
    "                        )\n",
    "\n",
    "        # Save checkpoint\n",
    "        torch.save({\n",
    "            'depth': depth,\n",
    "            'generator_state_dict': generator.state_dict(),\n",
    "            'discriminator_state_dict': discriminator.state_dict(),\n",
    "            'g_optimizer_state_dict': g_optimizer.state_dict(),\n",
    "            'd_optimizer_state_dict': d_optimizer.state_dict(),\n",
    "        }, os.path.join(save_dir, f\"progan_{category}_{'positive' if minority_label == 1 else 'negative'}_depth{depth}.pt\"))"
   ]
  },
  {
   "cell_type": "code",
   "execution_count": 16,
   "id": "1ee2fd0d-1f1c-4836-8990-1b946d9752c7",
   "metadata": {},
   "outputs": [
    {
     "name": "stdout",
     "output_type": "stream",
     "text": [
      "🔍 Pre-balancing check:\n",
      "Total rows in df_train_images: 36808\n",
      "df_train_images head:\n",
      "                                          image_path  label     category\n",
      "0  MURA-v1.1/train/XR_SHOULDER/patient00001/study...      1  XR_SHOULDER\n",
      "1  MURA-v1.1/train/XR_SHOULDER/patient00001/study...      1  XR_SHOULDER\n",
      "2  MURA-v1.1/train/XR_SHOULDER/patient00001/study...      1  XR_SHOULDER\n",
      "3  MURA-v1.1/train/XR_SHOULDER/patient00002/study...      1  XR_SHOULDER\n",
      "4  MURA-v1.1/train/XR_SHOULDER/patient00002/study...      1  XR_SHOULDER\n",
      "Unique categories in df_train_images: ['XR_SHOULDER' 'XR_HUMERUS' 'XR_FINGER' 'XR_ELBOW' 'XR_WRIST' 'XR_FOREARM'\n",
      " 'XR_HAND']\n",
      "Unique labels in df_train_images: [1 0]\n",
      "Categories list from Cell 4: ['XR_SHOULDER' 'XR_HUMERUS' 'XR_FINGER' 'XR_ELBOW' 'XR_WRIST' 'XR_FOREARM'\n",
      " 'XR_HAND']\n",
      "\n",
      "🔍 Balancing body part XR_SHOULDER to target count 9752...\n",
      "Rows for XR_SHOULDER: 8379\n",
      "Sample category_data:\n",
      "                                           image_path  label     category\n",
      "0  MURA-v1.1/train/XR_SHOULDER/patient00001/study...      1  XR_SHOULDER\n",
      "1  MURA-v1.1/train/XR_SHOULDER/patient00001/study...      1  XR_SHOULDER\n",
      "2  MURA-v1.1/train/XR_SHOULDER/patient00001/study...      1  XR_SHOULDER\n",
      "3  MURA-v1.1/train/XR_SHOULDER/patient00002/study...      1  XR_SHOULDER\n",
      "4  MURA-v1.1/train/XR_SHOULDER/patient00002/study...      1  XR_SHOULDER\n",
      "Current Positive: 4168, Negative: 4211\n",
      "Generating 708 synthetic positive images for XR_SHOULDER...\n",
      "No checkpoint found for XR_SHOULDER (positive), starting training from scratch.\n",
      "\n",
      "Training at resolution 4x4\n",
      "Dataset size: 4168, Batches: 261\n",
      "Fade-in phase, alpha=0.0\n",
      "Fade-in phase, alpha=0.02040816326530612\n",
      "Fade-in phase, alpha=0.04081632653061224\n",
      "Fade-in phase, alpha=0.061224489795918366\n",
      "Fade-in phase, alpha=0.08163265306122448\n",
      "Fade-in phase, alpha=0.1020408163265306\n",
      "Fade-in phase, alpha=0.12244897959183673\n",
      "Fade-in phase, alpha=0.14285714285714285\n",
      "Fade-in phase, alpha=0.16326530612244897\n",
      "Fade-in phase, alpha=0.18367346938775508\n",
      "Fade-in phase, alpha=0.2040816326530612\n",
      "Fade-in phase, alpha=0.22448979591836732\n",
      "Fade-in phase, alpha=0.24489795918367346\n",
      "Fade-in phase, alpha=0.26530612244897955\n",
      "Fade-in phase, alpha=0.2857142857142857\n",
      "Fade-in phase, alpha=0.3061224489795918\n",
      "Fade-in phase, alpha=0.32653061224489793\n",
      "Fade-in phase, alpha=0.3469387755102041\n",
      "Fade-in phase, alpha=0.36734693877551017\n",
      "Fade-in phase, alpha=0.3877551020408163\n",
      "Fade-in phase, alpha=0.4081632653061224\n",
      "Fade-in phase, alpha=0.42857142857142855\n",
      "Fade-in phase, alpha=0.44897959183673464\n",
      "Fade-in phase, alpha=0.4693877551020408\n",
      "Fade-in phase, alpha=0.4897959183673469\n",
      "Fade-in phase, alpha=0.5102040816326531\n",
      "Fade-in phase, alpha=0.5306122448979591\n",
      "Fade-in phase, alpha=0.5510204081632653\n",
      "Fade-in phase, alpha=0.5714285714285714\n",
      "Fade-in phase, alpha=0.5918367346938775\n",
      "Fade-in phase, alpha=0.6122448979591836\n",
      "Fade-in phase, alpha=0.6326530612244897\n",
      "Fade-in phase, alpha=0.6530612244897959\n",
      "Fade-in phase, alpha=0.673469387755102\n",
      "Fade-in phase, alpha=0.6938775510204082\n",
      "Fade-in phase, alpha=0.7142857142857142\n",
      "Fade-in phase, alpha=0.7346938775510203\n",
      "Fade-in phase, alpha=0.7551020408163265\n",
      "Fade-in phase, alpha=0.7755102040816326\n",
      "Fade-in phase, alpha=0.7959183673469387\n",
      "Fade-in phase, alpha=0.8163265306122448\n",
      "Fade-in phase, alpha=0.836734693877551\n",
      "Fade-in phase, alpha=0.8571428571428571\n",
      "Fade-in phase, alpha=0.8775510204081632\n",
      "Fade-in phase, alpha=0.8979591836734693\n",
      "Fade-in phase, alpha=0.9183673469387754\n",
      "Fade-in phase, alpha=0.9387755102040816\n",
      "Fade-in phase, alpha=0.9591836734693877\n",
      "Fade-in phase, alpha=0.9795918367346939\n",
      "Fade-in phase, alpha=1.0\n",
      "Depth 0, Epoch 1/50 completed, D Loss: 0.7156, G Loss: 1.8655\n",
      "Depth 0, Epoch 2/50 completed, D Loss: 0.2262, G Loss: 2.0682\n",
      "Depth 0, Epoch 3/50 completed, D Loss: -0.2545, G Loss: 2.0599\n",
      "Depth 0, Epoch 4/50 completed, D Loss: 0.5561, G Loss: 2.6582\n",
      "Depth 0, Epoch 5/50 completed, D Loss: -0.3125, G Loss: 2.0052\n",
      "Depth 0, Epoch 6/50 completed, D Loss: -0.4666, G Loss: 3.1092\n",
      "Depth 0, Epoch 7/50 completed, D Loss: 0.0422, G Loss: 0.7197\n",
      "Depth 0, Epoch 8/50 completed, D Loss: 0.1565, G Loss: 1.9274\n",
      "Depth 0, Epoch 9/50 completed, D Loss: 0.3096, G Loss: 1.3318\n",
      "Depth 0, Epoch 10/50 completed, D Loss: 0.0677, G Loss: 3.1841\n",
      "Depth 0, Epoch 11/50 completed, D Loss: -0.7673, G Loss: 3.1937\n",
      "Depth 0, Epoch 12/50 completed, D Loss: -0.1872, G Loss: 2.1341\n",
      "Depth 0, Epoch 13/50 completed, D Loss: -0.0234, G Loss: 1.1560\n",
      "Depth 0, Epoch 14/50 completed, D Loss: 0.0318, G Loss: 1.6798\n",
      "Depth 0, Epoch 15/50 completed, D Loss: -0.4904, G Loss: 1.4152\n",
      "Depth 0, Epoch 16/50 completed, D Loss: -0.1648, G Loss: 2.4001\n",
      "Depth 0, Epoch 17/50 completed, D Loss: -0.0192, G Loss: 3.0872\n",
      "Depth 0, Epoch 18/50 completed, D Loss: -0.1597, G Loss: 2.9110\n",
      "Depth 0, Epoch 19/50 completed, D Loss: -0.1442, G Loss: 2.2232\n",
      "Depth 0, Epoch 20/50 completed, D Loss: -0.2689, G Loss: 3.8070\n",
      "Depth 0, Epoch 21/50 completed, D Loss: -0.0036, G Loss: 2.8896\n",
      "Depth 0, Epoch 22/50 completed, D Loss: -0.1034, G Loss: 2.7304\n",
      "Depth 0, Epoch 23/50 completed, D Loss: -0.0465, G Loss: 2.4534\n",
      "Depth 0, Epoch 24/50 completed, D Loss: 2.4107, G Loss: 2.6022\n",
      "Depth 0, Epoch 25/50 completed, D Loss: -0.1253, G Loss: 2.2514\n",
      "Depth 0, Epoch 26/50 completed, D Loss: 0.1771, G Loss: 2.6335\n",
      "Depth 0, Epoch 27/50 completed, D Loss: -0.1287, G Loss: 2.0842\n",
      "Depth 0, Epoch 28/50 completed, D Loss: -0.1201, G Loss: 1.9927\n",
      "Depth 0, Epoch 29/50 completed, D Loss: -0.1382, G Loss: 1.8335\n",
      "Depth 0, Epoch 30/50 completed, D Loss: -0.0847, G Loss: 3.4070\n",
      "Depth 0, Epoch 31/50 completed, D Loss: -0.0675, G Loss: 1.7304\n",
      "Depth 0, Epoch 32/50 completed, D Loss: 0.0262, G Loss: 1.5827\n",
      "Depth 0, Epoch 33/50 completed, D Loss: 0.0501, G Loss: 1.8386\n",
      "Depth 0, Epoch 34/50 completed, D Loss: 0.0365, G Loss: 1.4071\n",
      "Depth 0, Epoch 35/50 completed, D Loss: 0.0470, G Loss: 1.8674\n",
      "Depth 0, Epoch 36/50 completed, D Loss: -0.1031, G Loss: 2.3133\n",
      "Depth 0, Epoch 37/50 completed, D Loss: 0.0397, G Loss: 2.8461\n",
      "Depth 0, Epoch 38/50 completed, D Loss: 0.0738, G Loss: 0.4744\n",
      "Depth 0, Epoch 39/50 completed, D Loss: 0.0308, G Loss: 1.8883\n",
      "Depth 0, Epoch 40/50 completed, D Loss: -0.0762, G Loss: 2.6320\n",
      "Depth 0, Epoch 41/50 completed, D Loss: -0.0578, G Loss: 2.4175\n",
      "Depth 0, Epoch 42/50 completed, D Loss: -0.0691, G Loss: 2.0816\n",
      "Depth 0, Epoch 43/50 completed, D Loss: -0.0965, G Loss: 1.7106\n",
      "Depth 0, Epoch 44/50 completed, D Loss: -0.0123, G Loss: 0.8445\n",
      "Depth 0, Epoch 45/50 completed, D Loss: 0.0382, G Loss: 1.0424\n",
      "Depth 0, Epoch 46/50 completed, D Loss: -0.0239, G Loss: 0.7706\n",
      "Depth 0, Epoch 47/50 completed, D Loss: -0.0766, G Loss: 0.9279\n",
      "Depth 0, Epoch 48/50 completed, D Loss: -0.1216, G Loss: 1.4037\n",
      "Depth 0, Epoch 49/50 completed, D Loss: -0.1566, G Loss: 1.8461\n",
      "Depth 0, Epoch 50/50 completed, D Loss: -0.0202, G Loss: 1.1998\n",
      "\n",
      "Training at resolution 8x8\n",
      "Dataset size: 4168, Batches: 261\n",
      "Fade-in phase, alpha=0.0\n"
     ]
    },
    {
     "ename": "RuntimeError",
     "evalue": "Given transposed=1, weight of size [200, 512, 4, 4], expected input[16, 512, 8, 8] to have 200 channels, but got 512 channels instead",
     "output_type": "error",
     "traceback": [
      "\u001b[1;31m---------------------------------------------------------------------------\u001b[0m",
      "\u001b[1;31mRuntimeError\u001b[0m                              Traceback (most recent call last)",
      "Cell \u001b[1;32mIn[16], line 82\u001b[0m\n\u001b[0;32m     80\u001b[0m \u001b[38;5;66;03m# Train ProGAN if not fully trained\u001b[39;00m\n\u001b[0;32m     81\u001b[0m \u001b[38;5;28;01mif\u001b[39;00m start_depth \u001b[38;5;241m<\u001b[39m \u001b[38;5;28mlen\u001b[39m([\u001b[38;5;241m4\u001b[39m, \u001b[38;5;241m8\u001b[39m, \u001b[38;5;241m16\u001b[39m, \u001b[38;5;241m32\u001b[39m, \u001b[38;5;241m64\u001b[39m, \u001b[38;5;241m112\u001b[39m, \u001b[38;5;241m224\u001b[39m]):\n\u001b[1;32m---> 82\u001b[0m     \u001b[43mtrain_progan\u001b[49m\u001b[43m(\u001b[49m\u001b[43mgenerator\u001b[49m\u001b[43m,\u001b[49m\u001b[43m \u001b[49m\u001b[43mdiscriminator\u001b[49m\u001b[43m,\u001b[49m\u001b[43m \u001b[49m\u001b[43mprogan_loader\u001b[49m\u001b[43m,\u001b[49m\u001b[43m \u001b[49m\u001b[43mnum_epochs_per_resolution\u001b[49m\u001b[43m,\u001b[49m\u001b[43m \u001b[49m\u001b[43mlatent_dim\u001b[49m\u001b[43m,\u001b[49m\u001b[43m \u001b[49m\u001b[43mdevice\u001b[49m\u001b[43m,\u001b[49m\n\u001b[0;32m     83\u001b[0m \u001b[43m                 \u001b[49m\u001b[43msave_interval\u001b[49m\u001b[38;5;241;43m=\u001b[39;49m\u001b[43msave_interval\u001b[49m\u001b[43m,\u001b[49m\u001b[43m \u001b[49m\u001b[43msave_dir\u001b[49m\u001b[38;5;241;43m=\u001b[39;49m\u001b[43mcheckpoint_dir\u001b[49m\u001b[43m,\u001b[49m\u001b[43m \u001b[49m\n\u001b[0;32m     84\u001b[0m \u001b[43m                 \u001b[49m\u001b[43mminority_label\u001b[49m\u001b[38;5;241;43m=\u001b[39;49m\u001b[43mminority_label\u001b[49m\u001b[43m,\u001b[49m\u001b[43m \u001b[49m\u001b[43mcategory\u001b[49m\u001b[38;5;241;43m=\u001b[39;49m\u001b[43mcategory\u001b[49m\u001b[43m,\u001b[49m\u001b[43m \u001b[49m\u001b[43mstart_depth\u001b[49m\u001b[38;5;241;43m=\u001b[39;49m\u001b[43mstart_depth\u001b[49m\u001b[43m)\u001b[49m\n\u001b[0;32m     86\u001b[0m \u001b[38;5;66;03m# Generate synthetic positive images in batches\u001b[39;00m\n\u001b[0;32m     87\u001b[0m synthetic_images \u001b[38;5;241m=\u001b[39m []\n",
      "Cell \u001b[1;32mIn[15], line 69\u001b[0m, in \u001b[0;36mtrain_progan\u001b[1;34m(generator, discriminator, dataloader, num_epochs_per_resolution, latent_dim, device, save_interval, save_dir, minority_label, category, start_depth)\u001b[0m\n\u001b[0;32m     67\u001b[0m z \u001b[38;5;241m=\u001b[39m torch\u001b[38;5;241m.\u001b[39mrandn(batch_size, latent_dim, device\u001b[38;5;241m=\u001b[39mdevice)\n\u001b[0;32m     68\u001b[0m fake_labels \u001b[38;5;241m=\u001b[39m torch\u001b[38;5;241m.\u001b[39mfull((batch_size,), minority_label, dtype\u001b[38;5;241m=\u001b[39mtorch\u001b[38;5;241m.\u001b[39mlong, device\u001b[38;5;241m=\u001b[39mdevice)\n\u001b[1;32m---> 69\u001b[0m fake_imgs \u001b[38;5;241m=\u001b[39m \u001b[43mgenerator\u001b[49m\u001b[43m(\u001b[49m\u001b[43mz\u001b[49m\u001b[43m,\u001b[49m\u001b[43m \u001b[49m\u001b[43mfake_labels\u001b[49m\u001b[43m,\u001b[49m\u001b[43m \u001b[49m\u001b[43malpha\u001b[49m\u001b[38;5;241;43m=\u001b[39;49m\u001b[43malpha\u001b[49m\u001b[43m)\u001b[49m\n\u001b[0;32m     71\u001b[0m real_validity \u001b[38;5;241m=\u001b[39m discriminator(real_imgs, labels, alpha\u001b[38;5;241m=\u001b[39malpha, current_res\u001b[38;5;241m=\u001b[39mresolution)\n\u001b[0;32m     72\u001b[0m fake_validity \u001b[38;5;241m=\u001b[39m discriminator(fake_imgs\u001b[38;5;241m.\u001b[39mdetach(), fake_labels, alpha\u001b[38;5;241m=\u001b[39malpha, current_res\u001b[38;5;241m=\u001b[39mresolution)\n",
      "File \u001b[1;32m~\\AppData\\Local\\Programs\\Python\\Python310\\lib\\site-packages\\torch\\nn\\modules\\module.py:1736\u001b[0m, in \u001b[0;36mModule._wrapped_call_impl\u001b[1;34m(self, *args, **kwargs)\u001b[0m\n\u001b[0;32m   1734\u001b[0m     \u001b[38;5;28;01mreturn\u001b[39;00m \u001b[38;5;28mself\u001b[39m\u001b[38;5;241m.\u001b[39m_compiled_call_impl(\u001b[38;5;241m*\u001b[39margs, \u001b[38;5;241m*\u001b[39m\u001b[38;5;241m*\u001b[39mkwargs)  \u001b[38;5;66;03m# type: ignore[misc]\u001b[39;00m\n\u001b[0;32m   1735\u001b[0m \u001b[38;5;28;01melse\u001b[39;00m:\n\u001b[1;32m-> 1736\u001b[0m     \u001b[38;5;28;01mreturn\u001b[39;00m \u001b[38;5;28mself\u001b[39m\u001b[38;5;241m.\u001b[39m_call_impl(\u001b[38;5;241m*\u001b[39margs, \u001b[38;5;241m*\u001b[39m\u001b[38;5;241m*\u001b[39mkwargs)\n",
      "File \u001b[1;32m~\\AppData\\Local\\Programs\\Python\\Python310\\lib\\site-packages\\torch\\nn\\modules\\module.py:1747\u001b[0m, in \u001b[0;36mModule._call_impl\u001b[1;34m(self, *args, **kwargs)\u001b[0m\n\u001b[0;32m   1742\u001b[0m \u001b[38;5;66;03m# If we don't have any hooks, we want to skip the rest of the logic in\u001b[39;00m\n\u001b[0;32m   1743\u001b[0m \u001b[38;5;66;03m# this function, and just call forward.\u001b[39;00m\n\u001b[0;32m   1744\u001b[0m \u001b[38;5;28;01mif\u001b[39;00m \u001b[38;5;129;01mnot\u001b[39;00m (\u001b[38;5;28mself\u001b[39m\u001b[38;5;241m.\u001b[39m_backward_hooks \u001b[38;5;129;01mor\u001b[39;00m \u001b[38;5;28mself\u001b[39m\u001b[38;5;241m.\u001b[39m_backward_pre_hooks \u001b[38;5;129;01mor\u001b[39;00m \u001b[38;5;28mself\u001b[39m\u001b[38;5;241m.\u001b[39m_forward_hooks \u001b[38;5;129;01mor\u001b[39;00m \u001b[38;5;28mself\u001b[39m\u001b[38;5;241m.\u001b[39m_forward_pre_hooks\n\u001b[0;32m   1745\u001b[0m         \u001b[38;5;129;01mor\u001b[39;00m _global_backward_pre_hooks \u001b[38;5;129;01mor\u001b[39;00m _global_backward_hooks\n\u001b[0;32m   1746\u001b[0m         \u001b[38;5;129;01mor\u001b[39;00m _global_forward_hooks \u001b[38;5;129;01mor\u001b[39;00m _global_forward_pre_hooks):\n\u001b[1;32m-> 1747\u001b[0m     \u001b[38;5;28;01mreturn\u001b[39;00m forward_call(\u001b[38;5;241m*\u001b[39margs, \u001b[38;5;241m*\u001b[39m\u001b[38;5;241m*\u001b[39mkwargs)\n\u001b[0;32m   1749\u001b[0m result \u001b[38;5;241m=\u001b[39m \u001b[38;5;28;01mNone\u001b[39;00m\n\u001b[0;32m   1750\u001b[0m called_always_called_hooks \u001b[38;5;241m=\u001b[39m \u001b[38;5;28mset\u001b[39m()\n",
      "Cell \u001b[1;32mIn[4], line 75\u001b[0m, in \u001b[0;36mProGANGenerator.forward\u001b[1;34m(self, z, labels, alpha)\u001b[0m\n\u001b[0;32m     72\u001b[0m     x, rgb \u001b[38;5;241m=\u001b[39m \u001b[38;5;28mself\u001b[39m\u001b[38;5;241m.\u001b[39mblocks[i](x)\n\u001b[0;32m     73\u001b[0m     \u001b[38;5;28;01mif\u001b[39;00m i \u001b[38;5;241m==\u001b[39m \u001b[38;5;28mself\u001b[39m\u001b[38;5;241m.\u001b[39mcurrent_depth \u001b[38;5;129;01mand\u001b[39;00m i \u001b[38;5;241m>\u001b[39m \u001b[38;5;241m0\u001b[39m:\n\u001b[0;32m     74\u001b[0m         \u001b[38;5;66;03m# Fade-in: blend between the previous resolution and current resolution\u001b[39;00m\n\u001b[1;32m---> 75\u001b[0m         _, prev_rgb \u001b[38;5;241m=\u001b[39m \u001b[38;5;28mself\u001b[39m\u001b[38;5;241m.\u001b[39mblocks[i\u001b[38;5;241m-\u001b[39m\u001b[38;5;241m1\u001b[39m](\u001b[38;5;28;43mself\u001b[39;49m\u001b[38;5;241;43m.\u001b[39;49m\u001b[43mblocks\u001b[49m\u001b[43m[\u001b[49m\u001b[43mi\u001b[49m\u001b[38;5;241;43m-\u001b[39;49m\u001b[38;5;241;43m1\u001b[39;49m\u001b[43m]\u001b[49m\u001b[38;5;241;43m.\u001b[39;49m\u001b[43mconv\u001b[49m\u001b[43m(\u001b[49m\u001b[43mx\u001b[49m\u001b[43m)\u001b[49m)\n\u001b[0;32m     76\u001b[0m         rgb \u001b[38;5;241m=\u001b[39m (\u001b[38;5;241m1\u001b[39m \u001b[38;5;241m-\u001b[39m alpha) \u001b[38;5;241m*\u001b[39m prev_rgb \u001b[38;5;241m+\u001b[39m alpha \u001b[38;5;241m*\u001b[39m rgb\n\u001b[0;32m     78\u001b[0m \u001b[38;5;28;01mreturn\u001b[39;00m rgb\n",
      "File \u001b[1;32m~\\AppData\\Local\\Programs\\Python\\Python310\\lib\\site-packages\\torch\\nn\\modules\\module.py:1736\u001b[0m, in \u001b[0;36mModule._wrapped_call_impl\u001b[1;34m(self, *args, **kwargs)\u001b[0m\n\u001b[0;32m   1734\u001b[0m     \u001b[38;5;28;01mreturn\u001b[39;00m \u001b[38;5;28mself\u001b[39m\u001b[38;5;241m.\u001b[39m_compiled_call_impl(\u001b[38;5;241m*\u001b[39margs, \u001b[38;5;241m*\u001b[39m\u001b[38;5;241m*\u001b[39mkwargs)  \u001b[38;5;66;03m# type: ignore[misc]\u001b[39;00m\n\u001b[0;32m   1735\u001b[0m \u001b[38;5;28;01melse\u001b[39;00m:\n\u001b[1;32m-> 1736\u001b[0m     \u001b[38;5;28;01mreturn\u001b[39;00m \u001b[38;5;28mself\u001b[39m\u001b[38;5;241m.\u001b[39m_call_impl(\u001b[38;5;241m*\u001b[39margs, \u001b[38;5;241m*\u001b[39m\u001b[38;5;241m*\u001b[39mkwargs)\n",
      "File \u001b[1;32m~\\AppData\\Local\\Programs\\Python\\Python310\\lib\\site-packages\\torch\\nn\\modules\\module.py:1747\u001b[0m, in \u001b[0;36mModule._call_impl\u001b[1;34m(self, *args, **kwargs)\u001b[0m\n\u001b[0;32m   1742\u001b[0m \u001b[38;5;66;03m# If we don't have any hooks, we want to skip the rest of the logic in\u001b[39;00m\n\u001b[0;32m   1743\u001b[0m \u001b[38;5;66;03m# this function, and just call forward.\u001b[39;00m\n\u001b[0;32m   1744\u001b[0m \u001b[38;5;28;01mif\u001b[39;00m \u001b[38;5;129;01mnot\u001b[39;00m (\u001b[38;5;28mself\u001b[39m\u001b[38;5;241m.\u001b[39m_backward_hooks \u001b[38;5;129;01mor\u001b[39;00m \u001b[38;5;28mself\u001b[39m\u001b[38;5;241m.\u001b[39m_backward_pre_hooks \u001b[38;5;129;01mor\u001b[39;00m \u001b[38;5;28mself\u001b[39m\u001b[38;5;241m.\u001b[39m_forward_hooks \u001b[38;5;129;01mor\u001b[39;00m \u001b[38;5;28mself\u001b[39m\u001b[38;5;241m.\u001b[39m_forward_pre_hooks\n\u001b[0;32m   1745\u001b[0m         \u001b[38;5;129;01mor\u001b[39;00m _global_backward_pre_hooks \u001b[38;5;129;01mor\u001b[39;00m _global_backward_hooks\n\u001b[0;32m   1746\u001b[0m         \u001b[38;5;129;01mor\u001b[39;00m _global_forward_hooks \u001b[38;5;129;01mor\u001b[39;00m _global_forward_pre_hooks):\n\u001b[1;32m-> 1747\u001b[0m     \u001b[38;5;28;01mreturn\u001b[39;00m forward_call(\u001b[38;5;241m*\u001b[39margs, \u001b[38;5;241m*\u001b[39m\u001b[38;5;241m*\u001b[39mkwargs)\n\u001b[0;32m   1749\u001b[0m result \u001b[38;5;241m=\u001b[39m \u001b[38;5;28;01mNone\u001b[39;00m\n\u001b[0;32m   1750\u001b[0m called_always_called_hooks \u001b[38;5;241m=\u001b[39m \u001b[38;5;28mset\u001b[39m()\n",
      "File \u001b[1;32m~\\AppData\\Local\\Programs\\Python\\Python310\\lib\\site-packages\\torch\\nn\\modules\\container.py:250\u001b[0m, in \u001b[0;36mSequential.forward\u001b[1;34m(self, input)\u001b[0m\n\u001b[0;32m    248\u001b[0m \u001b[38;5;28;01mdef\u001b[39;00m\u001b[38;5;250m \u001b[39m\u001b[38;5;21mforward\u001b[39m(\u001b[38;5;28mself\u001b[39m, \u001b[38;5;28minput\u001b[39m):\n\u001b[0;32m    249\u001b[0m     \u001b[38;5;28;01mfor\u001b[39;00m module \u001b[38;5;129;01min\u001b[39;00m \u001b[38;5;28mself\u001b[39m:\n\u001b[1;32m--> 250\u001b[0m         \u001b[38;5;28minput\u001b[39m \u001b[38;5;241m=\u001b[39m \u001b[43mmodule\u001b[49m\u001b[43m(\u001b[49m\u001b[38;5;28;43minput\u001b[39;49m\u001b[43m)\u001b[49m\n\u001b[0;32m    251\u001b[0m     \u001b[38;5;28;01mreturn\u001b[39;00m \u001b[38;5;28minput\u001b[39m\n",
      "File \u001b[1;32m~\\AppData\\Local\\Programs\\Python\\Python310\\lib\\site-packages\\torch\\nn\\modules\\module.py:1736\u001b[0m, in \u001b[0;36mModule._wrapped_call_impl\u001b[1;34m(self, *args, **kwargs)\u001b[0m\n\u001b[0;32m   1734\u001b[0m     \u001b[38;5;28;01mreturn\u001b[39;00m \u001b[38;5;28mself\u001b[39m\u001b[38;5;241m.\u001b[39m_compiled_call_impl(\u001b[38;5;241m*\u001b[39margs, \u001b[38;5;241m*\u001b[39m\u001b[38;5;241m*\u001b[39mkwargs)  \u001b[38;5;66;03m# type: ignore[misc]\u001b[39;00m\n\u001b[0;32m   1735\u001b[0m \u001b[38;5;28;01melse\u001b[39;00m:\n\u001b[1;32m-> 1736\u001b[0m     \u001b[38;5;28;01mreturn\u001b[39;00m \u001b[38;5;28mself\u001b[39m\u001b[38;5;241m.\u001b[39m_call_impl(\u001b[38;5;241m*\u001b[39margs, \u001b[38;5;241m*\u001b[39m\u001b[38;5;241m*\u001b[39mkwargs)\n",
      "File \u001b[1;32m~\\AppData\\Local\\Programs\\Python\\Python310\\lib\\site-packages\\torch\\nn\\modules\\module.py:1747\u001b[0m, in \u001b[0;36mModule._call_impl\u001b[1;34m(self, *args, **kwargs)\u001b[0m\n\u001b[0;32m   1742\u001b[0m \u001b[38;5;66;03m# If we don't have any hooks, we want to skip the rest of the logic in\u001b[39;00m\n\u001b[0;32m   1743\u001b[0m \u001b[38;5;66;03m# this function, and just call forward.\u001b[39;00m\n\u001b[0;32m   1744\u001b[0m \u001b[38;5;28;01mif\u001b[39;00m \u001b[38;5;129;01mnot\u001b[39;00m (\u001b[38;5;28mself\u001b[39m\u001b[38;5;241m.\u001b[39m_backward_hooks \u001b[38;5;129;01mor\u001b[39;00m \u001b[38;5;28mself\u001b[39m\u001b[38;5;241m.\u001b[39m_backward_pre_hooks \u001b[38;5;129;01mor\u001b[39;00m \u001b[38;5;28mself\u001b[39m\u001b[38;5;241m.\u001b[39m_forward_hooks \u001b[38;5;129;01mor\u001b[39;00m \u001b[38;5;28mself\u001b[39m\u001b[38;5;241m.\u001b[39m_forward_pre_hooks\n\u001b[0;32m   1745\u001b[0m         \u001b[38;5;129;01mor\u001b[39;00m _global_backward_pre_hooks \u001b[38;5;129;01mor\u001b[39;00m _global_backward_hooks\n\u001b[0;32m   1746\u001b[0m         \u001b[38;5;129;01mor\u001b[39;00m _global_forward_hooks \u001b[38;5;129;01mor\u001b[39;00m _global_forward_pre_hooks):\n\u001b[1;32m-> 1747\u001b[0m     \u001b[38;5;28;01mreturn\u001b[39;00m forward_call(\u001b[38;5;241m*\u001b[39margs, \u001b[38;5;241m*\u001b[39m\u001b[38;5;241m*\u001b[39mkwargs)\n\u001b[0;32m   1749\u001b[0m result \u001b[38;5;241m=\u001b[39m \u001b[38;5;28;01mNone\u001b[39;00m\n\u001b[0;32m   1750\u001b[0m called_always_called_hooks \u001b[38;5;241m=\u001b[39m \u001b[38;5;28mset\u001b[39m()\n",
      "File \u001b[1;32m~\\AppData\\Local\\Programs\\Python\\Python310\\lib\\site-packages\\torch\\nn\\modules\\conv.py:1162\u001b[0m, in \u001b[0;36mConvTranspose2d.forward\u001b[1;34m(self, input, output_size)\u001b[0m\n\u001b[0;32m   1151\u001b[0m num_spatial_dims \u001b[38;5;241m=\u001b[39m \u001b[38;5;241m2\u001b[39m\n\u001b[0;32m   1152\u001b[0m output_padding \u001b[38;5;241m=\u001b[39m \u001b[38;5;28mself\u001b[39m\u001b[38;5;241m.\u001b[39m_output_padding(\n\u001b[0;32m   1153\u001b[0m     \u001b[38;5;28minput\u001b[39m,\n\u001b[0;32m   1154\u001b[0m     output_size,\n\u001b[1;32m   (...)\u001b[0m\n\u001b[0;32m   1159\u001b[0m     \u001b[38;5;28mself\u001b[39m\u001b[38;5;241m.\u001b[39mdilation,  \u001b[38;5;66;03m# type: ignore[arg-type]\u001b[39;00m\n\u001b[0;32m   1160\u001b[0m )\n\u001b[1;32m-> 1162\u001b[0m \u001b[38;5;28;01mreturn\u001b[39;00m \u001b[43mF\u001b[49m\u001b[38;5;241;43m.\u001b[39;49m\u001b[43mconv_transpose2d\u001b[49m\u001b[43m(\u001b[49m\n\u001b[0;32m   1163\u001b[0m \u001b[43m    \u001b[49m\u001b[38;5;28;43minput\u001b[39;49m\u001b[43m,\u001b[49m\n\u001b[0;32m   1164\u001b[0m \u001b[43m    \u001b[49m\u001b[38;5;28;43mself\u001b[39;49m\u001b[38;5;241;43m.\u001b[39;49m\u001b[43mweight\u001b[49m\u001b[43m,\u001b[49m\n\u001b[0;32m   1165\u001b[0m \u001b[43m    \u001b[49m\u001b[38;5;28;43mself\u001b[39;49m\u001b[38;5;241;43m.\u001b[39;49m\u001b[43mbias\u001b[49m\u001b[43m,\u001b[49m\n\u001b[0;32m   1166\u001b[0m \u001b[43m    \u001b[49m\u001b[38;5;28;43mself\u001b[39;49m\u001b[38;5;241;43m.\u001b[39;49m\u001b[43mstride\u001b[49m\u001b[43m,\u001b[49m\n\u001b[0;32m   1167\u001b[0m \u001b[43m    \u001b[49m\u001b[38;5;28;43mself\u001b[39;49m\u001b[38;5;241;43m.\u001b[39;49m\u001b[43mpadding\u001b[49m\u001b[43m,\u001b[49m\n\u001b[0;32m   1168\u001b[0m \u001b[43m    \u001b[49m\u001b[43moutput_padding\u001b[49m\u001b[43m,\u001b[49m\n\u001b[0;32m   1169\u001b[0m \u001b[43m    \u001b[49m\u001b[38;5;28;43mself\u001b[39;49m\u001b[38;5;241;43m.\u001b[39;49m\u001b[43mgroups\u001b[49m\u001b[43m,\u001b[49m\n\u001b[0;32m   1170\u001b[0m \u001b[43m    \u001b[49m\u001b[38;5;28;43mself\u001b[39;49m\u001b[38;5;241;43m.\u001b[39;49m\u001b[43mdilation\u001b[49m\u001b[43m,\u001b[49m\n\u001b[0;32m   1171\u001b[0m \u001b[43m\u001b[49m\u001b[43m)\u001b[49m\n",
      "\u001b[1;31mRuntimeError\u001b[0m: Given transposed=1, weight of size [200, 512, 4, 4], expected input[16, 512, 8, 8] to have 200 channels, but got 512 channels instead"
     ]
    }
   ],
   "source": [
    "# Hyperparameters\n",
    "latent_dim = 100\n",
    "num_epochs_per_resolution = 100  # Total epochs = 100 * 7 resolutions = 700\n",
    "batch_size = 16\n",
    "save_interval = 10\n",
    "checkpoint_dir = \"MURA-v1.1/checkpoints\"\n",
    "generation_batch_size = 64\n",
    "\n",
    "# Dictionary to store synthetic image paths\n",
    "synthetic_data = []\n",
    "\n",
    "# Debugging: Inspect state before balancing\n",
    "print(\"🔍 Pre-balancing check:\")\n",
    "print(f\"Total rows in df_train_images: {len(df_train_images)}\")\n",
    "print(f\"df_train_images head:\\n{df_train_images.head()}\")\n",
    "print(f\"Unique categories in df_train_images: {df_train_images['category'].unique()}\")\n",
    "print(f\"Unique labels in df_train_images: {df_train_images['label'].unique()}\")\n",
    "print(f\"Categories list from Cell 4: {categories}\")\n",
    "\n",
    "# For each category, balance to target count with equal positive/negative\n",
    "for category in categories:\n",
    "    print(f\"\\n🔍 Balancing body part {category} to target count {target_count}...\")\n",
    "    \n",
    "    # Get current positive and negative counts\n",
    "    category_data = df_train_images[df_train_images[\"category\"] == category]\n",
    "    print(f\"Rows for {category}: {len(category_data)}\")\n",
    "    print(f\"Sample category_data:\\n\", category_data.head() if not category_data.empty else \"Empty\")\n",
    "    positive_count = len(category_data[category_data[\"label\"] == 1])\n",
    "    negative_count = len(category_data[category_data[\"label\"] == 0])\n",
    "    print(f\"Current Positive: {positive_count}, Negative: {negative_count}\")\n",
    "\n",
    "    # Calculate target counts for positive and negative\n",
    "    target_positive = target_negative = target_count // 2\n",
    "    current_total = positive_count + negative_count\n",
    "\n",
    "    # If already at or above target, ensure equal positive/negative within target count\n",
    "    if current_total >= target_count:\n",
    "        if positive_count > target_positive:\n",
    "            num_synthetic_positive = 0\n",
    "            num_synthetic_negative = target_negative - negative_count\n",
    "        elif negative_count > target_negative:\n",
    "            num_synthetic_positive = target_positive - positive_count\n",
    "            num_synthetic_negative = 0\n",
    "        else:\n",
    "            num_synthetic_positive = target_positive - positive_count\n",
    "            num_synthetic_negative = target_negative - negative_count\n",
    "    else:\n",
    "        num_synthetic_positive = target_positive - positive_count\n",
    "        num_synthetic_negative = target_negative - negative_count\n",
    "\n",
    "    # Generate synthetic images for positive if needed\n",
    "    if num_synthetic_positive > 0:\n",
    "        print(f\"Generating {num_synthetic_positive} synthetic positive images for {category}...\")\n",
    "        minority_label = 1  # Positive\n",
    "        minority_images = category_data[category_data[\"label\"] == minority_label][\"image_path\"].tolist()\n",
    "        minority_labels = [minority_label] * len(minority_images)\n",
    "        progan_dataset = MURADataset(minority_images, minority_labels, transform=transform)\n",
    "        progan_loader = DataLoader(progan_dataset, batch_size=batch_size, shuffle=True, num_workers=0)\n",
    "\n",
    "        # Initialize models\n",
    "        generator = ProGANGenerator(latent_dim, num_classes=2).to(device)\n",
    "        discriminator = ProGANDiscriminator(num_classes=2, latent_dim=latent_dim).to(device)\n",
    "        g_optimizer = optim.Adam(generator.parameters(), lr=0.001, betas=(0, 0.99))\n",
    "        d_optimizer = optim.Adam(discriminator.parameters(), lr=0.001, betas=(0, 0.99))\n",
    "\n",
    "        # Check for existing checkpoint to resume\n",
    "        checkpoint_path = os.path.join(checkpoint_dir, f\"progan_{category}_positive_depth{len([4, 8, 16, 32, 64, 112, 224])-1}.pt\")\n",
    "        start_depth = 0\n",
    "        if os.path.exists(checkpoint_path):\n",
    "            checkpoint = torch.load(checkpoint_path)\n",
    "            generator.load_state_dict(checkpoint['generator_state_dict'])\n",
    "            discriminator.load_state_dict(checkpoint['discriminator_state_dict'])\n",
    "            g_optimizer.load_state_dict(checkpoint['g_optimizer_state_dict'])\n",
    "            d_optimizer.load_state_dict(checkpoint['d_optimizer_state_dict'])\n",
    "            start_depth = checkpoint['depth']\n",
    "            print(f\"Resuming training for {category} (positive) from depth {start_depth}\")\n",
    "        else:\n",
    "            print(f\"No checkpoint found for {category} (positive), starting training from scratch.\")\n",
    "\n",
    "        # Train ProGAN if not fully trained\n",
    "        if start_depth < len([4, 8, 16, 32, 64, 112, 224]):\n",
    "            train_progan(generator, discriminator, progan_loader, num_epochs_per_resolution, latent_dim, device,\n",
    "                         save_interval=save_interval, save_dir=checkpoint_dir, \n",
    "                         minority_label=minority_label, category=category, start_depth=start_depth)\n",
    "\n",
    "        # Generate synthetic positive images in batches\n",
    "        synthetic_images = []\n",
    "        synthetic_labels = [minority_label] * num_synthetic_positive\n",
    "        resolutions = [4, 8, 16, 32, 64, 112, 224]\n",
    "        final_res = resolutions[-1]  # Use 224x224 for final generation\n",
    "        for i in range(0, num_synthetic_positive, generation_batch_size):\n",
    "            batch_size = min(generation_batch_size, num_synthetic_positive - i)\n",
    "            batch_labels = torch.tensor(synthetic_labels[i:i + batch_size], dtype=torch.long, device=device)\n",
    "            with torch.no_grad():\n",
    "                z = torch.randn(batch_size, latent_dim, device=device)\n",
    "                batch_images = generator(z, batch_labels, alpha=1.0)\n",
    "                synthetic_images.append(batch_images.cpu())\n",
    "            torch.cuda.empty_cache()\n",
    "            gc.collect()\n",
    "            print(f\"Generated positive batch {i//generation_batch_size + 1}: {batch_size} images\")\n",
    "\n",
    "        # Concatenate all batches\n",
    "        synthetic_images = torch.cat(synthetic_images, dim=0)\n",
    "\n",
    "        # Save synthetic positive images\n",
    "        synthetic_dir = f\"MURA-v1.1/synthetic/{category}/positive\"\n",
    "        os.makedirs(synthetic_dir, exist_ok=True)\n",
    "        for i, img in enumerate(synthetic_images):\n",
    "            img = img.squeeze().numpy()\n",
    "            img = (img * 0.5) + 0.5  # Denormalize\n",
    "            img = (img * 255).astype(np.uint8)\n",
    "            img_path = os.path.join(synthetic_dir, f\"synthetic_{i}.png\")\n",
    "            Image.fromarray(img, mode='L').save(img_path)\n",
    "            synthetic_data.append([img_path, minority_label, category])\n",
    "\n",
    "        # Clear memory\n",
    "        del generator, discriminator, progan_dataset, progan_loader, synthetic_images\n",
    "        torch.cuda.empty_cache()\n",
    "        gc.collect()\n",
    "\n",
    "    # Generate synthetic images for negative if needed\n",
    "    if num_synthetic_negative > 0:\n",
    "        print(f\"Generating {num_synthetic_negative} synthetic negative images for {category}...\")\n",
    "        minority_label = 0  # Negative\n",
    "        minority_images = category_data[category_data[\"label\"] == minority_label][\"image_path\"].tolist()\n",
    "        minority_labels = [minority_label] * len(minority_images)\n",
    "        progan_dataset = MURADataset(minority_images, minority_labels, transform=transform)\n",
    "        progan_loader = DataLoader(progan_dataset, batch_size=batch_size, shuffle=True, num_workers=0)\n",
    "\n",
    "        # Initialize models\n",
    "        generator = ProGANGenerator(latent_dim, num_classes=2).to(device)\n",
    "        discriminator = ProGANDiscriminator(num_classes=2, latent_dim=latent_dim).to(device)\n",
    "        g_optimizer = optim.Adam(generator.parameters(), lr=0.001, betas=(0, 0.99))\n",
    "        d_optimizer = optim.Adam(discriminator.parameters(), lr=0.001, betas=(0, 0.99))\n",
    "\n",
    "        # Check for existing checkpoint to resume\n",
    "        checkpoint_path = os.path.join(checkpoint_dir, f\"progan_{category}_negative_depth{len([4, 8, 16, 32, 64, 112, 224])-1}.pt\")\n",
    "        start_depth = 0\n",
    "        if os.path.exists(checkpoint_path):\n",
    "            checkpoint = torch.load(checkpoint_path)\n",
    "            generator.load_state_dict(checkpoint['generator_state_dict'])\n",
    "            discriminator.load_state_dict(checkpoint['discriminator_state_dict'])\n",
    "            g_optimizer.load_state_dict(checkpoint['g_optimizer_state_dict'])\n",
    "            d_optimizer.load_state_dict(checkpoint['d_optimizer_state_dict'])\n",
    "            start_depth = checkpoint['depth']\n",
    "            print(f\"Resuming training for {category} (negative) from depth {start_depth}\")\n",
    "        else:\n",
    "            print(f\"No checkpoint found for {category} (negative), starting training from scratch.\")\n",
    "\n",
    "        # Train ProGAN if not fully trained\n",
    "        if start_depth < len([4, 8, 16, 32, 64, 112, 224]):\n",
    "            train_progan(generator, discriminator, progan_loader, num_epochs_per_resolution, latent_dim, device,\n",
    "                         save_interval=save_interval, save_dir=checkpoint_dir, \n",
    "                         minority_label=minority_label, category=category, start_depth=start_depth)\n",
    "\n",
    "        # Generate synthetic negative images in batches\n",
    "        synthetic_images = []\n",
    "        synthetic_labels = [minority_label] * num_synthetic_negative\n",
    "        resolutions = [4, 8, 16, 32, 64, 112, 224]\n",
    "        final_res = resolutions[-1]  # Use 224x224 for final generation\n",
    "        for i in range(0, num_synthetic_negative, generation_batch_size):\n",
    "            batch_size = min(generation_batch_size, num_synthetic_negative - i)\n",
    "            batch_labels = torch.tensor(synthetic_labels[i:i + batch_size], dtype=torch.long, device=device)\n",
    "            with torch.no_grad():\n",
    "                z = torch.randn(batch_size, latent_dim, device=device)\n",
    "                batch_images = generator(z, batch_labels, alpha=1.0)\n",
    "                synthetic_images.append(batch_images.cpu())\n",
    "            torch.cuda.empty_cache()\n",
    "            gc.collect()\n",
    "            print(f\"Generated negative batch {i//generation_batch_size + 1}: {batch_size} images\")\n",
    "\n",
    "        # Concatenate all batches\n",
    "        synthetic_images = torch.cat(synthetic_images, dim=0)\n",
    "\n",
    "        # Save synthetic negative images\n",
    "        synthetic_dir = f\"MURA-v1.1/synthetic/{category}/negative\"\n",
    "        os.makedirs(synthetic_dir, exist_ok=True)\n",
    "        for i, img in enumerate(synthetic_images):\n",
    "            img = img.squeeze().numpy()\n",
    "            img = (img * 0.5) + 0.5\n",
    "            img = (img * 255).astype(np.uint8)\n",
    "            img_path = os.path.join(synthetic_dir, f\"synthetic_{i}.png\")\n",
    "            Image.fromarray(img, mode='L').save(img_path)\n",
    "            synthetic_data.append([img_path, minority_label, category])\n",
    "\n",
    "        # Clear memory\n",
    "        del generator, discriminator, progan_dataset, progan_loader, synthetic_images\n",
    "        torch.cuda.empty_cache()\n",
    "        gc.collect()\n",
    "\n",
    "    print(f\"Completed processing for {category}, memory cleared.\")\n",
    "\n",
    "print(\"Positive/Negative balancing complete!\")"
   ]
  },
  {
   "cell_type": "code",
   "execution_count": 32,
   "id": "0dd58f23-021f-4751-9747-cd7db61ac273",
   "metadata": {},
   "outputs": [
    {
     "name": "stdout",
     "output_type": "stream",
     "text": [
      "🔍 Pre-balancing check:\n",
      "Total rows in df_train_images: 36808\n",
      "df_train_images head:\n",
      "                                                   0  label     category\n",
      "0  MURA-v1.1/train/XR_SHOULDER/patient00001/study...      1  XR_SHOULDER\n",
      "1  MURA-v1.1/train/XR_SHOULDER/patient00001/study...      1  XR_SHOULDER\n",
      "2  MURA-v1.1/train/XR_SHOULDER/patient00001/study...      1  XR_SHOULDER\n",
      "3  MURA-v1.1/train/XR_SHOULDER/patient00002/study...      1  XR_SHOULDER\n",
      "4  MURA-v1.1/train/XR_SHOULDER/patient00002/study...      1  XR_SHOULDER\n",
      "Unique categories in df_train_images: ['XR_SHOULDER' 'XR_HUMERUS' 'XR_FINGER' 'XR_ELBOW' 'XR_WRIST' 'XR_FOREARM'\n",
      " 'XR_HAND']\n",
      "Unique labels in df_train_images: [1 0]\n",
      "Categories list from Cell 4: ['XR_ELBOW', 'XR_FINGER', 'XR_FOREARM', 'XR_HAND', 'XR_HUMERUS', 'XR_SHOULDER', 'XR_WRIST']\n",
      "Target count for balancing (largest body part): 9756\n",
      "\n",
      "🔍 Balancing body part XR_ELBOW to target count 9756...\n",
      "Rows for XR_ELBOW: 4931\n",
      "Sample category_data:\n",
      "                                                        0  label  category\n",
      "14757  MURA-v1.1/train/XR_ELBOW/patient04903/study1_p...      1  XR_ELBOW\n",
      "14758  MURA-v1.1/train/XR_ELBOW/patient04904/study1_p...      1  XR_ELBOW\n",
      "14759  MURA-v1.1/train/XR_ELBOW/patient04904/study1_p...      1  XR_ELBOW\n",
      "14760  MURA-v1.1/train/XR_ELBOW/patient04905/study1_p...      1  XR_ELBOW\n",
      "14761  MURA-v1.1/train/XR_ELBOW/patient04905/study1_p...      1  XR_ELBOW\n",
      "Current Positive: 2006, Negative: 2925\n",
      "Generating 2872 synthetic positive images for XR_ELBOW...\n",
      "No checkpoint found for XR_ELBOW (positive), starting training from scratch.\n"
     ]
    },
    {
     "name": "stderr",
     "output_type": "stream",
     "text": [
      "Epoch 1/500: 100%|████████████████| 126/126 [00:39<00:00,  3.23batch/s, D Loss=0.7055, G Loss=0.7947, Mem=1.52/12.88GB]\n"
     ]
    },
    {
     "name": "stdout",
     "output_type": "stream",
     "text": [
      "Epoch 1/500: 100%|█████████████████████████| 126/126 [0:39<00:00, 0.31s/it, D Loss=0.5147, G Loss=1.6813, Mem=1.52/12.88GB]\n",
      "Epoch 1/500, Avg D Loss: 0.5147, Avg G Loss: 1.6813\n",
      "Saved checkpoint: MURA-v1.1/checkpoints\\bagan_XR_ELBOW_positive_epoch1.pt\n"
     ]
    },
    {
     "name": "stderr",
     "output_type": "stream",
     "text": [
      "Epoch 2/500: 100%|████████████████| 126/126 [00:11<00:00, 10.95batch/s, D Loss=0.5165, G Loss=1.0899, Mem=1.52/12.88GB]\n"
     ]
    },
    {
     "name": "stdout",
     "output_type": "stream",
     "text": [
      "Epoch 2/500: 100%|█████████████████████████| 126/126 [0:11<00:00, 0.09s/it, D Loss=0.6413, G Loss=0.8245, Mem=1.52/12.88GB]\n",
      "Epoch 2/500, Avg D Loss: 0.6413, Avg G Loss: 0.8245\n",
      "Saved checkpoint: MURA-v1.1/checkpoints\\bagan_XR_ELBOW_positive_epoch2.pt\n"
     ]
    },
    {
     "name": "stderr",
     "output_type": "stream",
     "text": [
      "Epoch 3/500: 100%|████████████████| 126/126 [00:11<00:00, 11.25batch/s, D Loss=0.6452, G Loss=0.9442, Mem=1.52/12.88GB]\n"
     ]
    },
    {
     "name": "stdout",
     "output_type": "stream",
     "text": [
      "Epoch 3/500: 100%|█████████████████████████| 126/126 [0:11<00:00, 0.09s/it, D Loss=0.6421, G Loss=0.8720, Mem=1.52/12.88GB]\n",
      "Epoch 3/500, Avg D Loss: 0.6421, Avg G Loss: 0.8720\n",
      "Saved checkpoint: MURA-v1.1/checkpoints\\bagan_XR_ELBOW_positive_epoch3.pt\n"
     ]
    },
    {
     "name": "stderr",
     "output_type": "stream",
     "text": [
      "Epoch 4/500: 100%|████████████████| 126/126 [00:11<00:00, 11.35batch/s, D Loss=0.6307, G Loss=0.7062, Mem=1.52/12.88GB]\n"
     ]
    },
    {
     "name": "stdout",
     "output_type": "stream",
     "text": [
      "Epoch 4/500: 100%|█████████████████████████| 126/126 [0:11<00:00, 0.09s/it, D Loss=0.6388, G Loss=0.8540, Mem=1.52/12.88GB]\n",
      "Epoch 4/500, Avg D Loss: 0.6388, Avg G Loss: 0.8540\n",
      "Saved checkpoint: MURA-v1.1/checkpoints\\bagan_XR_ELBOW_positive_epoch4.pt\n"
     ]
    },
    {
     "name": "stderr",
     "output_type": "stream",
     "text": [
      "Epoch 5/500: 100%|████████████████| 126/126 [00:11<00:00, 11.05batch/s, D Loss=0.5860, G Loss=1.1198, Mem=1.52/12.88GB]\n"
     ]
    },
    {
     "name": "stdout",
     "output_type": "stream",
     "text": [
      "Epoch 5/500: 100%|█████████████████████████| 126/126 [0:11<00:00, 0.09s/it, D Loss=0.6185, G Loss=0.9027, Mem=1.52/12.88GB]\n",
      "Epoch 5/500, Avg D Loss: 0.6185, Avg G Loss: 0.9027\n",
      "Saved checkpoint: MURA-v1.1/checkpoints\\bagan_XR_ELBOW_positive_epoch5.pt\n"
     ]
    },
    {
     "name": "stderr",
     "output_type": "stream",
     "text": [
      "Epoch 6/500: 100%|████████████████| 126/126 [00:11<00:00, 10.58batch/s, D Loss=0.6703, G Loss=0.7845, Mem=1.52/12.88GB]\n"
     ]
    },
    {
     "name": "stdout",
     "output_type": "stream",
     "text": [
      "Epoch 6/500: 100%|█████████████████████████| 126/126 [0:11<00:00, 0.09s/it, D Loss=0.6137, G Loss=0.9023, Mem=1.52/12.88GB]\n",
      "Epoch 6/500, Avg D Loss: 0.6137, Avg G Loss: 0.9023\n",
      "Saved checkpoint: MURA-v1.1/checkpoints\\bagan_XR_ELBOW_positive_epoch6.pt\n"
     ]
    },
    {
     "name": "stderr",
     "output_type": "stream",
     "text": [
      "Epoch 7/500: 100%|████████████████| 126/126 [00:11<00:00, 10.63batch/s, D Loss=0.6684, G Loss=0.7393, Mem=1.52/12.88GB]\n"
     ]
    },
    {
     "name": "stdout",
     "output_type": "stream",
     "text": [
      "Epoch 7/500: 100%|█████████████████████████| 126/126 [0:11<00:00, 0.09s/it, D Loss=0.6014, G Loss=0.9516, Mem=1.52/12.88GB]\n",
      "Epoch 7/500, Avg D Loss: 0.6014, Avg G Loss: 0.9516\n",
      "Saved checkpoint: MURA-v1.1/checkpoints\\bagan_XR_ELBOW_positive_epoch7.pt\n"
     ]
    },
    {
     "name": "stderr",
     "output_type": "stream",
     "text": [
      "Epoch 8/500: 100%|████████████████| 126/126 [00:11<00:00, 10.54batch/s, D Loss=0.4767, G Loss=1.1541, Mem=1.52/12.88GB]\n"
     ]
    },
    {
     "name": "stdout",
     "output_type": "stream",
     "text": [
      "Epoch 8/500: 100%|█████████████████████████| 126/126 [0:11<00:00, 0.09s/it, D Loss=0.5713, G Loss=1.0226, Mem=1.52/12.88GB]\n",
      "Epoch 8/500, Avg D Loss: 0.5713, Avg G Loss: 1.0226\n",
      "Saved checkpoint: MURA-v1.1/checkpoints\\bagan_XR_ELBOW_positive_epoch8.pt\n"
     ]
    },
    {
     "name": "stderr",
     "output_type": "stream",
     "text": [
      "Epoch 9/500: 100%|████████████████| 126/126 [00:12<00:00, 10.47batch/s, D Loss=0.4749, G Loss=1.5410, Mem=1.52/12.88GB]\n"
     ]
    },
    {
     "name": "stdout",
     "output_type": "stream",
     "text": [
      "Epoch 9/500: 100%|█████████████████████████| 126/126 [0:12<00:00, 0.10s/it, D Loss=0.5114, G Loss=1.2415, Mem=1.52/12.88GB]\n",
      "Epoch 9/500, Avg D Loss: 0.5114, Avg G Loss: 1.2415\n",
      "Saved checkpoint: MURA-v1.1/checkpoints\\bagan_XR_ELBOW_positive_epoch9.pt\n"
     ]
    },
    {
     "name": "stderr",
     "output_type": "stream",
     "text": [
      "Epoch 10/500: 100%|███████████████| 126/126 [00:11<00:00, 10.73batch/s, D Loss=0.2138, G Loss=2.0992, Mem=1.52/12.88GB]\n"
     ]
    },
    {
     "name": "stdout",
     "output_type": "stream",
     "text": [
      "Epoch 10/500: 100%|█████████████████████████| 126/126 [0:11<00:00, 0.09s/it, D Loss=0.4478, G Loss=1.4692, Mem=1.52/12.88GB]\n",
      "Epoch 10/500, Avg D Loss: 0.4478, Avg G Loss: 1.4692\n",
      "Saved checkpoint: MURA-v1.1/checkpoints\\bagan_XR_ELBOW_positive_epoch10.pt\n",
      "Saved sample images at epoch 10 in MURA-v1.1/synthetic/samples\\XR_ELBOW\\positive\n"
     ]
    },
    {
     "name": "stderr",
     "output_type": "stream",
     "text": [
      "Epoch 11/500: 100%|███████████████| 126/126 [00:11<00:00, 10.59batch/s, D Loss=0.4695, G Loss=0.9453, Mem=1.52/12.88GB]\n"
     ]
    },
    {
     "name": "stdout",
     "output_type": "stream",
     "text": [
      "Epoch 11/500: 100%|█████████████████████████| 126/126 [0:11<00:00, 0.09s/it, D Loss=0.4359, G Loss=1.6027, Mem=1.52/12.88GB]\n",
      "Epoch 11/500, Avg D Loss: 0.4359, Avg G Loss: 1.6027\n",
      "Saved checkpoint: MURA-v1.1/checkpoints\\bagan_XR_ELBOW_positive_epoch11.pt\n"
     ]
    },
    {
     "name": "stderr",
     "output_type": "stream",
     "text": [
      "Epoch 12/500: 100%|███████████████| 126/126 [00:11<00:00, 10.67batch/s, D Loss=0.3617, G Loss=1.5085, Mem=1.52/12.88GB]\n"
     ]
    },
    {
     "name": "stdout",
     "output_type": "stream",
     "text": [
      "Epoch 12/500: 100%|█████████████████████████| 126/126 [0:11<00:00, 0.09s/it, D Loss=0.4304, G Loss=1.6235, Mem=1.52/12.88GB]\n",
      "Epoch 12/500, Avg D Loss: 0.4304, Avg G Loss: 1.6235\n",
      "Saved checkpoint: MURA-v1.1/checkpoints\\bagan_XR_ELBOW_positive_epoch12.pt\n"
     ]
    },
    {
     "name": "stderr",
     "output_type": "stream",
     "text": [
      "Epoch 13/500: 100%|███████████████| 126/126 [00:11<00:00, 11.26batch/s, D Loss=0.4769, G Loss=1.5739, Mem=1.52/12.88GB]\n"
     ]
    },
    {
     "name": "stdout",
     "output_type": "stream",
     "text": [
      "Epoch 13/500: 100%|█████████████████████████| 126/126 [0:11<00:00, 0.09s/it, D Loss=0.4514, G Loss=1.5574, Mem=1.52/12.88GB]\n",
      "Epoch 13/500, Avg D Loss: 0.4514, Avg G Loss: 1.5574\n",
      "Saved checkpoint: MURA-v1.1/checkpoints\\bagan_XR_ELBOW_positive_epoch13.pt\n"
     ]
    },
    {
     "name": "stderr",
     "output_type": "stream",
     "text": [
      "Epoch 14/500: 100%|███████████████| 126/126 [00:11<00:00, 11.08batch/s, D Loss=0.3927, G Loss=2.3143, Mem=1.52/12.88GB]\n"
     ]
    },
    {
     "name": "stdout",
     "output_type": "stream",
     "text": [
      "Epoch 14/500: 100%|█████████████████████████| 126/126 [0:11<00:00, 0.09s/it, D Loss=0.4406, G Loss=1.5814, Mem=1.52/12.88GB]\n",
      "Epoch 14/500, Avg D Loss: 0.4406, Avg G Loss: 1.5814\n",
      "Saved checkpoint: MURA-v1.1/checkpoints\\bagan_XR_ELBOW_positive_epoch14.pt\n"
     ]
    },
    {
     "name": "stderr",
     "output_type": "stream",
     "text": [
      "Epoch 15/500: 100%|███████████████| 126/126 [00:11<00:00, 11.12batch/s, D Loss=0.3003, G Loss=1.7412, Mem=1.52/12.88GB]\n"
     ]
    },
    {
     "name": "stdout",
     "output_type": "stream",
     "text": [
      "Epoch 15/500: 100%|█████████████████████████| 126/126 [0:11<00:00, 0.09s/it, D Loss=0.4244, G Loss=1.6273, Mem=1.52/12.88GB]\n",
      "Epoch 15/500, Avg D Loss: 0.4244, Avg G Loss: 1.6273\n",
      "Saved checkpoint: MURA-v1.1/checkpoints\\bagan_XR_ELBOW_positive_epoch15.pt\n"
     ]
    },
    {
     "name": "stderr",
     "output_type": "stream",
     "text": [
      "Epoch 16/500: 100%|███████████████| 126/126 [00:11<00:00, 11.14batch/s, D Loss=0.3814, G Loss=1.5584, Mem=1.52/12.88GB]\n"
     ]
    },
    {
     "name": "stdout",
     "output_type": "stream",
     "text": [
      "Epoch 16/500: 100%|█████████████████████████| 126/126 [0:11<00:00, 0.09s/it, D Loss=0.4394, G Loss=1.6934, Mem=1.52/12.88GB]\n",
      "Epoch 16/500, Avg D Loss: 0.4394, Avg G Loss: 1.6934\n",
      "Saved checkpoint: MURA-v1.1/checkpoints\\bagan_XR_ELBOW_positive_epoch16.pt\n"
     ]
    },
    {
     "name": "stderr",
     "output_type": "stream",
     "text": [
      "Epoch 17/500: 100%|███████████████| 126/126 [00:11<00:00, 10.97batch/s, D Loss=0.3979, G Loss=1.6542, Mem=1.52/12.88GB]\n"
     ]
    },
    {
     "name": "stdout",
     "output_type": "stream",
     "text": [
      "Epoch 17/500: 100%|█████████████████████████| 126/126 [0:11<00:00, 0.09s/it, D Loss=0.4197, G Loss=1.7155, Mem=1.52/12.88GB]\n",
      "Epoch 17/500, Avg D Loss: 0.4197, Avg G Loss: 1.7155\n",
      "Saved checkpoint: MURA-v1.1/checkpoints\\bagan_XR_ELBOW_positive_epoch17.pt\n"
     ]
    },
    {
     "name": "stderr",
     "output_type": "stream",
     "text": [
      "Epoch 18/500: 100%|███████████████| 126/126 [00:11<00:00, 11.43batch/s, D Loss=0.4036, G Loss=0.7713, Mem=1.52/12.88GB]\n"
     ]
    },
    {
     "name": "stdout",
     "output_type": "stream",
     "text": [
      "Epoch 18/500: 100%|█████████████████████████| 126/126 [0:11<00:00, 0.09s/it, D Loss=0.4127, G Loss=1.7680, Mem=1.52/12.88GB]\n",
      "Epoch 18/500, Avg D Loss: 0.4127, Avg G Loss: 1.7680\n",
      "Saved checkpoint: MURA-v1.1/checkpoints\\bagan_XR_ELBOW_positive_epoch18.pt\n"
     ]
    },
    {
     "name": "stderr",
     "output_type": "stream",
     "text": [
      "Epoch 19/500: 100%|███████████████| 126/126 [00:11<00:00, 11.30batch/s, D Loss=0.3051, G Loss=2.2515, Mem=1.52/12.88GB]\n"
     ]
    },
    {
     "name": "stdout",
     "output_type": "stream",
     "text": [
      "Epoch 19/500: 100%|█████████████████████████| 126/126 [0:11<00:00, 0.09s/it, D Loss=0.4083, G Loss=1.7197, Mem=1.52/12.88GB]\n",
      "Epoch 19/500, Avg D Loss: 0.4083, Avg G Loss: 1.7197\n",
      "Saved checkpoint: MURA-v1.1/checkpoints\\bagan_XR_ELBOW_positive_epoch19.pt\n"
     ]
    },
    {
     "name": "stderr",
     "output_type": "stream",
     "text": [
      "Epoch 20/500: 100%|███████████████| 126/126 [00:11<00:00, 10.83batch/s, D Loss=0.3387, G Loss=1.8929, Mem=1.52/12.88GB]\n"
     ]
    },
    {
     "name": "stdout",
     "output_type": "stream",
     "text": [
      "Epoch 20/500: 100%|█████████████████████████| 126/126 [0:11<00:00, 0.09s/it, D Loss=0.3979, G Loss=1.7798, Mem=1.52/12.88GB]\n",
      "Epoch 20/500, Avg D Loss: 0.3979, Avg G Loss: 1.7798\n",
      "Saved checkpoint: MURA-v1.1/checkpoints\\bagan_XR_ELBOW_positive_epoch20.pt\n",
      "Saved sample images at epoch 20 in MURA-v1.1/synthetic/samples\\XR_ELBOW\\positive\n"
     ]
    },
    {
     "name": "stderr",
     "output_type": "stream",
     "text": [
      "Epoch 21/500: 100%|███████████████| 126/126 [00:11<00:00, 11.16batch/s, D Loss=0.2797, G Loss=2.4368, Mem=1.52/12.88GB]\n"
     ]
    },
    {
     "name": "stdout",
     "output_type": "stream",
     "text": [
      "Epoch 21/500: 100%|█████████████████████████| 126/126 [0:11<00:00, 0.09s/it, D Loss=0.3847, G Loss=1.8695, Mem=1.52/12.88GB]\n",
      "Epoch 21/500, Avg D Loss: 0.3847, Avg G Loss: 1.8695\n",
      "Saved checkpoint: MURA-v1.1/checkpoints\\bagan_XR_ELBOW_positive_epoch21.pt\n"
     ]
    },
    {
     "name": "stderr",
     "output_type": "stream",
     "text": [
      "Epoch 22/500: 100%|███████████████| 126/126 [00:11<00:00, 10.91batch/s, D Loss=0.5592, G Loss=1.2466, Mem=1.52/12.88GB]\n"
     ]
    },
    {
     "name": "stdout",
     "output_type": "stream",
     "text": [
      "Epoch 22/500: 100%|█████████████████████████| 126/126 [0:11<00:00, 0.09s/it, D Loss=0.3821, G Loss=1.8599, Mem=1.52/12.88GB]\n",
      "Epoch 22/500, Avg D Loss: 0.3821, Avg G Loss: 1.8599\n",
      "Saved checkpoint: MURA-v1.1/checkpoints\\bagan_XR_ELBOW_positive_epoch22.pt\n"
     ]
    },
    {
     "name": "stderr",
     "output_type": "stream",
     "text": [
      "Epoch 23/500: 100%|███████████████| 126/126 [00:11<00:00, 11.45batch/s, D Loss=0.2776, G Loss=2.0844, Mem=1.52/12.88GB]\n"
     ]
    },
    {
     "name": "stdout",
     "output_type": "stream",
     "text": [
      "Epoch 23/500: 100%|█████████████████████████| 126/126 [0:11<00:00, 0.09s/it, D Loss=0.3629, G Loss=1.8974, Mem=1.52/12.88GB]\n",
      "Epoch 23/500, Avg D Loss: 0.3629, Avg G Loss: 1.8974\n",
      "Saved checkpoint: MURA-v1.1/checkpoints\\bagan_XR_ELBOW_positive_epoch23.pt\n"
     ]
    },
    {
     "name": "stderr",
     "output_type": "stream",
     "text": [
      "Epoch 24/500: 100%|███████████████| 126/126 [00:11<00:00, 11.40batch/s, D Loss=0.3126, G Loss=1.6292, Mem=1.52/12.88GB]\n"
     ]
    },
    {
     "name": "stdout",
     "output_type": "stream",
     "text": [
      "Epoch 24/500: 100%|█████████████████████████| 126/126 [0:11<00:00, 0.09s/it, D Loss=0.3619, G Loss=2.0355, Mem=1.52/12.88GB]\n",
      "Epoch 24/500, Avg D Loss: 0.3619, Avg G Loss: 2.0355\n",
      "Saved checkpoint: MURA-v1.1/checkpoints\\bagan_XR_ELBOW_positive_epoch24.pt\n"
     ]
    },
    {
     "name": "stderr",
     "output_type": "stream",
     "text": [
      "Epoch 25/500: 100%|███████████████| 126/126 [00:11<00:00, 10.61batch/s, D Loss=0.2651, G Loss=1.3093, Mem=1.52/12.88GB]\n"
     ]
    },
    {
     "name": "stdout",
     "output_type": "stream",
     "text": [
      "Epoch 25/500: 100%|█████████████████████████| 126/126 [0:11<00:00, 0.09s/it, D Loss=0.3515, G Loss=2.0008, Mem=1.52/12.88GB]\n",
      "Epoch 25/500, Avg D Loss: 0.3515, Avg G Loss: 2.0008\n",
      "Saved checkpoint: MURA-v1.1/checkpoints\\bagan_XR_ELBOW_positive_epoch25.pt\n"
     ]
    },
    {
     "name": "stderr",
     "output_type": "stream",
     "text": [
      "Epoch 26/500: 100%|███████████████| 126/126 [00:12<00:00, 10.46batch/s, D Loss=0.3850, G Loss=1.7310, Mem=1.52/12.88GB]\n"
     ]
    },
    {
     "name": "stdout",
     "output_type": "stream",
     "text": [
      "Epoch 26/500: 100%|█████████████████████████| 126/126 [0:12<00:00, 0.10s/it, D Loss=0.3702, G Loss=2.1009, Mem=1.52/12.88GB]\n",
      "Epoch 26/500, Avg D Loss: 0.3702, Avg G Loss: 2.1009\n",
      "Saved checkpoint: MURA-v1.1/checkpoints\\bagan_XR_ELBOW_positive_epoch26.pt\n"
     ]
    },
    {
     "name": "stderr",
     "output_type": "stream",
     "text": [
      "Epoch 27/500: 100%|███████████████| 126/126 [00:12<00:00, 10.11batch/s, D Loss=0.4387, G Loss=1.3185, Mem=1.52/12.88GB]\n"
     ]
    },
    {
     "name": "stdout",
     "output_type": "stream",
     "text": [
      "Epoch 27/500: 100%|█████████████████████████| 126/126 [0:12<00:00, 0.10s/it, D Loss=0.3320, G Loss=2.0717, Mem=1.52/12.88GB]\n",
      "Epoch 27/500, Avg D Loss: 0.3320, Avg G Loss: 2.0717\n",
      "Saved checkpoint: MURA-v1.1/checkpoints\\bagan_XR_ELBOW_positive_epoch27.pt\n"
     ]
    },
    {
     "name": "stderr",
     "output_type": "stream",
     "text": [
      "Epoch 28/500: 100%|███████████████| 126/126 [00:11<00:00, 10.82batch/s, D Loss=0.3531, G Loss=1.6080, Mem=1.52/12.88GB]\n"
     ]
    },
    {
     "name": "stdout",
     "output_type": "stream",
     "text": [
      "Epoch 28/500: 100%|█████████████████████████| 126/126 [0:11<00:00, 0.09s/it, D Loss=0.3219, G Loss=2.1060, Mem=1.52/12.88GB]\n",
      "Epoch 28/500, Avg D Loss: 0.3219, Avg G Loss: 2.1060\n",
      "Saved checkpoint: MURA-v1.1/checkpoints\\bagan_XR_ELBOW_positive_epoch28.pt\n"
     ]
    },
    {
     "name": "stderr",
     "output_type": "stream",
     "text": [
      "Epoch 29/500: 100%|███████████████| 126/126 [00:11<00:00, 11.00batch/s, D Loss=0.3116, G Loss=2.5274, Mem=1.52/12.88GB]\n"
     ]
    },
    {
     "name": "stdout",
     "output_type": "stream",
     "text": [
      "Epoch 29/500: 100%|█████████████████████████| 126/126 [0:11<00:00, 0.09s/it, D Loss=0.3261, G Loss=2.1673, Mem=1.52/12.88GB]\n",
      "Epoch 29/500, Avg D Loss: 0.3261, Avg G Loss: 2.1673\n",
      "Saved checkpoint: MURA-v1.1/checkpoints\\bagan_XR_ELBOW_positive_epoch29.pt\n"
     ]
    },
    {
     "name": "stderr",
     "output_type": "stream",
     "text": [
      "Epoch 30/500: 100%|███████████████| 126/126 [00:11<00:00, 11.45batch/s, D Loss=0.2542, G Loss=1.3058, Mem=1.52/12.88GB]\n"
     ]
    },
    {
     "name": "stdout",
     "output_type": "stream",
     "text": [
      "Epoch 30/500: 100%|█████████████████████████| 126/126 [0:11<00:00, 0.09s/it, D Loss=0.3134, G Loss=2.2184, Mem=1.52/12.88GB]\n",
      "Epoch 30/500, Avg D Loss: 0.3134, Avg G Loss: 2.2184\n",
      "Saved checkpoint: MURA-v1.1/checkpoints\\bagan_XR_ELBOW_positive_epoch30.pt\n",
      "Saved sample images at epoch 30 in MURA-v1.1/synthetic/samples\\XR_ELBOW\\positive\n"
     ]
    },
    {
     "name": "stderr",
     "output_type": "stream",
     "text": [
      "Epoch 31/500: 100%|███████████████| 126/126 [00:11<00:00, 10.81batch/s, D Loss=0.8605, G Loss=0.2293, Mem=1.52/12.88GB]\n"
     ]
    },
    {
     "name": "stdout",
     "output_type": "stream",
     "text": [
      "Epoch 31/500: 100%|█████████████████████████| 126/126 [0:11<00:00, 0.09s/it, D Loss=0.3171, G Loss=2.2422, Mem=1.52/12.88GB]\n",
      "Epoch 31/500, Avg D Loss: 0.3171, Avg G Loss: 2.2422\n",
      "Saved checkpoint: MURA-v1.1/checkpoints\\bagan_XR_ELBOW_positive_epoch31.pt\n"
     ]
    },
    {
     "name": "stderr",
     "output_type": "stream",
     "text": [
      "Epoch 32/500: 100%|███████████████| 126/126 [00:11<00:00, 10.87batch/s, D Loss=0.4564, G Loss=1.2062, Mem=1.52/12.88GB]\n"
     ]
    },
    {
     "name": "stdout",
     "output_type": "stream",
     "text": [
      "Epoch 32/500: 100%|█████████████████████████| 126/126 [0:11<00:00, 0.09s/it, D Loss=0.3261, G Loss=2.0714, Mem=1.52/12.88GB]\n",
      "Epoch 32/500, Avg D Loss: 0.3261, Avg G Loss: 2.0714\n",
      "Saved checkpoint: MURA-v1.1/checkpoints\\bagan_XR_ELBOW_positive_epoch32.pt\n"
     ]
    },
    {
     "name": "stderr",
     "output_type": "stream",
     "text": [
      "Epoch 33/500: 100%|███████████████| 126/126 [00:11<00:00, 11.01batch/s, D Loss=0.1061, G Loss=3.4138, Mem=1.52/12.88GB]\n"
     ]
    },
    {
     "name": "stdout",
     "output_type": "stream",
     "text": [
      "Epoch 33/500: 100%|█████████████████████████| 126/126 [0:11<00:00, 0.09s/it, D Loss=0.3138, G Loss=2.2543, Mem=1.52/12.88GB]\n",
      "Epoch 33/500, Avg D Loss: 0.3138, Avg G Loss: 2.2543\n",
      "Saved checkpoint: MURA-v1.1/checkpoints\\bagan_XR_ELBOW_positive_epoch33.pt\n"
     ]
    },
    {
     "name": "stderr",
     "output_type": "stream",
     "text": [
      "Epoch 34/500: 100%|███████████████| 126/126 [00:11<00:00, 11.05batch/s, D Loss=0.2749, G Loss=2.3531, Mem=1.52/12.88GB]\n"
     ]
    },
    {
     "name": "stdout",
     "output_type": "stream",
     "text": [
      "Epoch 34/500: 100%|█████████████████████████| 126/126 [0:11<00:00, 0.09s/it, D Loss=0.2861, G Loss=2.2261, Mem=1.52/12.88GB]\n",
      "Epoch 34/500, Avg D Loss: 0.2861, Avg G Loss: 2.2261\n",
      "Saved checkpoint: MURA-v1.1/checkpoints\\bagan_XR_ELBOW_positive_epoch34.pt\n"
     ]
    },
    {
     "name": "stderr",
     "output_type": "stream",
     "text": [
      "Epoch 35/500: 100%|███████████████| 126/126 [00:11<00:00, 11.24batch/s, D Loss=0.1345, G Loss=1.9729, Mem=1.52/12.88GB]\n"
     ]
    },
    {
     "name": "stdout",
     "output_type": "stream",
     "text": [
      "Epoch 35/500: 100%|█████████████████████████| 126/126 [0:11<00:00, 0.09s/it, D Loss=0.2938, G Loss=2.2690, Mem=1.52/12.88GB]\n",
      "Epoch 35/500, Avg D Loss: 0.2938, Avg G Loss: 2.2690\n",
      "Saved checkpoint: MURA-v1.1/checkpoints\\bagan_XR_ELBOW_positive_epoch35.pt\n"
     ]
    },
    {
     "name": "stderr",
     "output_type": "stream",
     "text": [
      "Epoch 36/500: 100%|███████████████| 126/126 [00:11<00:00, 11.13batch/s, D Loss=0.1465, G Loss=2.7063, Mem=1.52/12.88GB]\n"
     ]
    },
    {
     "name": "stdout",
     "output_type": "stream",
     "text": [
      "Epoch 36/500: 100%|█████████████████████████| 126/126 [0:11<00:00, 0.09s/it, D Loss=0.2841, G Loss=2.2828, Mem=1.52/12.88GB]\n",
      "Epoch 36/500, Avg D Loss: 0.2841, Avg G Loss: 2.2828\n",
      "Saved checkpoint: MURA-v1.1/checkpoints\\bagan_XR_ELBOW_positive_epoch36.pt\n"
     ]
    },
    {
     "name": "stderr",
     "output_type": "stream",
     "text": [
      "Epoch 37/500: 100%|███████████████| 126/126 [00:10<00:00, 11.47batch/s, D Loss=0.2710, G Loss=2.4876, Mem=1.52/12.88GB]\n"
     ]
    },
    {
     "name": "stdout",
     "output_type": "stream",
     "text": [
      "Epoch 37/500: 100%|█████████████████████████| 126/126 [0:10<00:00, 0.09s/it, D Loss=0.2825, G Loss=2.3720, Mem=1.52/12.88GB]\n",
      "Epoch 37/500, Avg D Loss: 0.2825, Avg G Loss: 2.3720\n",
      "Saved checkpoint: MURA-v1.1/checkpoints\\bagan_XR_ELBOW_positive_epoch37.pt\n"
     ]
    },
    {
     "name": "stderr",
     "output_type": "stream",
     "text": [
      "Epoch 38/500: 100%|███████████████| 126/126 [00:10<00:00, 11.47batch/s, D Loss=0.1771, G Loss=3.1910, Mem=1.52/12.88GB]\n"
     ]
    },
    {
     "name": "stdout",
     "output_type": "stream",
     "text": [
      "Epoch 38/500: 100%|█████████████████████████| 126/126 [0:10<00:00, 0.09s/it, D Loss=0.2691, G Loss=2.3519, Mem=1.52/12.88GB]\n",
      "Epoch 38/500, Avg D Loss: 0.2691, Avg G Loss: 2.3519\n",
      "Saved checkpoint: MURA-v1.1/checkpoints\\bagan_XR_ELBOW_positive_epoch38.pt\n"
     ]
    },
    {
     "name": "stderr",
     "output_type": "stream",
     "text": [
      "Epoch 39/500: 100%|███████████████| 126/126 [00:11<00:00, 11.01batch/s, D Loss=0.2569, G Loss=2.9895, Mem=1.52/12.88GB]\n"
     ]
    },
    {
     "name": "stdout",
     "output_type": "stream",
     "text": [
      "Epoch 39/500: 100%|█████████████████████████| 126/126 [0:11<00:00, 0.09s/it, D Loss=0.2980, G Loss=2.5004, Mem=1.52/12.88GB]\n",
      "Epoch 39/500, Avg D Loss: 0.2980, Avg G Loss: 2.5004\n",
      "Saved checkpoint: MURA-v1.1/checkpoints\\bagan_XR_ELBOW_positive_epoch39.pt\n"
     ]
    },
    {
     "name": "stderr",
     "output_type": "stream",
     "text": [
      "Epoch 40/500: 100%|███████████████| 126/126 [00:11<00:00, 11.22batch/s, D Loss=0.5226, G Loss=2.6963, Mem=1.52/12.88GB]\n"
     ]
    },
    {
     "name": "stdout",
     "output_type": "stream",
     "text": [
      "Epoch 40/500: 100%|█████████████████████████| 126/126 [0:11<00:00, 0.09s/it, D Loss=0.2695, G Loss=2.3861, Mem=1.52/12.88GB]\n",
      "Epoch 40/500, Avg D Loss: 0.2695, Avg G Loss: 2.3861\n",
      "Saved checkpoint: MURA-v1.1/checkpoints\\bagan_XR_ELBOW_positive_epoch40.pt\n",
      "Saved sample images at epoch 40 in MURA-v1.1/synthetic/samples\\XR_ELBOW\\positive\n"
     ]
    },
    {
     "name": "stderr",
     "output_type": "stream",
     "text": [
      "Epoch 41/500: 100%|███████████████| 126/126 [00:11<00:00, 10.89batch/s, D Loss=0.3051, G Loss=2.9504, Mem=1.52/12.88GB]\n"
     ]
    },
    {
     "name": "stdout",
     "output_type": "stream",
     "text": [
      "Epoch 41/500: 100%|█████████████████████████| 126/126 [0:11<00:00, 0.09s/it, D Loss=0.2670, G Loss=2.4365, Mem=1.52/12.88GB]\n",
      "Epoch 41/500, Avg D Loss: 0.2670, Avg G Loss: 2.4365\n",
      "Saved checkpoint: MURA-v1.1/checkpoints\\bagan_XR_ELBOW_positive_epoch41.pt\n"
     ]
    },
    {
     "name": "stderr",
     "output_type": "stream",
     "text": [
      "Epoch 42/500: 100%|███████████████| 126/126 [00:11<00:00, 11.33batch/s, D Loss=0.4831, G Loss=4.2755, Mem=1.52/12.88GB]\n"
     ]
    },
    {
     "name": "stdout",
     "output_type": "stream",
     "text": [
      "Epoch 42/500: 100%|█████████████████████████| 126/126 [0:11<00:00, 0.09s/it, D Loss=0.2646, G Loss=2.5198, Mem=1.52/12.88GB]\n",
      "Epoch 42/500, Avg D Loss: 0.2646, Avg G Loss: 2.5198\n",
      "Saved checkpoint: MURA-v1.1/checkpoints\\bagan_XR_ELBOW_positive_epoch42.pt\n"
     ]
    },
    {
     "name": "stderr",
     "output_type": "stream",
     "text": [
      "Epoch 43/500: 100%|███████████████| 126/126 [00:11<00:00, 10.69batch/s, D Loss=0.0769, G Loss=3.5221, Mem=1.52/12.88GB]\n"
     ]
    },
    {
     "name": "stdout",
     "output_type": "stream",
     "text": [
      "Epoch 43/500: 100%|█████████████████████████| 126/126 [0:11<00:00, 0.09s/it, D Loss=0.2666, G Loss=2.4791, Mem=1.52/12.88GB]\n",
      "Epoch 43/500, Avg D Loss: 0.2666, Avg G Loss: 2.4791\n",
      "Saved checkpoint: MURA-v1.1/checkpoints\\bagan_XR_ELBOW_positive_epoch43.pt\n"
     ]
    },
    {
     "name": "stderr",
     "output_type": "stream",
     "text": [
      "Epoch 44/500: 100%|███████████████| 126/126 [00:11<00:00, 10.77batch/s, D Loss=0.3243, G Loss=2.0422, Mem=1.52/12.88GB]\n"
     ]
    },
    {
     "name": "stdout",
     "output_type": "stream",
     "text": [
      "Epoch 44/500: 100%|█████████████████████████| 126/126 [0:11<00:00, 0.09s/it, D Loss=0.2688, G Loss=2.5010, Mem=1.52/12.88GB]\n",
      "Epoch 44/500, Avg D Loss: 0.2688, Avg G Loss: 2.5010\n",
      "Saved checkpoint: MURA-v1.1/checkpoints\\bagan_XR_ELBOW_positive_epoch44.pt\n"
     ]
    },
    {
     "name": "stderr",
     "output_type": "stream",
     "text": [
      "Epoch 45/500: 100%|███████████████| 126/126 [00:11<00:00, 10.65batch/s, D Loss=0.2326, G Loss=3.1310, Mem=1.52/12.88GB]\n"
     ]
    },
    {
     "name": "stdout",
     "output_type": "stream",
     "text": [
      "Epoch 45/500: 100%|█████████████████████████| 126/126 [0:11<00:00, 0.09s/it, D Loss=0.2601, G Loss=2.5147, Mem=1.52/12.88GB]\n",
      "Epoch 45/500, Avg D Loss: 0.2601, Avg G Loss: 2.5147\n",
      "Saved checkpoint: MURA-v1.1/checkpoints\\bagan_XR_ELBOW_positive_epoch45.pt\n"
     ]
    },
    {
     "name": "stderr",
     "output_type": "stream",
     "text": [
      "Epoch 46/500: 100%|███████████████| 126/126 [00:11<00:00, 10.92batch/s, D Loss=0.3384, G Loss=3.3794, Mem=1.52/12.88GB]\n"
     ]
    },
    {
     "name": "stdout",
     "output_type": "stream",
     "text": [
      "Epoch 46/500: 100%|█████████████████████████| 126/126 [0:11<00:00, 0.09s/it, D Loss=0.2685, G Loss=2.6323, Mem=1.52/12.88GB]\n",
      "Epoch 46/500, Avg D Loss: 0.2685, Avg G Loss: 2.6323\n",
      "Saved checkpoint: MURA-v1.1/checkpoints\\bagan_XR_ELBOW_positive_epoch46.pt\n"
     ]
    },
    {
     "name": "stderr",
     "output_type": "stream",
     "text": [
      "Epoch 47/500: 100%|███████████████| 126/126 [00:11<00:00, 11.32batch/s, D Loss=0.4606, G Loss=4.5937, Mem=1.52/12.88GB]\n"
     ]
    },
    {
     "name": "stdout",
     "output_type": "stream",
     "text": [
      "Epoch 47/500: 100%|█████████████████████████| 126/126 [0:11<00:00, 0.09s/it, D Loss=0.2583, G Loss=2.4839, Mem=1.52/12.88GB]\n",
      "Epoch 47/500, Avg D Loss: 0.2583, Avg G Loss: 2.4839\n",
      "Saved checkpoint: MURA-v1.1/checkpoints\\bagan_XR_ELBOW_positive_epoch47.pt\n"
     ]
    },
    {
     "name": "stderr",
     "output_type": "stream",
     "text": [
      "Epoch 48/500: 100%|███████████████| 126/126 [00:11<00:00, 10.88batch/s, D Loss=0.2575, G Loss=2.0516, Mem=1.52/12.88GB]\n"
     ]
    },
    {
     "name": "stdout",
     "output_type": "stream",
     "text": [
      "Epoch 48/500: 100%|█████████████████████████| 126/126 [0:11<00:00, 0.09s/it, D Loss=0.2501, G Loss=2.5430, Mem=1.52/12.88GB]\n",
      "Epoch 48/500, Avg D Loss: 0.2501, Avg G Loss: 2.5430\n",
      "Saved checkpoint: MURA-v1.1/checkpoints\\bagan_XR_ELBOW_positive_epoch48.pt\n"
     ]
    },
    {
     "name": "stderr",
     "output_type": "stream",
     "text": [
      "Epoch 49/500: 100%|███████████████| 126/126 [00:11<00:00, 10.56batch/s, D Loss=0.4779, G Loss=2.6616, Mem=1.52/12.88GB]\n"
     ]
    },
    {
     "name": "stdout",
     "output_type": "stream",
     "text": [
      "Epoch 49/500: 100%|█████████████████████████| 126/126 [0:11<00:00, 0.09s/it, D Loss=0.2448, G Loss=2.5974, Mem=1.52/12.88GB]\n",
      "Epoch 49/500, Avg D Loss: 0.2448, Avg G Loss: 2.5974\n",
      "Saved checkpoint: MURA-v1.1/checkpoints\\bagan_XR_ELBOW_positive_epoch49.pt\n"
     ]
    },
    {
     "name": "stderr",
     "output_type": "stream",
     "text": [
      "Epoch 50/500: 100%|███████████████| 126/126 [00:12<00:00, 10.47batch/s, D Loss=0.2012, G Loss=3.0066, Mem=1.52/12.88GB]\n"
     ]
    },
    {
     "name": "stdout",
     "output_type": "stream",
     "text": [
      "Epoch 50/500: 100%|█████████████████████████| 126/126 [0:12<00:00, 0.10s/it, D Loss=0.2486, G Loss=2.6530, Mem=1.52/12.88GB]\n",
      "Epoch 50/500, Avg D Loss: 0.2486, Avg G Loss: 2.6530\n",
      "Saved checkpoint: MURA-v1.1/checkpoints\\bagan_XR_ELBOW_positive_epoch50.pt\n",
      "Saved sample images at epoch 50 in MURA-v1.1/synthetic/samples\\XR_ELBOW\\positive\n"
     ]
    },
    {
     "name": "stderr",
     "output_type": "stream",
     "text": [
      "Epoch 51/500: 100%|███████████████| 126/126 [00:11<00:00, 10.66batch/s, D Loss=0.0540, G Loss=2.9549, Mem=1.52/12.88GB]\n"
     ]
    },
    {
     "name": "stdout",
     "output_type": "stream",
     "text": [
      "Epoch 51/500: 100%|█████████████████████████| 126/126 [0:11<00:00, 0.09s/it, D Loss=0.2513, G Loss=2.6331, Mem=1.52/12.88GB]\n",
      "Epoch 51/500, Avg D Loss: 0.2513, Avg G Loss: 2.6331\n",
      "Saved checkpoint: MURA-v1.1/checkpoints\\bagan_XR_ELBOW_positive_epoch51.pt\n"
     ]
    },
    {
     "name": "stderr",
     "output_type": "stream",
     "text": [
      "Epoch 52/500: 100%|███████████████| 126/126 [00:11<00:00, 10.73batch/s, D Loss=0.4064, G Loss=1.3118, Mem=1.52/12.88GB]\n"
     ]
    },
    {
     "name": "stdout",
     "output_type": "stream",
     "text": [
      "Epoch 52/500: 100%|█████████████████████████| 126/126 [0:11<00:00, 0.09s/it, D Loss=0.2434, G Loss=2.8021, Mem=1.52/12.88GB]\n",
      "Epoch 52/500, Avg D Loss: 0.2434, Avg G Loss: 2.8021\n",
      "Saved checkpoint: MURA-v1.1/checkpoints\\bagan_XR_ELBOW_positive_epoch52.pt\n"
     ]
    },
    {
     "name": "stderr",
     "output_type": "stream",
     "text": [
      "Epoch 53/500: 100%|███████████████| 126/126 [00:11<00:00, 10.69batch/s, D Loss=0.3035, G Loss=1.8019, Mem=1.52/12.88GB]\n"
     ]
    },
    {
     "name": "stdout",
     "output_type": "stream",
     "text": [
      "Epoch 53/500: 100%|█████████████████████████| 126/126 [0:11<00:00, 0.09s/it, D Loss=0.2531, G Loss=2.7028, Mem=1.52/12.88GB]\n",
      "Epoch 53/500, Avg D Loss: 0.2531, Avg G Loss: 2.7028\n",
      "Saved checkpoint: MURA-v1.1/checkpoints\\bagan_XR_ELBOW_positive_epoch53.pt\n"
     ]
    },
    {
     "name": "stderr",
     "output_type": "stream",
     "text": [
      "Epoch 54/500: 100%|███████████████| 126/126 [00:11<00:00, 10.53batch/s, D Loss=0.1518, G Loss=3.2244, Mem=1.52/12.88GB]\n"
     ]
    },
    {
     "name": "stdout",
     "output_type": "stream",
     "text": [
      "Epoch 54/500: 100%|█████████████████████████| 126/126 [0:11<00:00, 0.09s/it, D Loss=0.2514, G Loss=2.6839, Mem=1.52/12.88GB]\n",
      "Epoch 54/500, Avg D Loss: 0.2514, Avg G Loss: 2.6839\n",
      "Saved checkpoint: MURA-v1.1/checkpoints\\bagan_XR_ELBOW_positive_epoch54.pt\n"
     ]
    },
    {
     "name": "stderr",
     "output_type": "stream",
     "text": [
      "Epoch 55/500: 100%|███████████████| 126/126 [00:11<00:00, 10.73batch/s, D Loss=0.1042, G Loss=3.3468, Mem=1.52/12.88GB]\n"
     ]
    },
    {
     "name": "stdout",
     "output_type": "stream",
     "text": [
      "Epoch 55/500: 100%|█████████████████████████| 126/126 [0:11<00:00, 0.09s/it, D Loss=0.2385, G Loss=2.7057, Mem=1.52/12.88GB]\n",
      "Epoch 55/500, Avg D Loss: 0.2385, Avg G Loss: 2.7057\n",
      "Saved checkpoint: MURA-v1.1/checkpoints\\bagan_XR_ELBOW_positive_epoch55.pt\n"
     ]
    },
    {
     "name": "stderr",
     "output_type": "stream",
     "text": [
      "Epoch 56/500: 100%|███████████████| 126/126 [00:11<00:00, 10.60batch/s, D Loss=0.2613, G Loss=1.9486, Mem=1.52/12.88GB]\n"
     ]
    },
    {
     "name": "stdout",
     "output_type": "stream",
     "text": [
      "Epoch 56/500: 100%|█████████████████████████| 126/126 [0:11<00:00, 0.09s/it, D Loss=0.2305, G Loss=2.7495, Mem=1.52/12.88GB]\n",
      "Epoch 56/500, Avg D Loss: 0.2305, Avg G Loss: 2.7495\n",
      "Saved checkpoint: MURA-v1.1/checkpoints\\bagan_XR_ELBOW_positive_epoch56.pt\n"
     ]
    },
    {
     "name": "stderr",
     "output_type": "stream",
     "text": [
      "Epoch 57/500: 100%|███████████████| 126/126 [00:11<00:00, 10.76batch/s, D Loss=0.0267, G Loss=3.7689, Mem=1.52/12.88GB]\n"
     ]
    },
    {
     "name": "stdout",
     "output_type": "stream",
     "text": [
      "Epoch 57/500: 100%|█████████████████████████| 126/126 [0:11<00:00, 0.09s/it, D Loss=0.2425, G Loss=2.7878, Mem=1.52/12.88GB]\n",
      "Epoch 57/500, Avg D Loss: 0.2425, Avg G Loss: 2.7878\n",
      "Saved checkpoint: MURA-v1.1/checkpoints\\bagan_XR_ELBOW_positive_epoch57.pt\n"
     ]
    },
    {
     "name": "stderr",
     "output_type": "stream",
     "text": [
      "Epoch 58/500: 100%|███████████████| 126/126 [00:11<00:00, 10.60batch/s, D Loss=0.1532, G Loss=2.3433, Mem=1.52/12.88GB]\n"
     ]
    },
    {
     "name": "stdout",
     "output_type": "stream",
     "text": [
      "Epoch 58/500: 100%|█████████████████████████| 126/126 [0:11<00:00, 0.09s/it, D Loss=0.2394, G Loss=2.6904, Mem=1.52/12.88GB]\n",
      "Epoch 58/500, Avg D Loss: 0.2394, Avg G Loss: 2.6904\n",
      "Saved checkpoint: MURA-v1.1/checkpoints\\bagan_XR_ELBOW_positive_epoch58.pt\n"
     ]
    },
    {
     "name": "stderr",
     "output_type": "stream",
     "text": [
      "Epoch 59/500: 100%|███████████████| 126/126 [00:11<00:00, 10.71batch/s, D Loss=0.4093, G Loss=1.5677, Mem=1.52/12.88GB]\n"
     ]
    },
    {
     "name": "stdout",
     "output_type": "stream",
     "text": [
      "Epoch 59/500: 100%|█████████████████████████| 126/126 [0:11<00:00, 0.09s/it, D Loss=0.2386, G Loss=2.7273, Mem=1.52/12.88GB]\n",
      "Epoch 59/500, Avg D Loss: 0.2386, Avg G Loss: 2.7273\n",
      "Saved checkpoint: MURA-v1.1/checkpoints\\bagan_XR_ELBOW_positive_epoch59.pt\n"
     ]
    },
    {
     "name": "stderr",
     "output_type": "stream",
     "text": [
      "Epoch 60/500: 100%|███████████████| 126/126 [00:11<00:00, 10.98batch/s, D Loss=0.1693, G Loss=2.7274, Mem=1.52/12.88GB]\n"
     ]
    },
    {
     "name": "stdout",
     "output_type": "stream",
     "text": [
      "Epoch 60/500: 100%|█████████████████████████| 126/126 [0:11<00:00, 0.09s/it, D Loss=0.2259, G Loss=2.8279, Mem=1.52/12.88GB]\n",
      "Epoch 60/500, Avg D Loss: 0.2259, Avg G Loss: 2.8279\n",
      "Saved checkpoint: MURA-v1.1/checkpoints\\bagan_XR_ELBOW_positive_epoch60.pt\n",
      "Saved sample images at epoch 60 in MURA-v1.1/synthetic/samples\\XR_ELBOW\\positive\n"
     ]
    },
    {
     "name": "stderr",
     "output_type": "stream",
     "text": [
      "Epoch 61/500: 100%|███████████████| 126/126 [00:11<00:00, 10.92batch/s, D Loss=0.2273, G Loss=1.9096, Mem=1.52/12.88GB]\n"
     ]
    },
    {
     "name": "stdout",
     "output_type": "stream",
     "text": [
      "Epoch 61/500: 100%|█████████████████████████| 126/126 [0:11<00:00, 0.09s/it, D Loss=0.2474, G Loss=2.7649, Mem=1.52/12.88GB]\n",
      "Epoch 61/500, Avg D Loss: 0.2474, Avg G Loss: 2.7649\n",
      "Saved checkpoint: MURA-v1.1/checkpoints\\bagan_XR_ELBOW_positive_epoch61.pt\n"
     ]
    },
    {
     "name": "stderr",
     "output_type": "stream",
     "text": [
      "Epoch 62/500: 100%|███████████████| 126/126 [00:12<00:00, 10.27batch/s, D Loss=0.1985, G Loss=4.6684, Mem=1.52/12.88GB]\n"
     ]
    },
    {
     "name": "stdout",
     "output_type": "stream",
     "text": [
      "Epoch 62/500: 100%|█████████████████████████| 126/126 [0:12<00:00, 0.10s/it, D Loss=0.2387, G Loss=2.8432, Mem=1.52/12.88GB]\n",
      "Epoch 62/500, Avg D Loss: 0.2387, Avg G Loss: 2.8432\n",
      "Saved checkpoint: MURA-v1.1/checkpoints\\bagan_XR_ELBOW_positive_epoch62.pt\n"
     ]
    },
    {
     "name": "stderr",
     "output_type": "stream",
     "text": [
      "Epoch 63/500: 100%|███████████████| 126/126 [00:12<00:00, 10.04batch/s, D Loss=0.1882, G Loss=1.9557, Mem=1.52/12.88GB]\n"
     ]
    },
    {
     "name": "stdout",
     "output_type": "stream",
     "text": [
      "Epoch 63/500: 100%|█████████████████████████| 126/126 [0:12<00:00, 0.10s/it, D Loss=0.2230, G Loss=2.7817, Mem=1.52/12.88GB]\n",
      "Epoch 63/500, Avg D Loss: 0.2230, Avg G Loss: 2.7817\n",
      "Saved checkpoint: MURA-v1.1/checkpoints\\bagan_XR_ELBOW_positive_epoch63.pt\n"
     ]
    },
    {
     "name": "stderr",
     "output_type": "stream",
     "text": [
      "Epoch 64/500: 100%|███████████████| 126/126 [00:12<00:00, 10.17batch/s, D Loss=0.0755, G Loss=3.3153, Mem=1.52/12.88GB]\n"
     ]
    },
    {
     "name": "stdout",
     "output_type": "stream",
     "text": [
      "Epoch 64/500: 100%|█████████████████████████| 126/126 [0:12<00:00, 0.10s/it, D Loss=0.2203, G Loss=2.9189, Mem=1.52/12.88GB]\n",
      "Epoch 64/500, Avg D Loss: 0.2203, Avg G Loss: 2.9189\n",
      "Saved checkpoint: MURA-v1.1/checkpoints\\bagan_XR_ELBOW_positive_epoch64.pt\n"
     ]
    },
    {
     "name": "stderr",
     "output_type": "stream",
     "text": [
      "Epoch 65/500: 100%|███████████████| 126/126 [00:12<00:00, 10.08batch/s, D Loss=0.6113, G Loss=3.6442, Mem=1.52/12.88GB]\n"
     ]
    },
    {
     "name": "stdout",
     "output_type": "stream",
     "text": [
      "Epoch 65/500: 100%|█████████████████████████| 126/126 [0:12<00:00, 0.10s/it, D Loss=0.2308, G Loss=2.9371, Mem=1.52/12.88GB]\n",
      "Epoch 65/500, Avg D Loss: 0.2308, Avg G Loss: 2.9371\n",
      "Saved checkpoint: MURA-v1.1/checkpoints\\bagan_XR_ELBOW_positive_epoch65.pt\n"
     ]
    },
    {
     "name": "stderr",
     "output_type": "stream",
     "text": [
      "Epoch 66/500: 100%|███████████████| 126/126 [00:11<00:00, 10.53batch/s, D Loss=0.2881, G Loss=3.3459, Mem=1.52/12.88GB]\n"
     ]
    },
    {
     "name": "stdout",
     "output_type": "stream",
     "text": [
      "Epoch 66/500: 100%|█████████████████████████| 126/126 [0:11<00:00, 0.09s/it, D Loss=0.2380, G Loss=2.8956, Mem=1.52/12.88GB]\n",
      "Epoch 66/500, Avg D Loss: 0.2380, Avg G Loss: 2.8956\n",
      "Saved checkpoint: MURA-v1.1/checkpoints\\bagan_XR_ELBOW_positive_epoch66.pt\n"
     ]
    },
    {
     "name": "stderr",
     "output_type": "stream",
     "text": [
      "Epoch 67/500: 100%|███████████████| 126/126 [00:11<00:00, 10.61batch/s, D Loss=0.1006, G Loss=3.5562, Mem=1.52/12.88GB]\n"
     ]
    },
    {
     "name": "stdout",
     "output_type": "stream",
     "text": [
      "Epoch 67/500: 100%|█████████████████████████| 126/126 [0:11<00:00, 0.09s/it, D Loss=0.2096, G Loss=2.8813, Mem=1.52/12.88GB]\n",
      "Epoch 67/500, Avg D Loss: 0.2096, Avg G Loss: 2.8813\n",
      "Saved checkpoint: MURA-v1.1/checkpoints\\bagan_XR_ELBOW_positive_epoch67.pt\n"
     ]
    },
    {
     "name": "stderr",
     "output_type": "stream",
     "text": [
      "Epoch 68/500: 100%|███████████████| 126/126 [00:11<00:00, 11.16batch/s, D Loss=0.2813, G Loss=4.7494, Mem=1.52/12.88GB]\n"
     ]
    },
    {
     "name": "stdout",
     "output_type": "stream",
     "text": [
      "Epoch 68/500: 100%|█████████████████████████| 126/126 [0:11<00:00, 0.09s/it, D Loss=0.2161, G Loss=3.0271, Mem=1.52/12.88GB]\n",
      "Epoch 68/500, Avg D Loss: 0.2161, Avg G Loss: 3.0271\n",
      "Saved checkpoint: MURA-v1.1/checkpoints\\bagan_XR_ELBOW_positive_epoch68.pt\n"
     ]
    },
    {
     "name": "stderr",
     "output_type": "stream",
     "text": [
      "Epoch 69/500: 100%|███████████████| 126/126 [00:11<00:00, 11.29batch/s, D Loss=0.1295, G Loss=3.1600, Mem=1.52/12.88GB]\n"
     ]
    },
    {
     "name": "stdout",
     "output_type": "stream",
     "text": [
      "Epoch 69/500: 100%|█████████████████████████| 126/126 [0:11<00:00, 0.09s/it, D Loss=0.2138, G Loss=2.9669, Mem=1.52/12.88GB]\n",
      "Epoch 69/500, Avg D Loss: 0.2138, Avg G Loss: 2.9669\n",
      "Saved checkpoint: MURA-v1.1/checkpoints\\bagan_XR_ELBOW_positive_epoch69.pt\n"
     ]
    },
    {
     "name": "stderr",
     "output_type": "stream",
     "text": [
      "Epoch 70/500: 100%|███████████████| 126/126 [00:11<00:00, 11.09batch/s, D Loss=0.1083, G Loss=3.7917, Mem=1.52/12.88GB]\n"
     ]
    },
    {
     "name": "stdout",
     "output_type": "stream",
     "text": [
      "Epoch 70/500: 100%|█████████████████████████| 126/126 [0:11<00:00, 0.09s/it, D Loss=0.2119, G Loss=3.0453, Mem=1.52/12.88GB]\n",
      "Epoch 70/500, Avg D Loss: 0.2119, Avg G Loss: 3.0453\n",
      "Saved checkpoint: MURA-v1.1/checkpoints\\bagan_XR_ELBOW_positive_epoch70.pt\n",
      "Saved sample images at epoch 70 in MURA-v1.1/synthetic/samples\\XR_ELBOW\\positive\n"
     ]
    },
    {
     "name": "stderr",
     "output_type": "stream",
     "text": [
      "Epoch 71/500: 100%|███████████████| 126/126 [00:11<00:00, 11.18batch/s, D Loss=0.1322, G Loss=2.2966, Mem=1.52/12.88GB]\n"
     ]
    },
    {
     "name": "stdout",
     "output_type": "stream",
     "text": [
      "Epoch 71/500: 100%|█████████████████████████| 126/126 [0:11<00:00, 0.09s/it, D Loss=0.2110, G Loss=3.0036, Mem=1.52/12.88GB]\n",
      "Epoch 71/500, Avg D Loss: 0.2110, Avg G Loss: 3.0036\n",
      "Saved checkpoint: MURA-v1.1/checkpoints\\bagan_XR_ELBOW_positive_epoch71.pt\n"
     ]
    },
    {
     "name": "stderr",
     "output_type": "stream",
     "text": [
      "Epoch 72/500: 100%|███████████████| 126/126 [00:11<00:00, 10.74batch/s, D Loss=0.3139, G Loss=4.6395, Mem=1.52/12.88GB]\n"
     ]
    },
    {
     "name": "stdout",
     "output_type": "stream",
     "text": [
      "Epoch 72/500: 100%|█████████████████████████| 126/126 [0:11<00:00, 0.09s/it, D Loss=0.2332, G Loss=2.9815, Mem=1.52/12.88GB]\n",
      "Epoch 72/500, Avg D Loss: 0.2332, Avg G Loss: 2.9815\n",
      "Saved checkpoint: MURA-v1.1/checkpoints\\bagan_XR_ELBOW_positive_epoch72.pt\n"
     ]
    },
    {
     "name": "stderr",
     "output_type": "stream",
     "text": [
      "Epoch 73/500: 100%|███████████████| 126/126 [00:11<00:00, 10.88batch/s, D Loss=0.1823, G Loss=3.1373, Mem=1.52/12.88GB]\n"
     ]
    },
    {
     "name": "stdout",
     "output_type": "stream",
     "text": [
      "Epoch 73/500: 100%|█████████████████████████| 126/126 [0:11<00:00, 0.09s/it, D Loss=0.2181, G Loss=3.0352, Mem=1.52/12.88GB]\n",
      "Epoch 73/500, Avg D Loss: 0.2181, Avg G Loss: 3.0352\n",
      "Saved checkpoint: MURA-v1.1/checkpoints\\bagan_XR_ELBOW_positive_epoch73.pt\n"
     ]
    },
    {
     "name": "stderr",
     "output_type": "stream",
     "text": [
      "Epoch 74/500: 100%|███████████████| 126/126 [00:11<00:00, 11.03batch/s, D Loss=0.2198, G Loss=2.3600, Mem=1.52/12.88GB]\n"
     ]
    },
    {
     "name": "stdout",
     "output_type": "stream",
     "text": [
      "Epoch 74/500: 100%|█████████████████████████| 126/126 [0:11<00:00, 0.09s/it, D Loss=0.2009, G Loss=2.9011, Mem=1.52/12.88GB]\n",
      "Epoch 74/500, Avg D Loss: 0.2009, Avg G Loss: 2.9011\n",
      "Saved checkpoint: MURA-v1.1/checkpoints\\bagan_XR_ELBOW_positive_epoch74.pt\n"
     ]
    },
    {
     "name": "stderr",
     "output_type": "stream",
     "text": [
      "Epoch 75/500: 100%|███████████████| 126/126 [00:11<00:00, 11.08batch/s, D Loss=0.0997, G Loss=3.6176, Mem=1.52/12.88GB]\n"
     ]
    },
    {
     "name": "stdout",
     "output_type": "stream",
     "text": [
      "Epoch 75/500: 100%|█████████████████████████| 126/126 [0:11<00:00, 0.09s/it, D Loss=0.2216, G Loss=3.1408, Mem=1.52/12.88GB]\n",
      "Epoch 75/500, Avg D Loss: 0.2216, Avg G Loss: 3.1408\n",
      "Saved checkpoint: MURA-v1.1/checkpoints\\bagan_XR_ELBOW_positive_epoch75.pt\n"
     ]
    },
    {
     "name": "stderr",
     "output_type": "stream",
     "text": [
      "Epoch 76/500: 100%|███████████████| 126/126 [00:12<00:00, 10.41batch/s, D Loss=0.1717, G Loss=5.9086, Mem=1.52/12.88GB]\n"
     ]
    },
    {
     "name": "stdout",
     "output_type": "stream",
     "text": [
      "Epoch 76/500: 100%|█████████████████████████| 126/126 [0:12<00:00, 0.10s/it, D Loss=0.2041, G Loss=3.1582, Mem=1.52/12.88GB]\n",
      "Epoch 76/500, Avg D Loss: 0.2041, Avg G Loss: 3.1582\n",
      "Saved checkpoint: MURA-v1.1/checkpoints\\bagan_XR_ELBOW_positive_epoch76.pt\n"
     ]
    },
    {
     "name": "stderr",
     "output_type": "stream",
     "text": [
      "Epoch 77/500: 100%|███████████████| 126/126 [00:11<00:00, 10.62batch/s, D Loss=0.1616, G Loss=2.1868, Mem=1.52/12.88GB]\n"
     ]
    },
    {
     "name": "stdout",
     "output_type": "stream",
     "text": [
      "Epoch 77/500: 100%|█████████████████████████| 126/126 [0:11<00:00, 0.09s/it, D Loss=0.2218, G Loss=2.9933, Mem=1.52/12.88GB]\n",
      "Epoch 77/500, Avg D Loss: 0.2218, Avg G Loss: 2.9933\n",
      "Saved checkpoint: MURA-v1.1/checkpoints\\bagan_XR_ELBOW_positive_epoch77.pt\n"
     ]
    },
    {
     "name": "stderr",
     "output_type": "stream",
     "text": [
      "Epoch 78/500: 100%|███████████████| 126/126 [00:11<00:00, 10.80batch/s, D Loss=0.2059, G Loss=2.3393, Mem=1.52/12.88GB]\n"
     ]
    },
    {
     "name": "stdout",
     "output_type": "stream",
     "text": [
      "Epoch 78/500: 100%|█████████████████████████| 126/126 [0:11<00:00, 0.09s/it, D Loss=0.1900, G Loss=3.0969, Mem=1.52/12.88GB]\n",
      "Epoch 78/500, Avg D Loss: 0.1900, Avg G Loss: 3.0969\n",
      "Saved checkpoint: MURA-v1.1/checkpoints\\bagan_XR_ELBOW_positive_epoch78.pt\n"
     ]
    },
    {
     "name": "stderr",
     "output_type": "stream",
     "text": [
      "Epoch 79/500: 100%|███████████████| 126/126 [00:11<00:00, 11.18batch/s, D Loss=0.0883, G Loss=3.7576, Mem=1.52/12.88GB]\n"
     ]
    },
    {
     "name": "stdout",
     "output_type": "stream",
     "text": [
      "Epoch 79/500: 100%|█████████████████████████| 126/126 [0:11<00:00, 0.09s/it, D Loss=0.1751, G Loss=3.1639, Mem=1.52/12.88GB]\n",
      "Epoch 79/500, Avg D Loss: 0.1751, Avg G Loss: 3.1639\n",
      "Saved checkpoint: MURA-v1.1/checkpoints\\bagan_XR_ELBOW_positive_epoch79.pt\n"
     ]
    },
    {
     "name": "stderr",
     "output_type": "stream",
     "text": [
      "Epoch 80/500: 100%|███████████████| 126/126 [00:11<00:00, 10.88batch/s, D Loss=0.6548, G Loss=6.6269, Mem=1.52/12.88GB]\n"
     ]
    },
    {
     "name": "stdout",
     "output_type": "stream",
     "text": [
      "Epoch 80/500: 100%|█████████████████████████| 126/126 [0:11<00:00, 0.09s/it, D Loss=0.2152, G Loss=3.3816, Mem=1.52/12.88GB]\n",
      "Epoch 80/500, Avg D Loss: 0.2152, Avg G Loss: 3.3816\n",
      "Saved checkpoint: MURA-v1.1/checkpoints\\bagan_XR_ELBOW_positive_epoch80.pt\n",
      "Saved sample images at epoch 80 in MURA-v1.1/synthetic/samples\\XR_ELBOW\\positive\n"
     ]
    },
    {
     "name": "stderr",
     "output_type": "stream",
     "text": [
      "Epoch 81/500: 100%|███████████████| 126/126 [00:11<00:00, 10.70batch/s, D Loss=0.2211, G Loss=3.6263, Mem=1.52/12.88GB]\n"
     ]
    },
    {
     "name": "stdout",
     "output_type": "stream",
     "text": [
      "Epoch 81/500: 100%|█████████████████████████| 126/126 [0:11<00:00, 0.09s/it, D Loss=0.2031, G Loss=3.1779, Mem=1.52/12.88GB]\n",
      "Epoch 81/500, Avg D Loss: 0.2031, Avg G Loss: 3.1779\n",
      "Saved checkpoint: MURA-v1.1/checkpoints\\bagan_XR_ELBOW_positive_epoch81.pt\n"
     ]
    },
    {
     "name": "stderr",
     "output_type": "stream",
     "text": [
      "Epoch 82/500: 100%|███████████████| 126/126 [00:11<00:00, 10.74batch/s, D Loss=0.2496, G Loss=4.8212, Mem=1.52/12.88GB]\n"
     ]
    },
    {
     "name": "stdout",
     "output_type": "stream",
     "text": [
      "Epoch 82/500: 100%|█████████████████████████| 126/126 [0:11<00:00, 0.09s/it, D Loss=0.1769, G Loss=3.1580, Mem=1.52/12.88GB]\n",
      "Epoch 82/500, Avg D Loss: 0.1769, Avg G Loss: 3.1580\n",
      "Saved checkpoint: MURA-v1.1/checkpoints\\bagan_XR_ELBOW_positive_epoch82.pt\n"
     ]
    },
    {
     "name": "stderr",
     "output_type": "stream",
     "text": [
      "Epoch 83/500: 100%|███████████████| 126/126 [00:11<00:00, 10.61batch/s, D Loss=0.2289, G Loss=5.0736, Mem=1.52/12.88GB]\n"
     ]
    },
    {
     "name": "stdout",
     "output_type": "stream",
     "text": [
      "Epoch 83/500: 100%|█████████████████████████| 126/126 [0:11<00:00, 0.09s/it, D Loss=0.1883, G Loss=3.3067, Mem=1.52/12.88GB]\n",
      "Epoch 83/500, Avg D Loss: 0.1883, Avg G Loss: 3.3067\n",
      "Saved checkpoint: MURA-v1.1/checkpoints\\bagan_XR_ELBOW_positive_epoch83.pt\n"
     ]
    },
    {
     "name": "stderr",
     "output_type": "stream",
     "text": [
      "Epoch 84/500: 100%|███████████████| 126/126 [00:11<00:00, 10.98batch/s, D Loss=0.1680, G Loss=3.7603, Mem=1.52/12.88GB]\n"
     ]
    },
    {
     "name": "stdout",
     "output_type": "stream",
     "text": [
      "Epoch 84/500: 100%|█████████████████████████| 126/126 [0:11<00:00, 0.09s/it, D Loss=0.2278, G Loss=3.3415, Mem=1.52/12.88GB]\n",
      "Epoch 84/500, Avg D Loss: 0.2278, Avg G Loss: 3.3415\n",
      "Saved checkpoint: MURA-v1.1/checkpoints\\bagan_XR_ELBOW_positive_epoch84.pt\n"
     ]
    },
    {
     "name": "stderr",
     "output_type": "stream",
     "text": [
      "Epoch 85/500: 100%|███████████████| 126/126 [00:11<00:00, 10.73batch/s, D Loss=0.3762, G Loss=5.8434, Mem=1.52/12.88GB]\n"
     ]
    },
    {
     "name": "stdout",
     "output_type": "stream",
     "text": [
      "Epoch 85/500: 100%|█████████████████████████| 126/126 [0:11<00:00, 0.09s/it, D Loss=0.1771, G Loss=3.1480, Mem=1.52/12.88GB]\n",
      "Epoch 85/500, Avg D Loss: 0.1771, Avg G Loss: 3.1480\n",
      "Saved checkpoint: MURA-v1.1/checkpoints\\bagan_XR_ELBOW_positive_epoch85.pt\n"
     ]
    },
    {
     "name": "stderr",
     "output_type": "stream",
     "text": [
      "Epoch 86/500: 100%|███████████████| 126/126 [00:11<00:00, 10.62batch/s, D Loss=0.1024, G Loss=3.9357, Mem=1.52/12.88GB]\n"
     ]
    },
    {
     "name": "stdout",
     "output_type": "stream",
     "text": [
      "Epoch 86/500: 100%|█████████████████████████| 126/126 [0:11<00:00, 0.09s/it, D Loss=0.1782, G Loss=3.2585, Mem=1.52/12.88GB]\n",
      "Epoch 86/500, Avg D Loss: 0.1782, Avg G Loss: 3.2585\n",
      "Saved checkpoint: MURA-v1.1/checkpoints\\bagan_XR_ELBOW_positive_epoch86.pt\n"
     ]
    },
    {
     "name": "stderr",
     "output_type": "stream",
     "text": [
      "Epoch 87/500: 100%|███████████████| 126/126 [00:11<00:00, 11.40batch/s, D Loss=0.1273, G Loss=2.9125, Mem=1.52/12.88GB]\n"
     ]
    },
    {
     "name": "stdout",
     "output_type": "stream",
     "text": [
      "Epoch 87/500: 100%|█████████████████████████| 126/126 [0:11<00:00, 0.09s/it, D Loss=0.1748, G Loss=3.2985, Mem=1.52/12.88GB]\n",
      "Epoch 87/500, Avg D Loss: 0.1748, Avg G Loss: 3.2985\n",
      "Saved checkpoint: MURA-v1.1/checkpoints\\bagan_XR_ELBOW_positive_epoch87.pt\n"
     ]
    },
    {
     "name": "stderr",
     "output_type": "stream",
     "text": [
      "Epoch 88/500: 100%|███████████████| 126/126 [00:11<00:00, 11.06batch/s, D Loss=0.2135, G Loss=3.1213, Mem=1.52/12.88GB]\n"
     ]
    },
    {
     "name": "stdout",
     "output_type": "stream",
     "text": [
      "Epoch 88/500: 100%|█████████████████████████| 126/126 [0:11<00:00, 0.09s/it, D Loss=0.1732, G Loss=3.3203, Mem=1.52/12.88GB]\n",
      "Epoch 88/500, Avg D Loss: 0.1732, Avg G Loss: 3.3203\n",
      "Saved checkpoint: MURA-v1.1/checkpoints\\bagan_XR_ELBOW_positive_epoch88.pt\n"
     ]
    },
    {
     "name": "stderr",
     "output_type": "stream",
     "text": [
      "Epoch 89/500: 100%|███████████████| 126/126 [00:11<00:00, 11.20batch/s, D Loss=0.1072, G Loss=2.0598, Mem=1.52/12.88GB]\n"
     ]
    },
    {
     "name": "stdout",
     "output_type": "stream",
     "text": [
      "Epoch 89/500: 100%|█████████████████████████| 126/126 [0:11<00:00, 0.09s/it, D Loss=0.1857, G Loss=3.2760, Mem=1.52/12.88GB]\n",
      "Epoch 89/500, Avg D Loss: 0.1857, Avg G Loss: 3.2760\n",
      "Saved checkpoint: MURA-v1.1/checkpoints\\bagan_XR_ELBOW_positive_epoch89.pt\n"
     ]
    },
    {
     "name": "stderr",
     "output_type": "stream",
     "text": [
      "Epoch 90/500: 100%|███████████████| 126/126 [00:11<00:00, 11.33batch/s, D Loss=0.1332, G Loss=3.9342, Mem=1.52/12.88GB]\n"
     ]
    },
    {
     "name": "stdout",
     "output_type": "stream",
     "text": [
      "Epoch 90/500: 100%|█████████████████████████| 126/126 [0:11<00:00, 0.09s/it, D Loss=0.2502, G Loss=3.4226, Mem=1.52/12.88GB]\n",
      "Epoch 90/500, Avg D Loss: 0.2502, Avg G Loss: 3.4226\n",
      "Saved checkpoint: MURA-v1.1/checkpoints\\bagan_XR_ELBOW_positive_epoch90.pt\n",
      "Saved sample images at epoch 90 in MURA-v1.1/synthetic/samples\\XR_ELBOW\\positive\n"
     ]
    },
    {
     "name": "stderr",
     "output_type": "stream",
     "text": [
      "Epoch 91/500: 100%|███████████████| 126/126 [00:11<00:00, 11.02batch/s, D Loss=0.1553, G Loss=4.5449, Mem=1.52/12.88GB]\n"
     ]
    },
    {
     "name": "stdout",
     "output_type": "stream",
     "text": [
      "Epoch 91/500: 100%|█████████████████████████| 126/126 [0:11<00:00, 0.09s/it, D Loss=0.1699, G Loss=3.3575, Mem=1.52/12.88GB]\n",
      "Epoch 91/500, Avg D Loss: 0.1699, Avg G Loss: 3.3575\n",
      "Saved checkpoint: MURA-v1.1/checkpoints\\bagan_XR_ELBOW_positive_epoch91.pt\n"
     ]
    },
    {
     "name": "stderr",
     "output_type": "stream",
     "text": [
      "Epoch 92/500: 100%|███████████████| 126/126 [00:11<00:00, 10.57batch/s, D Loss=0.2546, G Loss=1.4321, Mem=1.52/12.88GB]\n"
     ]
    },
    {
     "name": "stdout",
     "output_type": "stream",
     "text": [
      "Epoch 92/500: 100%|█████████████████████████| 126/126 [0:11<00:00, 0.09s/it, D Loss=0.3139, G Loss=3.6111, Mem=1.52/12.88GB]\n",
      "Epoch 92/500, Avg D Loss: 0.3139, Avg G Loss: 3.6111\n",
      "Saved checkpoint: MURA-v1.1/checkpoints\\bagan_XR_ELBOW_positive_epoch92.pt\n"
     ]
    },
    {
     "name": "stderr",
     "output_type": "stream",
     "text": [
      "Epoch 93/500: 100%|███████████████| 126/126 [00:12<00:00,  9.91batch/s, D Loss=0.0911, G Loss=3.2657, Mem=1.52/12.88GB]\n"
     ]
    },
    {
     "name": "stdout",
     "output_type": "stream",
     "text": [
      "Epoch 93/500: 100%|█████████████████████████| 126/126 [0:12<00:00, 0.10s/it, D Loss=0.1841, G Loss=3.1119, Mem=1.52/12.88GB]\n",
      "Epoch 93/500, Avg D Loss: 0.1841, Avg G Loss: 3.1119\n",
      "Saved checkpoint: MURA-v1.1/checkpoints\\bagan_XR_ELBOW_positive_epoch93.pt\n"
     ]
    },
    {
     "name": "stderr",
     "output_type": "stream",
     "text": [
      "Epoch 94/500: 100%|███████████████| 126/126 [00:12<00:00,  9.92batch/s, D Loss=0.1453, G Loss=3.7186, Mem=1.52/12.88GB]\n"
     ]
    },
    {
     "name": "stdout",
     "output_type": "stream",
     "text": [
      "Epoch 94/500: 100%|█████████████████████████| 126/126 [0:12<00:00, 0.10s/it, D Loss=0.1807, G Loss=3.3359, Mem=1.52/12.88GB]\n",
      "Epoch 94/500, Avg D Loss: 0.1807, Avg G Loss: 3.3359\n",
      "Saved checkpoint: MURA-v1.1/checkpoints\\bagan_XR_ELBOW_positive_epoch94.pt\n"
     ]
    },
    {
     "name": "stderr",
     "output_type": "stream",
     "text": [
      "Epoch 95/500: 100%|███████████████| 126/126 [00:12<00:00, 10.36batch/s, D Loss=0.2964, G Loss=4.3273, Mem=1.52/12.88GB]\n"
     ]
    },
    {
     "name": "stdout",
     "output_type": "stream",
     "text": [
      "Epoch 95/500: 100%|█████████████████████████| 126/126 [0:12<00:00, 0.10s/it, D Loss=0.1681, G Loss=3.4131, Mem=1.52/12.88GB]\n",
      "Epoch 95/500, Avg D Loss: 0.1681, Avg G Loss: 3.4131\n",
      "Saved checkpoint: MURA-v1.1/checkpoints\\bagan_XR_ELBOW_positive_epoch95.pt\n"
     ]
    },
    {
     "name": "stderr",
     "output_type": "stream",
     "text": [
      "Epoch 96/500: 100%|███████████████| 126/126 [00:11<00:00, 10.63batch/s, D Loss=0.1342, G Loss=2.4715, Mem=1.52/12.88GB]\n"
     ]
    },
    {
     "name": "stdout",
     "output_type": "stream",
     "text": [
      "Epoch 96/500: 100%|█████████████████████████| 126/126 [0:11<00:00, 0.09s/it, D Loss=0.1709, G Loss=3.2796, Mem=1.52/12.88GB]\n",
      "Epoch 96/500, Avg D Loss: 0.1709, Avg G Loss: 3.2796\n",
      "Saved checkpoint: MURA-v1.1/checkpoints\\bagan_XR_ELBOW_positive_epoch96.pt\n"
     ]
    },
    {
     "name": "stderr",
     "output_type": "stream",
     "text": [
      "Epoch 97/500: 100%|███████████████| 126/126 [00:11<00:00, 10.85batch/s, D Loss=0.5118, G Loss=1.7502, Mem=1.52/12.88GB]\n"
     ]
    },
    {
     "name": "stdout",
     "output_type": "stream",
     "text": [
      "Epoch 97/500: 100%|█████████████████████████| 126/126 [0:11<00:00, 0.09s/it, D Loss=0.1801, G Loss=3.4889, Mem=1.52/12.88GB]\n",
      "Epoch 97/500, Avg D Loss: 0.1801, Avg G Loss: 3.4889\n",
      "Saved checkpoint: MURA-v1.1/checkpoints\\bagan_XR_ELBOW_positive_epoch97.pt\n"
     ]
    },
    {
     "name": "stderr",
     "output_type": "stream",
     "text": [
      "Epoch 98/500: 100%|███████████████| 126/126 [00:11<00:00, 10.95batch/s, D Loss=0.1272, G Loss=4.3419, Mem=1.52/12.88GB]\n"
     ]
    },
    {
     "name": "stdout",
     "output_type": "stream",
     "text": [
      "Epoch 98/500: 100%|█████████████████████████| 126/126 [0:11<00:00, 0.09s/it, D Loss=0.1683, G Loss=3.4827, Mem=1.52/12.88GB]\n",
      "Epoch 98/500, Avg D Loss: 0.1683, Avg G Loss: 3.4827\n",
      "Saved checkpoint: MURA-v1.1/checkpoints\\bagan_XR_ELBOW_positive_epoch98.pt\n"
     ]
    },
    {
     "name": "stderr",
     "output_type": "stream",
     "text": [
      "Epoch 99/500: 100%|███████████████| 126/126 [00:11<00:00, 10.89batch/s, D Loss=0.1229, G Loss=3.5893, Mem=1.52/12.88GB]\n"
     ]
    },
    {
     "name": "stdout",
     "output_type": "stream",
     "text": [
      "Epoch 99/500: 100%|█████████████████████████| 126/126 [0:11<00:00, 0.09s/it, D Loss=0.2008, G Loss=3.5760, Mem=1.52/12.88GB]\n",
      "Epoch 99/500, Avg D Loss: 0.2008, Avg G Loss: 3.5760\n",
      "Saved checkpoint: MURA-v1.1/checkpoints\\bagan_XR_ELBOW_positive_epoch99.pt\n"
     ]
    },
    {
     "name": "stderr",
     "output_type": "stream",
     "text": [
      "Epoch 100/500: 100%|██████████████| 126/126 [00:11<00:00, 10.76batch/s, D Loss=0.1708, G Loss=3.2901, Mem=1.52/12.88GB]\n"
     ]
    },
    {
     "name": "stdout",
     "output_type": "stream",
     "text": [
      "Epoch 100/500: 100%|█████████████████████████| 126/126 [0:11<00:00, 0.09s/it, D Loss=0.1530, G Loss=3.4480, Mem=1.52/12.88GB]\n",
      "Epoch 100/500, Avg D Loss: 0.1530, Avg G Loss: 3.4480\n",
      "Saved checkpoint: MURA-v1.1/checkpoints\\bagan_XR_ELBOW_positive_epoch100.pt\n",
      "Saved sample images at epoch 100 in MURA-v1.1/synthetic/samples\\XR_ELBOW\\positive\n"
     ]
    },
    {
     "name": "stderr",
     "output_type": "stream",
     "text": [
      "Epoch 101/500: 100%|██████████████| 126/126 [00:11<00:00, 10.86batch/s, D Loss=0.2740, G Loss=7.3675, Mem=1.52/12.88GB]\n"
     ]
    },
    {
     "name": "stdout",
     "output_type": "stream",
     "text": [
      "Epoch 101/500: 100%|█████████████████████████| 126/126 [0:11<00:00, 0.09s/it, D Loss=0.1450, G Loss=3.4893, Mem=1.52/12.88GB]\n",
      "Epoch 101/500, Avg D Loss: 0.1450, Avg G Loss: 3.4893\n",
      "Saved checkpoint: MURA-v1.1/checkpoints\\bagan_XR_ELBOW_positive_epoch101.pt\n"
     ]
    },
    {
     "name": "stderr",
     "output_type": "stream",
     "text": [
      "Epoch 102/500: 100%|██████████████| 126/126 [00:11<00:00, 10.84batch/s, D Loss=0.2577, G Loss=2.8850, Mem=1.52/12.88GB]\n"
     ]
    },
    {
     "name": "stdout",
     "output_type": "stream",
     "text": [
      "Epoch 102/500: 100%|█████████████████████████| 126/126 [0:11<00:00, 0.09s/it, D Loss=0.1899, G Loss=3.4947, Mem=1.52/12.88GB]\n",
      "Epoch 102/500, Avg D Loss: 0.1899, Avg G Loss: 3.4947\n",
      "Saved checkpoint: MURA-v1.1/checkpoints\\bagan_XR_ELBOW_positive_epoch102.pt\n"
     ]
    },
    {
     "name": "stderr",
     "output_type": "stream",
     "text": [
      "Epoch 103/500: 100%|██████████████| 126/126 [00:11<00:00, 10.57batch/s, D Loss=0.1416, G Loss=2.7508, Mem=1.52/12.88GB]\n"
     ]
    },
    {
     "name": "stdout",
     "output_type": "stream",
     "text": [
      "Epoch 103/500: 100%|█████████████████████████| 126/126 [0:11<00:00, 0.09s/it, D Loss=0.1559, G Loss=3.6017, Mem=1.52/12.88GB]\n",
      "Epoch 103/500, Avg D Loss: 0.1559, Avg G Loss: 3.6017\n",
      "Saved checkpoint: MURA-v1.1/checkpoints\\bagan_XR_ELBOW_positive_epoch103.pt\n"
     ]
    },
    {
     "name": "stderr",
     "output_type": "stream",
     "text": [
      "Epoch 104/500: 100%|██████████████| 126/126 [00:12<00:00, 10.18batch/s, D Loss=0.1348, G Loss=3.7859, Mem=1.52/12.88GB]\n"
     ]
    },
    {
     "name": "stdout",
     "output_type": "stream",
     "text": [
      "Epoch 104/500: 100%|█████████████████████████| 126/126 [0:12<00:00, 0.10s/it, D Loss=0.1897, G Loss=3.7299, Mem=1.52/12.88GB]\n",
      "Epoch 104/500, Avg D Loss: 0.1897, Avg G Loss: 3.7299\n",
      "Saved checkpoint: MURA-v1.1/checkpoints\\bagan_XR_ELBOW_positive_epoch104.pt\n"
     ]
    },
    {
     "name": "stderr",
     "output_type": "stream",
     "text": [
      "Epoch 105/500: 100%|██████████████| 126/126 [00:11<00:00, 11.25batch/s, D Loss=0.0668, G Loss=3.6816, Mem=1.52/12.88GB]\n"
     ]
    },
    {
     "name": "stdout",
     "output_type": "stream",
     "text": [
      "Epoch 105/500: 100%|█████████████████████████| 126/126 [0:11<00:00, 0.09s/it, D Loss=0.2022, G Loss=3.6137, Mem=1.52/12.88GB]\n",
      "Epoch 105/500, Avg D Loss: 0.2022, Avg G Loss: 3.6137\n",
      "Saved checkpoint: MURA-v1.1/checkpoints\\bagan_XR_ELBOW_positive_epoch105.pt\n"
     ]
    },
    {
     "name": "stderr",
     "output_type": "stream",
     "text": [
      "Epoch 106/500: 100%|██████████████| 126/126 [00:11<00:00, 11.05batch/s, D Loss=0.1495, G Loss=1.9903, Mem=1.52/12.88GB]\n"
     ]
    },
    {
     "name": "stdout",
     "output_type": "stream",
     "text": [
      "Epoch 106/500: 100%|█████████████████████████| 126/126 [0:11<00:00, 0.09s/it, D Loss=0.1516, G Loss=3.5901, Mem=1.52/12.88GB]\n",
      "Epoch 106/500, Avg D Loss: 0.1516, Avg G Loss: 3.5901\n",
      "Saved checkpoint: MURA-v1.1/checkpoints\\bagan_XR_ELBOW_positive_epoch106.pt\n"
     ]
    },
    {
     "name": "stderr",
     "output_type": "stream",
     "text": [
      "Epoch 107/500: 100%|██████████████| 126/126 [00:11<00:00, 11.45batch/s, D Loss=0.0963, G Loss=3.2465, Mem=1.52/12.88GB]\n"
     ]
    },
    {
     "name": "stdout",
     "output_type": "stream",
     "text": [
      "Epoch 107/500: 100%|█████████████████████████| 126/126 [0:11<00:00, 0.09s/it, D Loss=0.1454, G Loss=3.6086, Mem=1.52/12.88GB]\n",
      "Epoch 107/500, Avg D Loss: 0.1454, Avg G Loss: 3.6086\n",
      "Saved checkpoint: MURA-v1.1/checkpoints\\bagan_XR_ELBOW_positive_epoch107.pt\n"
     ]
    },
    {
     "name": "stderr",
     "output_type": "stream",
     "text": [
      "Epoch 108/500: 100%|██████████████| 126/126 [00:10<00:00, 11.48batch/s, D Loss=0.1405, G Loss=2.7099, Mem=1.52/12.88GB]\n"
     ]
    },
    {
     "name": "stdout",
     "output_type": "stream",
     "text": [
      "Epoch 108/500: 100%|█████████████████████████| 126/126 [0:10<00:00, 0.09s/it, D Loss=0.1506, G Loss=3.6402, Mem=1.52/12.88GB]\n",
      "Epoch 108/500, Avg D Loss: 0.1506, Avg G Loss: 3.6402\n",
      "Saved checkpoint: MURA-v1.1/checkpoints\\bagan_XR_ELBOW_positive_epoch108.pt\n"
     ]
    },
    {
     "name": "stderr",
     "output_type": "stream",
     "text": [
      "Epoch 109/500: 100%|██████████████| 126/126 [00:11<00:00, 11.05batch/s, D Loss=0.1661, G Loss=2.9885, Mem=1.52/12.88GB]\n"
     ]
    },
    {
     "name": "stdout",
     "output_type": "stream",
     "text": [
      "Epoch 109/500: 100%|█████████████████████████| 126/126 [0:11<00:00, 0.09s/it, D Loss=0.1373, G Loss=3.6577, Mem=1.52/12.88GB]\n",
      "Epoch 109/500, Avg D Loss: 0.1373, Avg G Loss: 3.6577\n",
      "Saved checkpoint: MURA-v1.1/checkpoints\\bagan_XR_ELBOW_positive_epoch109.pt\n"
     ]
    },
    {
     "name": "stderr",
     "output_type": "stream",
     "text": [
      "Epoch 110/500: 100%|██████████████| 126/126 [00:10<00:00, 11.58batch/s, D Loss=0.1249, G Loss=2.5752, Mem=1.52/12.88GB]\n"
     ]
    },
    {
     "name": "stdout",
     "output_type": "stream",
     "text": [
      "Epoch 110/500: 100%|█████████████████████████| 126/126 [0:10<00:00, 0.09s/it, D Loss=0.1671, G Loss=3.8742, Mem=1.52/12.88GB]\n",
      "Epoch 110/500, Avg D Loss: 0.1671, Avg G Loss: 3.8742\n",
      "Saved checkpoint: MURA-v1.1/checkpoints\\bagan_XR_ELBOW_positive_epoch110.pt\n",
      "Saved sample images at epoch 110 in MURA-v1.1/synthetic/samples\\XR_ELBOW\\positive\n"
     ]
    },
    {
     "name": "stderr",
     "output_type": "stream",
     "text": [
      "Epoch 111/500: 100%|██████████████| 126/126 [00:11<00:00, 11.36batch/s, D Loss=0.0437, G Loss=3.9611, Mem=1.52/12.88GB]\n"
     ]
    },
    {
     "name": "stdout",
     "output_type": "stream",
     "text": [
      "Epoch 111/500: 100%|█████████████████████████| 126/126 [0:11<00:00, 0.09s/it, D Loss=0.1634, G Loss=3.7266, Mem=1.52/12.88GB]\n",
      "Epoch 111/500, Avg D Loss: 0.1634, Avg G Loss: 3.7266\n",
      "Saved checkpoint: MURA-v1.1/checkpoints\\bagan_XR_ELBOW_positive_epoch111.pt\n"
     ]
    },
    {
     "name": "stderr",
     "output_type": "stream",
     "text": [
      "Epoch 112/500: 100%|██████████████| 126/126 [00:11<00:00, 11.35batch/s, D Loss=0.0463, G Loss=4.9297, Mem=1.52/12.88GB]\n"
     ]
    },
    {
     "name": "stdout",
     "output_type": "stream",
     "text": [
      "Epoch 112/500: 100%|█████████████████████████| 126/126 [0:11<00:00, 0.09s/it, D Loss=0.1272, G Loss=3.7190, Mem=1.52/12.88GB]\n",
      "Epoch 112/500, Avg D Loss: 0.1272, Avg G Loss: 3.7190\n",
      "Saved checkpoint: MURA-v1.1/checkpoints\\bagan_XR_ELBOW_positive_epoch112.pt\n"
     ]
    },
    {
     "name": "stderr",
     "output_type": "stream",
     "text": [
      "Epoch 113/500: 100%|██████████████| 126/126 [00:11<00:00, 11.16batch/s, D Loss=0.0734, G Loss=5.1756, Mem=1.52/12.88GB]\n"
     ]
    },
    {
     "name": "stdout",
     "output_type": "stream",
     "text": [
      "Epoch 113/500: 100%|█████████████████████████| 126/126 [0:11<00:00, 0.09s/it, D Loss=0.1414, G Loss=3.7285, Mem=1.52/12.88GB]\n",
      "Epoch 113/500, Avg D Loss: 0.1414, Avg G Loss: 3.7285\n",
      "Saved checkpoint: MURA-v1.1/checkpoints\\bagan_XR_ELBOW_positive_epoch113.pt\n"
     ]
    },
    {
     "name": "stderr",
     "output_type": "stream",
     "text": [
      "Epoch 114/500: 100%|██████████████| 126/126 [00:11<00:00, 11.11batch/s, D Loss=0.1909, G Loss=3.8945, Mem=1.52/12.88GB]\n"
     ]
    },
    {
     "name": "stdout",
     "output_type": "stream",
     "text": [
      "Epoch 114/500: 100%|█████████████████████████| 126/126 [0:11<00:00, 0.09s/it, D Loss=0.1674, G Loss=3.8842, Mem=1.52/12.88GB]\n",
      "Epoch 114/500, Avg D Loss: 0.1674, Avg G Loss: 3.8842\n",
      "Saved checkpoint: MURA-v1.1/checkpoints\\bagan_XR_ELBOW_positive_epoch114.pt\n"
     ]
    },
    {
     "name": "stderr",
     "output_type": "stream",
     "text": [
      "Epoch 115/500: 100%|██████████████| 126/126 [00:11<00:00, 11.09batch/s, D Loss=0.0783, G Loss=4.7099, Mem=1.52/12.88GB]\n"
     ]
    },
    {
     "name": "stdout",
     "output_type": "stream",
     "text": [
      "Epoch 115/500: 100%|█████████████████████████| 126/126 [0:11<00:00, 0.09s/it, D Loss=0.1632, G Loss=3.8915, Mem=1.52/12.88GB]\n",
      "Epoch 115/500, Avg D Loss: 0.1632, Avg G Loss: 3.8915\n",
      "Saved checkpoint: MURA-v1.1/checkpoints\\bagan_XR_ELBOW_positive_epoch115.pt\n"
     ]
    },
    {
     "name": "stderr",
     "output_type": "stream",
     "text": [
      "Epoch 116/500: 100%|██████████████| 126/126 [00:11<00:00, 11.03batch/s, D Loss=0.1228, G Loss=4.8318, Mem=1.52/12.88GB]\n"
     ]
    },
    {
     "name": "stdout",
     "output_type": "stream",
     "text": [
      "Epoch 116/500: 100%|█████████████████████████| 126/126 [0:11<00:00, 0.09s/it, D Loss=0.1835, G Loss=3.8498, Mem=1.52/12.88GB]\n",
      "Epoch 116/500, Avg D Loss: 0.1835, Avg G Loss: 3.8498\n",
      "Saved checkpoint: MURA-v1.1/checkpoints\\bagan_XR_ELBOW_positive_epoch116.pt\n"
     ]
    },
    {
     "name": "stderr",
     "output_type": "stream",
     "text": [
      "Epoch 117/500: 100%|██████████████| 126/126 [00:11<00:00, 10.76batch/s, D Loss=0.0598, G Loss=3.4741, Mem=1.52/12.88GB]\n"
     ]
    },
    {
     "name": "stdout",
     "output_type": "stream",
     "text": [
      "Epoch 117/500: 100%|█████████████████████████| 126/126 [0:11<00:00, 0.09s/it, D Loss=0.1498, G Loss=3.8771, Mem=1.52/12.88GB]\n",
      "Epoch 117/500, Avg D Loss: 0.1498, Avg G Loss: 3.8771\n",
      "Saved checkpoint: MURA-v1.1/checkpoints\\bagan_XR_ELBOW_positive_epoch117.pt\n"
     ]
    },
    {
     "name": "stderr",
     "output_type": "stream",
     "text": [
      "Epoch 118/500: 100%|██████████████| 126/126 [00:12<00:00, 10.45batch/s, D Loss=0.0981, G Loss=2.5887, Mem=1.52/12.88GB]\n"
     ]
    },
    {
     "name": "stdout",
     "output_type": "stream",
     "text": [
      "Epoch 118/500: 100%|█████████████████████████| 126/126 [0:12<00:00, 0.10s/it, D Loss=0.1584, G Loss=3.8891, Mem=1.52/12.88GB]\n",
      "Epoch 118/500, Avg D Loss: 0.1584, Avg G Loss: 3.8891\n",
      "Saved checkpoint: MURA-v1.1/checkpoints\\bagan_XR_ELBOW_positive_epoch118.pt\n"
     ]
    },
    {
     "name": "stderr",
     "output_type": "stream",
     "text": [
      "Epoch 119/500: 100%|██████████████| 126/126 [00:12<00:00, 10.22batch/s, D Loss=0.0272, G Loss=5.0442, Mem=1.52/12.88GB]\n"
     ]
    },
    {
     "name": "stdout",
     "output_type": "stream",
     "text": [
      "Epoch 119/500: 100%|█████████████████████████| 126/126 [0:12<00:00, 0.10s/it, D Loss=0.1357, G Loss=4.0026, Mem=1.52/12.88GB]\n",
      "Epoch 119/500, Avg D Loss: 0.1357, Avg G Loss: 4.0026\n",
      "Saved checkpoint: MURA-v1.1/checkpoints\\bagan_XR_ELBOW_positive_epoch119.pt\n"
     ]
    },
    {
     "name": "stderr",
     "output_type": "stream",
     "text": [
      "Epoch 120/500: 100%|██████████████| 126/126 [00:11<00:00, 10.61batch/s, D Loss=0.1697, G Loss=3.7774, Mem=1.52/12.88GB]\n"
     ]
    },
    {
     "name": "stdout",
     "output_type": "stream",
     "text": [
      "Epoch 120/500: 100%|█████████████████████████| 126/126 [0:11<00:00, 0.09s/it, D Loss=0.1461, G Loss=3.8777, Mem=1.52/12.88GB]\n",
      "Epoch 120/500, Avg D Loss: 0.1461, Avg G Loss: 3.8777\n",
      "Saved checkpoint: MURA-v1.1/checkpoints\\bagan_XR_ELBOW_positive_epoch120.pt\n",
      "Saved sample images at epoch 120 in MURA-v1.1/synthetic/samples\\XR_ELBOW\\positive\n"
     ]
    },
    {
     "name": "stderr",
     "output_type": "stream",
     "text": [
      "Epoch 121/500: 100%|██████████████| 126/126 [00:11<00:00, 10.74batch/s, D Loss=0.0540, G Loss=4.2335, Mem=1.52/12.88GB]\n"
     ]
    },
    {
     "name": "stdout",
     "output_type": "stream",
     "text": [
      "Epoch 121/500: 100%|█████████████████████████| 126/126 [0:11<00:00, 0.09s/it, D Loss=0.1600, G Loss=4.0033, Mem=1.52/12.88GB]\n",
      "Epoch 121/500, Avg D Loss: 0.1600, Avg G Loss: 4.0033\n",
      "Saved checkpoint: MURA-v1.1/checkpoints\\bagan_XR_ELBOW_positive_epoch121.pt\n"
     ]
    },
    {
     "name": "stderr",
     "output_type": "stream",
     "text": [
      "Epoch 122/500: 100%|██████████████| 126/126 [00:11<00:00, 10.98batch/s, D Loss=0.0936, G Loss=4.3369, Mem=1.52/12.88GB]\n"
     ]
    },
    {
     "name": "stdout",
     "output_type": "stream",
     "text": [
      "Epoch 122/500: 100%|█████████████████████████| 126/126 [0:11<00:00, 0.09s/it, D Loss=0.1177, G Loss=3.9557, Mem=1.52/12.88GB]\n",
      "Epoch 122/500, Avg D Loss: 0.1177, Avg G Loss: 3.9557\n",
      "Saved checkpoint: MURA-v1.1/checkpoints\\bagan_XR_ELBOW_positive_epoch122.pt\n"
     ]
    },
    {
     "name": "stderr",
     "output_type": "stream",
     "text": [
      "Epoch 123/500: 100%|██████████████| 126/126 [00:11<00:00, 10.85batch/s, D Loss=0.0462, G Loss=4.6747, Mem=1.52/12.88GB]\n"
     ]
    },
    {
     "name": "stdout",
     "output_type": "stream",
     "text": [
      "Epoch 123/500: 100%|█████████████████████████| 126/126 [0:11<00:00, 0.09s/it, D Loss=0.1130, G Loss=4.0187, Mem=1.52/12.88GB]\n",
      "Epoch 123/500, Avg D Loss: 0.1130, Avg G Loss: 4.0187\n",
      "Saved checkpoint: MURA-v1.1/checkpoints\\bagan_XR_ELBOW_positive_epoch123.pt\n"
     ]
    },
    {
     "name": "stderr",
     "output_type": "stream",
     "text": [
      "Epoch 124/500: 100%|██████████████| 126/126 [00:11<00:00, 11.14batch/s, D Loss=0.0204, G Loss=5.0316, Mem=1.52/12.88GB]\n"
     ]
    },
    {
     "name": "stdout",
     "output_type": "stream",
     "text": [
      "Epoch 124/500: 100%|█████████████████████████| 126/126 [0:11<00:00, 0.09s/it, D Loss=0.1214, G Loss=4.1205, Mem=1.52/12.88GB]\n",
      "Epoch 124/500, Avg D Loss: 0.1214, Avg G Loss: 4.1205\n",
      "Saved checkpoint: MURA-v1.1/checkpoints\\bagan_XR_ELBOW_positive_epoch124.pt\n"
     ]
    },
    {
     "name": "stderr",
     "output_type": "stream",
     "text": [
      "Epoch 125/500: 100%|██████████████| 126/126 [00:11<00:00, 10.87batch/s, D Loss=0.1013, G Loss=4.3441, Mem=1.52/12.88GB]\n"
     ]
    },
    {
     "name": "stdout",
     "output_type": "stream",
     "text": [
      "Epoch 125/500: 100%|█████████████████████████| 126/126 [0:11<00:00, 0.09s/it, D Loss=0.1286, G Loss=4.1194, Mem=1.52/12.88GB]\n",
      "Epoch 125/500, Avg D Loss: 0.1286, Avg G Loss: 4.1194\n",
      "Saved checkpoint: MURA-v1.1/checkpoints\\bagan_XR_ELBOW_positive_epoch125.pt\n"
     ]
    },
    {
     "name": "stderr",
     "output_type": "stream",
     "text": [
      "Epoch 126/500: 100%|██████████████| 126/126 [00:11<00:00, 10.91batch/s, D Loss=0.0594, G Loss=4.8549, Mem=1.52/12.88GB]\n"
     ]
    },
    {
     "name": "stdout",
     "output_type": "stream",
     "text": [
      "Epoch 126/500: 100%|█████████████████████████| 126/126 [0:11<00:00, 0.09s/it, D Loss=0.1654, G Loss=4.3490, Mem=1.52/12.88GB]\n",
      "Epoch 126/500, Avg D Loss: 0.1654, Avg G Loss: 4.3490\n",
      "Saved checkpoint: MURA-v1.1/checkpoints\\bagan_XR_ELBOW_positive_epoch126.pt\n"
     ]
    },
    {
     "name": "stderr",
     "output_type": "stream",
     "text": [
      "Epoch 127/500: 100%|██████████████| 126/126 [00:11<00:00, 10.77batch/s, D Loss=0.0111, G Loss=4.9437, Mem=1.52/12.88GB]\n"
     ]
    },
    {
     "name": "stdout",
     "output_type": "stream",
     "text": [
      "Epoch 127/500: 100%|█████████████████████████| 126/126 [0:11<00:00, 0.09s/it, D Loss=0.1242, G Loss=3.9543, Mem=1.52/12.88GB]\n",
      "Epoch 127/500, Avg D Loss: 0.1242, Avg G Loss: 3.9543\n",
      "Saved checkpoint: MURA-v1.1/checkpoints\\bagan_XR_ELBOW_positive_epoch127.pt\n"
     ]
    },
    {
     "name": "stderr",
     "output_type": "stream",
     "text": [
      "Epoch 128/500: 100%|██████████████| 126/126 [00:11<00:00, 10.98batch/s, D Loss=0.0826, G Loss=3.5138, Mem=1.52/12.88GB]\n"
     ]
    },
    {
     "name": "stdout",
     "output_type": "stream",
     "text": [
      "Epoch 128/500: 100%|█████████████████████████| 126/126 [0:11<00:00, 0.09s/it, D Loss=0.1477, G Loss=4.0890, Mem=1.52/12.88GB]\n",
      "Epoch 128/500, Avg D Loss: 0.1477, Avg G Loss: 4.0890\n",
      "Saved checkpoint: MURA-v1.1/checkpoints\\bagan_XR_ELBOW_positive_epoch128.pt\n"
     ]
    },
    {
     "name": "stderr",
     "output_type": "stream",
     "text": [
      "Epoch 129/500: 100%|██████████████| 126/126 [00:11<00:00, 11.12batch/s, D Loss=0.0145, G Loss=4.7292, Mem=1.52/12.88GB]\n"
     ]
    },
    {
     "name": "stdout",
     "output_type": "stream",
     "text": [
      "Epoch 129/500: 100%|█████████████████████████| 126/126 [0:11<00:00, 0.09s/it, D Loss=0.1242, G Loss=4.0427, Mem=1.52/12.88GB]\n",
      "Epoch 129/500, Avg D Loss: 0.1242, Avg G Loss: 4.0427\n",
      "Saved checkpoint: MURA-v1.1/checkpoints\\bagan_XR_ELBOW_positive_epoch129.pt\n"
     ]
    },
    {
     "name": "stderr",
     "output_type": "stream",
     "text": [
      "Epoch 130/500: 100%|██████████████| 126/126 [00:11<00:00, 10.95batch/s, D Loss=0.2039, G Loss=4.6637, Mem=1.52/12.88GB]\n"
     ]
    },
    {
     "name": "stdout",
     "output_type": "stream",
     "text": [
      "Epoch 130/500: 100%|█████████████████████████| 126/126 [0:11<00:00, 0.09s/it, D Loss=0.2066, G Loss=4.3205, Mem=1.52/12.88GB]\n",
      "Epoch 130/500, Avg D Loss: 0.2066, Avg G Loss: 4.3205\n",
      "Saved checkpoint: MURA-v1.1/checkpoints\\bagan_XR_ELBOW_positive_epoch130.pt\n",
      "Saved sample images at epoch 130 in MURA-v1.1/synthetic/samples\\XR_ELBOW\\positive\n"
     ]
    },
    {
     "name": "stderr",
     "output_type": "stream",
     "text": [
      "Epoch 131/500: 100%|██████████████| 126/126 [00:11<00:00, 10.82batch/s, D Loss=0.0029, G Loss=7.1307, Mem=1.52/12.88GB]\n"
     ]
    },
    {
     "name": "stdout",
     "output_type": "stream",
     "text": [
      "Epoch 131/500: 100%|█████████████████████████| 126/126 [0:11<00:00, 0.09s/it, D Loss=0.1210, G Loss=4.0362, Mem=1.52/12.88GB]\n",
      "Epoch 131/500, Avg D Loss: 0.1210, Avg G Loss: 4.0362\n",
      "Saved checkpoint: MURA-v1.1/checkpoints\\bagan_XR_ELBOW_positive_epoch131.pt\n"
     ]
    },
    {
     "name": "stderr",
     "output_type": "stream",
     "text": [
      "Epoch 132/500: 100%|██████████████| 126/126 [00:11<00:00, 10.97batch/s, D Loss=0.1569, G Loss=3.6703, Mem=1.52/12.88GB]\n"
     ]
    },
    {
     "name": "stdout",
     "output_type": "stream",
     "text": [
      "Epoch 132/500: 100%|█████████████████████████| 126/126 [0:11<00:00, 0.09s/it, D Loss=0.1274, G Loss=4.0272, Mem=1.52/12.88GB]\n",
      "Epoch 132/500, Avg D Loss: 0.1274, Avg G Loss: 4.0272\n",
      "Saved checkpoint: MURA-v1.1/checkpoints\\bagan_XR_ELBOW_positive_epoch132.pt\n"
     ]
    },
    {
     "name": "stderr",
     "output_type": "stream",
     "text": [
      "Epoch 133/500: 100%|██████████████| 126/126 [00:11<00:00, 10.96batch/s, D Loss=0.1647, G Loss=2.4554, Mem=1.52/12.88GB]\n"
     ]
    },
    {
     "name": "stdout",
     "output_type": "stream",
     "text": [
      "Epoch 133/500: 100%|█████████████████████████| 126/126 [0:11<00:00, 0.09s/it, D Loss=0.1098, G Loss=4.0642, Mem=1.52/12.88GB]\n",
      "Epoch 133/500, Avg D Loss: 0.1098, Avg G Loss: 4.0642\n",
      "Saved checkpoint: MURA-v1.1/checkpoints\\bagan_XR_ELBOW_positive_epoch133.pt\n"
     ]
    },
    {
     "name": "stderr",
     "output_type": "stream",
     "text": [
      "Epoch 134/500: 100%|██████████████| 126/126 [00:11<00:00, 10.65batch/s, D Loss=0.0900, G Loss=3.3988, Mem=1.52/12.88GB]\n"
     ]
    },
    {
     "name": "stdout",
     "output_type": "stream",
     "text": [
      "Epoch 134/500: 100%|█████████████████████████| 126/126 [0:11<00:00, 0.09s/it, D Loss=0.1043, G Loss=4.1251, Mem=1.52/12.88GB]\n",
      "Epoch 134/500, Avg D Loss: 0.1043, Avg G Loss: 4.1251\n",
      "Saved checkpoint: MURA-v1.1/checkpoints\\bagan_XR_ELBOW_positive_epoch134.pt\n"
     ]
    },
    {
     "name": "stderr",
     "output_type": "stream",
     "text": [
      "Epoch 135/500: 100%|██████████████| 126/126 [00:12<00:00, 10.36batch/s, D Loss=0.0342, G Loss=4.3558, Mem=1.52/12.88GB]\n"
     ]
    },
    {
     "name": "stdout",
     "output_type": "stream",
     "text": [
      "Epoch 135/500: 100%|█████████████████████████| 126/126 [0:12<00:00, 0.10s/it, D Loss=0.1248, G Loss=4.3084, Mem=1.52/12.88GB]\n",
      "Epoch 135/500, Avg D Loss: 0.1248, Avg G Loss: 4.3084\n",
      "Saved checkpoint: MURA-v1.1/checkpoints\\bagan_XR_ELBOW_positive_epoch135.pt\n"
     ]
    },
    {
     "name": "stderr",
     "output_type": "stream",
     "text": [
      "Epoch 136/500: 100%|██████████████| 126/126 [00:12<00:00, 10.28batch/s, D Loss=0.1199, G Loss=3.4800, Mem=1.52/12.88GB]\n"
     ]
    },
    {
     "name": "stdout",
     "output_type": "stream",
     "text": [
      "Epoch 136/500: 100%|█████████████████████████| 126/126 [0:12<00:00, 0.10s/it, D Loss=0.1061, G Loss=4.4867, Mem=1.52/12.88GB]\n",
      "Epoch 136/500, Avg D Loss: 0.1061, Avg G Loss: 4.4867\n",
      "Saved checkpoint: MURA-v1.1/checkpoints\\bagan_XR_ELBOW_positive_epoch136.pt\n"
     ]
    },
    {
     "name": "stderr",
     "output_type": "stream",
     "text": [
      "Epoch 137/500: 100%|██████████████| 126/126 [00:11<00:00, 10.59batch/s, D Loss=0.0483, G Loss=3.6212, Mem=1.52/12.88GB]\n"
     ]
    },
    {
     "name": "stdout",
     "output_type": "stream",
     "text": [
      "Epoch 137/500: 100%|█████████████████████████| 126/126 [0:11<00:00, 0.09s/it, D Loss=0.1650, G Loss=4.3802, Mem=1.52/12.88GB]\n",
      "Epoch 137/500, Avg D Loss: 0.1650, Avg G Loss: 4.3802\n",
      "Saved checkpoint: MURA-v1.1/checkpoints\\bagan_XR_ELBOW_positive_epoch137.pt\n"
     ]
    },
    {
     "name": "stderr",
     "output_type": "stream",
     "text": [
      "Epoch 138/500: 100%|██████████████| 126/126 [00:12<00:00, 10.35batch/s, D Loss=0.0841, G Loss=2.8562, Mem=1.52/12.88GB]\n"
     ]
    },
    {
     "name": "stdout",
     "output_type": "stream",
     "text": [
      "Epoch 138/500: 100%|█████████████████████████| 126/126 [0:12<00:00, 0.10s/it, D Loss=0.1267, G Loss=4.3774, Mem=1.52/12.88GB]\n",
      "Epoch 138/500, Avg D Loss: 0.1267, Avg G Loss: 4.3774\n",
      "Saved checkpoint: MURA-v1.1/checkpoints\\bagan_XR_ELBOW_positive_epoch138.pt\n"
     ]
    },
    {
     "name": "stderr",
     "output_type": "stream",
     "text": [
      "Epoch 139/500: 100%|██████████████| 126/126 [00:12<00:00, 10.46batch/s, D Loss=0.0216, G Loss=4.8894, Mem=1.52/12.88GB]\n"
     ]
    },
    {
     "name": "stdout",
     "output_type": "stream",
     "text": [
      "Epoch 139/500: 100%|█████████████████████████| 126/126 [0:12<00:00, 0.10s/it, D Loss=0.1380, G Loss=4.3457, Mem=1.52/12.88GB]\n",
      "Epoch 139/500, Avg D Loss: 0.1380, Avg G Loss: 4.3457\n",
      "Saved checkpoint: MURA-v1.1/checkpoints\\bagan_XR_ELBOW_positive_epoch139.pt\n"
     ]
    },
    {
     "name": "stderr",
     "output_type": "stream",
     "text": [
      "Epoch 140/500: 100%|██████████████| 126/126 [00:11<00:00, 10.52batch/s, D Loss=0.0574, G Loss=4.2552, Mem=1.52/12.88GB]\n"
     ]
    },
    {
     "name": "stdout",
     "output_type": "stream",
     "text": [
      "Epoch 140/500: 100%|█████████████████████████| 126/126 [0:11<00:00, 0.10s/it, D Loss=0.0998, G Loss=4.2763, Mem=1.52/12.88GB]\n",
      "Epoch 140/500, Avg D Loss: 0.0998, Avg G Loss: 4.2763\n",
      "Saved checkpoint: MURA-v1.1/checkpoints\\bagan_XR_ELBOW_positive_epoch140.pt\n",
      "Saved sample images at epoch 140 in MURA-v1.1/synthetic/samples\\XR_ELBOW\\positive\n"
     ]
    },
    {
     "name": "stderr",
     "output_type": "stream",
     "text": [
      "Epoch 141/500: 100%|██████████████| 126/126 [00:12<00:00, 10.21batch/s, D Loss=0.0448, G Loss=3.8614, Mem=1.52/12.88GB]\n"
     ]
    },
    {
     "name": "stdout",
     "output_type": "stream",
     "text": [
      "Epoch 141/500: 100%|█████████████████████████| 126/126 [0:12<00:00, 0.10s/it, D Loss=0.1387, G Loss=4.2493, Mem=1.52/12.88GB]\n",
      "Epoch 141/500, Avg D Loss: 0.1387, Avg G Loss: 4.2493\n",
      "Saved checkpoint: MURA-v1.1/checkpoints\\bagan_XR_ELBOW_positive_epoch141.pt\n"
     ]
    },
    {
     "name": "stderr",
     "output_type": "stream",
     "text": [
      "Epoch 142/500: 100%|██████████████| 126/126 [00:11<00:00, 10.53batch/s, D Loss=0.0714, G Loss=3.0414, Mem=1.52/12.88GB]\n"
     ]
    },
    {
     "name": "stdout",
     "output_type": "stream",
     "text": [
      "Epoch 142/500: 100%|█████████████████████████| 126/126 [0:11<00:00, 0.10s/it, D Loss=0.1072, G Loss=4.2837, Mem=1.52/12.88GB]\n",
      "Epoch 142/500, Avg D Loss: 0.1072, Avg G Loss: 4.2837\n",
      "Saved checkpoint: MURA-v1.1/checkpoints\\bagan_XR_ELBOW_positive_epoch142.pt\n"
     ]
    },
    {
     "name": "stderr",
     "output_type": "stream",
     "text": [
      "Epoch 143/500: 100%|██████████████| 126/126 [00:11<00:00, 10.59batch/s, D Loss=0.0595, G Loss=3.5333, Mem=1.52/12.88GB]\n"
     ]
    },
    {
     "name": "stdout",
     "output_type": "stream",
     "text": [
      "Epoch 143/500: 100%|█████████████████████████| 126/126 [0:11<00:00, 0.09s/it, D Loss=0.1129, G Loss=4.4682, Mem=1.52/12.88GB]\n",
      "Epoch 143/500, Avg D Loss: 0.1129, Avg G Loss: 4.4682\n",
      "Saved checkpoint: MURA-v1.1/checkpoints\\bagan_XR_ELBOW_positive_epoch143.pt\n"
     ]
    },
    {
     "name": "stderr",
     "output_type": "stream",
     "text": [
      "Epoch 144/500: 100%|██████████████| 126/126 [00:11<00:00, 10.78batch/s, D Loss=0.0843, G Loss=3.1306, Mem=1.52/12.88GB]\n"
     ]
    },
    {
     "name": "stdout",
     "output_type": "stream",
     "text": [
      "Epoch 144/500: 100%|█████████████████████████| 126/126 [0:11<00:00, 0.09s/it, D Loss=0.1116, G Loss=4.4980, Mem=1.52/12.88GB]\n",
      "Epoch 144/500, Avg D Loss: 0.1116, Avg G Loss: 4.4980\n",
      "Saved checkpoint: MURA-v1.1/checkpoints\\bagan_XR_ELBOW_positive_epoch144.pt\n"
     ]
    },
    {
     "name": "stderr",
     "output_type": "stream",
     "text": [
      "Epoch 145/500: 100%|██████████████| 126/126 [00:11<00:00, 11.28batch/s, D Loss=0.0775, G Loss=2.2218, Mem=1.52/12.88GB]\n"
     ]
    },
    {
     "name": "stdout",
     "output_type": "stream",
     "text": [
      "Epoch 145/500: 100%|█████████████████████████| 126/126 [0:11<00:00, 0.09s/it, D Loss=0.1262, G Loss=4.5097, Mem=1.52/12.88GB]\n",
      "Epoch 145/500, Avg D Loss: 0.1262, Avg G Loss: 4.5097\n",
      "Saved checkpoint: MURA-v1.1/checkpoints\\bagan_XR_ELBOW_positive_epoch145.pt\n"
     ]
    },
    {
     "name": "stderr",
     "output_type": "stream",
     "text": [
      "Epoch 146/500: 100%|█████████████| 126/126 [00:11<00:00, 11.12batch/s, D Loss=0.0947, G Loss=14.9701, Mem=1.52/12.88GB]\n"
     ]
    },
    {
     "name": "stdout",
     "output_type": "stream",
     "text": [
      "Epoch 146/500: 100%|█████████████████████████| 126/126 [0:11<00:00, 0.09s/it, D Loss=0.1174, G Loss=4.8264, Mem=1.52/12.88GB]\n",
      "Epoch 146/500, Avg D Loss: 0.1174, Avg G Loss: 4.8264\n",
      "Saved checkpoint: MURA-v1.1/checkpoints\\bagan_XR_ELBOW_positive_epoch146.pt\n"
     ]
    },
    {
     "name": "stderr",
     "output_type": "stream",
     "text": [
      "Epoch 147/500: 100%|██████████████| 126/126 [00:11<00:00, 11.06batch/s, D Loss=0.1042, G Loss=5.3877, Mem=1.52/12.88GB]\n"
     ]
    },
    {
     "name": "stdout",
     "output_type": "stream",
     "text": [
      "Epoch 147/500: 100%|█████████████████████████| 126/126 [0:11<00:00, 0.09s/it, D Loss=0.2270, G Loss=4.6691, Mem=1.52/12.88GB]\n",
      "Epoch 147/500, Avg D Loss: 0.2270, Avg G Loss: 4.6691\n",
      "Saved checkpoint: MURA-v1.1/checkpoints\\bagan_XR_ELBOW_positive_epoch147.pt\n"
     ]
    },
    {
     "name": "stderr",
     "output_type": "stream",
     "text": [
      "Epoch 148/500: 100%|██████████████| 126/126 [00:10<00:00, 11.64batch/s, D Loss=0.0199, G Loss=4.0512, Mem=1.52/12.88GB]\n"
     ]
    },
    {
     "name": "stdout",
     "output_type": "stream",
     "text": [
      "Epoch 148/500: 100%|█████████████████████████| 126/126 [0:10<00:00, 0.09s/it, D Loss=0.0933, G Loss=4.2653, Mem=1.52/12.88GB]\n",
      "Epoch 148/500, Avg D Loss: 0.0933, Avg G Loss: 4.2653\n",
      "Saved checkpoint: MURA-v1.1/checkpoints\\bagan_XR_ELBOW_positive_epoch148.pt\n"
     ]
    },
    {
     "name": "stderr",
     "output_type": "stream",
     "text": [
      "Epoch 149/500: 100%|██████████████| 126/126 [00:11<00:00, 10.74batch/s, D Loss=0.0958, G Loss=4.5517, Mem=1.52/12.88GB]\n"
     ]
    },
    {
     "name": "stdout",
     "output_type": "stream",
     "text": [
      "Epoch 149/500: 100%|█████████████████████████| 126/126 [0:11<00:00, 0.09s/it, D Loss=0.1049, G Loss=4.3410, Mem=1.52/12.88GB]\n",
      "Epoch 149/500, Avg D Loss: 0.1049, Avg G Loss: 4.3410\n",
      "Saved checkpoint: MURA-v1.1/checkpoints\\bagan_XR_ELBOW_positive_epoch149.pt\n"
     ]
    },
    {
     "name": "stderr",
     "output_type": "stream",
     "text": [
      "Epoch 150/500: 100%|██████████████| 126/126 [00:11<00:00, 11.23batch/s, D Loss=0.0491, G Loss=3.4111, Mem=1.52/12.88GB]\n"
     ]
    },
    {
     "name": "stdout",
     "output_type": "stream",
     "text": [
      "Epoch 150/500: 100%|█████████████████████████| 126/126 [0:11<00:00, 0.09s/it, D Loss=0.1252, G Loss=4.4699, Mem=1.52/12.88GB]\n",
      "Epoch 150/500, Avg D Loss: 0.1252, Avg G Loss: 4.4699\n",
      "Saved checkpoint: MURA-v1.1/checkpoints\\bagan_XR_ELBOW_positive_epoch150.pt\n",
      "Saved sample images at epoch 150 in MURA-v1.1/synthetic/samples\\XR_ELBOW\\positive\n"
     ]
    },
    {
     "name": "stderr",
     "output_type": "stream",
     "text": [
      "Epoch 151/500: 100%|██████████████| 126/126 [00:11<00:00, 10.95batch/s, D Loss=0.0190, G Loss=4.1336, Mem=1.52/12.88GB]\n"
     ]
    },
    {
     "name": "stdout",
     "output_type": "stream",
     "text": [
      "Epoch 151/500: 100%|█████████████████████████| 126/126 [0:11<00:00, 0.09s/it, D Loss=0.0909, G Loss=4.4403, Mem=1.52/12.88GB]\n",
      "Epoch 151/500, Avg D Loss: 0.0909, Avg G Loss: 4.4403\n",
      "Saved checkpoint: MURA-v1.1/checkpoints\\bagan_XR_ELBOW_positive_epoch151.pt\n"
     ]
    },
    {
     "name": "stderr",
     "output_type": "stream",
     "text": [
      "Epoch 152/500: 100%|██████████████| 126/126 [00:11<00:00, 11.14batch/s, D Loss=0.0412, G Loss=5.4421, Mem=1.52/12.88GB]\n"
     ]
    },
    {
     "name": "stdout",
     "output_type": "stream",
     "text": [
      "Epoch 152/500: 100%|█████████████████████████| 126/126 [0:11<00:00, 0.09s/it, D Loss=0.0870, G Loss=4.5626, Mem=1.52/12.88GB]\n",
      "Epoch 152/500, Avg D Loss: 0.0870, Avg G Loss: 4.5626\n",
      "Saved checkpoint: MURA-v1.1/checkpoints\\bagan_XR_ELBOW_positive_epoch152.pt\n"
     ]
    },
    {
     "name": "stderr",
     "output_type": "stream",
     "text": [
      "Epoch 153/500: 100%|██████████████| 126/126 [00:11<00:00, 11.10batch/s, D Loss=0.0049, G Loss=5.9919, Mem=1.52/12.88GB]\n"
     ]
    },
    {
     "name": "stdout",
     "output_type": "stream",
     "text": [
      "Epoch 153/500: 100%|█████████████████████████| 126/126 [0:11<00:00, 0.09s/it, D Loss=0.0836, G Loss=4.6536, Mem=1.52/12.88GB]\n",
      "Epoch 153/500, Avg D Loss: 0.0836, Avg G Loss: 4.6536\n",
      "Saved checkpoint: MURA-v1.1/checkpoints\\bagan_XR_ELBOW_positive_epoch153.pt\n"
     ]
    },
    {
     "name": "stderr",
     "output_type": "stream",
     "text": [
      "Epoch 154/500: 100%|██████████████| 126/126 [00:11<00:00, 10.92batch/s, D Loss=0.0177, G Loss=6.8243, Mem=1.52/12.88GB]\n"
     ]
    },
    {
     "name": "stdout",
     "output_type": "stream",
     "text": [
      "Epoch 154/500: 100%|█████████████████████████| 126/126 [0:11<00:00, 0.09s/it, D Loss=0.0988, G Loss=4.6583, Mem=1.52/12.88GB]\n",
      "Epoch 154/500, Avg D Loss: 0.0988, Avg G Loss: 4.6583\n",
      "Saved checkpoint: MURA-v1.1/checkpoints\\bagan_XR_ELBOW_positive_epoch154.pt\n"
     ]
    },
    {
     "name": "stderr",
     "output_type": "stream",
     "text": [
      "Epoch 155/500: 100%|██████████████| 126/126 [00:11<00:00, 10.61batch/s, D Loss=0.1001, G Loss=4.9532, Mem=1.52/12.88GB]\n"
     ]
    },
    {
     "name": "stdout",
     "output_type": "stream",
     "text": [
      "Epoch 155/500: 100%|█████████████████████████| 126/126 [0:11<00:00, 0.09s/it, D Loss=0.1119, G Loss=4.6806, Mem=1.52/12.88GB]\n",
      "Epoch 155/500, Avg D Loss: 0.1119, Avg G Loss: 4.6806\n",
      "Saved checkpoint: MURA-v1.1/checkpoints\\bagan_XR_ELBOW_positive_epoch155.pt\n"
     ]
    },
    {
     "name": "stderr",
     "output_type": "stream",
     "text": [
      "Epoch 156/500: 100%|██████████████| 126/126 [00:11<00:00, 10.63batch/s, D Loss=0.3324, G Loss=5.4590, Mem=1.52/12.88GB]\n"
     ]
    },
    {
     "name": "stdout",
     "output_type": "stream",
     "text": [
      "Epoch 156/500: 100%|█████████████████████████| 126/126 [0:11<00:00, 0.09s/it, D Loss=24.9900, G Loss=3.5926, Mem=1.52/12.88GB]\n",
      "Epoch 156/500, Avg D Loss: 24.9900, Avg G Loss: 3.5926\n",
      "Saved checkpoint: MURA-v1.1/checkpoints\\bagan_XR_ELBOW_positive_epoch156.pt\n"
     ]
    },
    {
     "name": "stderr",
     "output_type": "stream",
     "text": [
      "Epoch 157/500: 100%|██████████████| 126/126 [00:11<00:00, 10.93batch/s, D Loss=0.0241, G Loss=5.9398, Mem=1.52/12.88GB]\n"
     ]
    },
    {
     "name": "stdout",
     "output_type": "stream",
     "text": [
      "Epoch 157/500: 100%|█████████████████████████| 126/126 [0:11<00:00, 0.09s/it, D Loss=0.2175, G Loss=3.8318, Mem=1.52/12.88GB]\n",
      "Epoch 157/500, Avg D Loss: 0.2175, Avg G Loss: 3.8318\n",
      "Saved checkpoint: MURA-v1.1/checkpoints\\bagan_XR_ELBOW_positive_epoch157.pt\n"
     ]
    },
    {
     "name": "stderr",
     "output_type": "stream",
     "text": [
      "Epoch 158/500: 100%|██████████████| 126/126 [00:11<00:00, 10.77batch/s, D Loss=0.0302, G Loss=5.9880, Mem=1.52/12.88GB]\n"
     ]
    },
    {
     "name": "stdout",
     "output_type": "stream",
     "text": [
      "Epoch 158/500: 100%|█████████████████████████| 126/126 [0:11<00:00, 0.09s/it, D Loss=0.1168, G Loss=3.9050, Mem=1.52/12.88GB]\n",
      "Epoch 158/500, Avg D Loss: 0.1168, Avg G Loss: 3.9050\n",
      "Saved checkpoint: MURA-v1.1/checkpoints\\bagan_XR_ELBOW_positive_epoch158.pt\n"
     ]
    },
    {
     "name": "stderr",
     "output_type": "stream",
     "text": [
      "Epoch 159/500: 100%|██████████████| 126/126 [00:11<00:00, 10.89batch/s, D Loss=0.1782, G Loss=4.0687, Mem=1.52/12.88GB]\n"
     ]
    },
    {
     "name": "stdout",
     "output_type": "stream",
     "text": [
      "Epoch 159/500: 100%|█████████████████████████| 126/126 [0:11<00:00, 0.09s/it, D Loss=0.1088, G Loss=4.3001, Mem=1.52/12.88GB]\n",
      "Epoch 159/500, Avg D Loss: 0.1088, Avg G Loss: 4.3001\n",
      "Saved checkpoint: MURA-v1.1/checkpoints\\bagan_XR_ELBOW_positive_epoch159.pt\n"
     ]
    },
    {
     "name": "stderr",
     "output_type": "stream",
     "text": [
      "Epoch 160/500: 100%|██████████████| 126/126 [00:11<00:00, 11.11batch/s, D Loss=0.1457, G Loss=4.0102, Mem=1.52/12.88GB]\n"
     ]
    },
    {
     "name": "stdout",
     "output_type": "stream",
     "text": [
      "Epoch 160/500: 100%|█████████████████████████| 126/126 [0:11<00:00, 0.09s/it, D Loss=0.0878, G Loss=4.1034, Mem=1.52/12.88GB]\n",
      "Epoch 160/500, Avg D Loss: 0.0878, Avg G Loss: 4.1034\n",
      "Saved checkpoint: MURA-v1.1/checkpoints\\bagan_XR_ELBOW_positive_epoch160.pt\n",
      "Saved sample images at epoch 160 in MURA-v1.1/synthetic/samples\\XR_ELBOW\\positive\n"
     ]
    },
    {
     "name": "stderr",
     "output_type": "stream",
     "text": [
      "Epoch 161/500: 100%|██████████████| 126/126 [00:10<00:00, 11.53batch/s, D Loss=0.0286, G Loss=4.8589, Mem=1.52/12.88GB]\n"
     ]
    },
    {
     "name": "stdout",
     "output_type": "stream",
     "text": [
      "Epoch 161/500: 100%|█████████████████████████| 126/126 [0:10<00:00, 0.09s/it, D Loss=0.0906, G Loss=4.3744, Mem=1.52/12.88GB]\n",
      "Epoch 161/500, Avg D Loss: 0.0906, Avg G Loss: 4.3744\n",
      "Saved checkpoint: MURA-v1.1/checkpoints\\bagan_XR_ELBOW_positive_epoch161.pt\n"
     ]
    },
    {
     "name": "stderr",
     "output_type": "stream",
     "text": [
      "Epoch 162/500: 100%|██████████████| 126/126 [00:10<00:00, 11.53batch/s, D Loss=0.0257, G Loss=4.6809, Mem=1.52/12.88GB]\n"
     ]
    },
    {
     "name": "stdout",
     "output_type": "stream",
     "text": [
      "Epoch 162/500: 100%|█████████████████████████| 126/126 [0:10<00:00, 0.09s/it, D Loss=0.0786, G Loss=4.3882, Mem=1.52/12.88GB]\n",
      "Epoch 162/500, Avg D Loss: 0.0786, Avg G Loss: 4.3882\n",
      "Saved checkpoint: MURA-v1.1/checkpoints\\bagan_XR_ELBOW_positive_epoch162.pt\n"
     ]
    },
    {
     "name": "stderr",
     "output_type": "stream",
     "text": [
      "Epoch 163/500: 100%|██████████████| 126/126 [00:11<00:00, 10.80batch/s, D Loss=0.2761, G Loss=1.2351, Mem=1.52/12.88GB]\n"
     ]
    },
    {
     "name": "stdout",
     "output_type": "stream",
     "text": [
      "Epoch 163/500: 100%|█████████████████████████| 126/126 [0:11<00:00, 0.09s/it, D Loss=0.1101, G Loss=4.9250, Mem=1.52/12.88GB]\n",
      "Epoch 163/500, Avg D Loss: 0.1101, Avg G Loss: 4.9250\n",
      "Saved checkpoint: MURA-v1.1/checkpoints\\bagan_XR_ELBOW_positive_epoch163.pt\n"
     ]
    },
    {
     "name": "stderr",
     "output_type": "stream",
     "text": [
      "Epoch 164/500: 100%|██████████████| 126/126 [00:11<00:00, 10.80batch/s, D Loss=0.0412, G Loss=5.8696, Mem=1.52/12.88GB]\n"
     ]
    },
    {
     "name": "stdout",
     "output_type": "stream",
     "text": [
      "Epoch 164/500: 100%|█████████████████████████| 126/126 [0:11<00:00, 0.09s/it, D Loss=0.1389, G Loss=4.6882, Mem=1.52/12.88GB]\n",
      "Epoch 164/500, Avg D Loss: 0.1389, Avg G Loss: 4.6882\n",
      "Saved checkpoint: MURA-v1.1/checkpoints\\bagan_XR_ELBOW_positive_epoch164.pt\n"
     ]
    },
    {
     "name": "stderr",
     "output_type": "stream",
     "text": [
      "Epoch 165/500: 100%|██████████████| 126/126 [00:11<00:00, 10.74batch/s, D Loss=0.0190, G Loss=5.8199, Mem=1.52/12.88GB]\n"
     ]
    },
    {
     "name": "stdout",
     "output_type": "stream",
     "text": [
      "Epoch 165/500: 100%|█████████████████████████| 126/126 [0:11<00:00, 0.09s/it, D Loss=0.0956, G Loss=4.3814, Mem=1.52/12.88GB]\n",
      "Epoch 165/500, Avg D Loss: 0.0956, Avg G Loss: 4.3814\n",
      "Saved checkpoint: MURA-v1.1/checkpoints\\bagan_XR_ELBOW_positive_epoch165.pt\n"
     ]
    },
    {
     "name": "stderr",
     "output_type": "stream",
     "text": [
      "Epoch 166/500: 100%|██████████████| 126/126 [00:11<00:00, 11.22batch/s, D Loss=0.0444, G Loss=3.5552, Mem=1.52/12.88GB]\n"
     ]
    },
    {
     "name": "stdout",
     "output_type": "stream",
     "text": [
      "Epoch 166/500: 100%|█████████████████████████| 126/126 [0:11<00:00, 0.09s/it, D Loss=0.1091, G Loss=4.8003, Mem=1.52/12.88GB]\n",
      "Epoch 166/500, Avg D Loss: 0.1091, Avg G Loss: 4.8003\n",
      "Saved checkpoint: MURA-v1.1/checkpoints\\bagan_XR_ELBOW_positive_epoch166.pt\n"
     ]
    },
    {
     "name": "stderr",
     "output_type": "stream",
     "text": [
      "Epoch 167/500: 100%|██████████████| 126/126 [00:11<00:00, 11.33batch/s, D Loss=0.2937, G Loss=3.0715, Mem=1.52/12.88GB]\n"
     ]
    },
    {
     "name": "stdout",
     "output_type": "stream",
     "text": [
      "Epoch 167/500: 100%|█████████████████████████| 126/126 [0:11<00:00, 0.09s/it, D Loss=0.1218, G Loss=4.6581, Mem=1.52/12.88GB]\n",
      "Epoch 167/500, Avg D Loss: 0.1218, Avg G Loss: 4.6581\n",
      "Saved checkpoint: MURA-v1.1/checkpoints\\bagan_XR_ELBOW_positive_epoch167.pt\n"
     ]
    },
    {
     "name": "stderr",
     "output_type": "stream",
     "text": [
      "Epoch 168/500: 100%|██████████████| 126/126 [00:11<00:00, 11.25batch/s, D Loss=0.1247, G Loss=5.2507, Mem=1.52/12.88GB]\n"
     ]
    },
    {
     "name": "stdout",
     "output_type": "stream",
     "text": [
      "Epoch 168/500: 100%|█████████████████████████| 126/126 [0:11<00:00, 0.09s/it, D Loss=0.0829, G Loss=4.5193, Mem=1.52/12.88GB]\n",
      "Epoch 168/500, Avg D Loss: 0.0829, Avg G Loss: 4.5193\n",
      "Saved checkpoint: MURA-v1.1/checkpoints\\bagan_XR_ELBOW_positive_epoch168.pt\n"
     ]
    },
    {
     "name": "stderr",
     "output_type": "stream",
     "text": [
      "Epoch 169/500: 100%|██████████████| 126/126 [00:11<00:00, 11.09batch/s, D Loss=0.0077, G Loss=4.0932, Mem=1.52/12.88GB]\n"
     ]
    },
    {
     "name": "stdout",
     "output_type": "stream",
     "text": [
      "Epoch 169/500: 100%|█████████████████████████| 126/126 [0:11<00:00, 0.09s/it, D Loss=0.1017, G Loss=4.6146, Mem=1.52/12.88GB]\n",
      "Epoch 169/500, Avg D Loss: 0.1017, Avg G Loss: 4.6146\n",
      "Saved checkpoint: MURA-v1.1/checkpoints\\bagan_XR_ELBOW_positive_epoch169.pt\n"
     ]
    },
    {
     "name": "stderr",
     "output_type": "stream",
     "text": [
      "Epoch 170/500: 100%|██████████████| 126/126 [00:11<00:00, 11.21batch/s, D Loss=0.0210, G Loss=5.0310, Mem=1.52/12.88GB]\n"
     ]
    },
    {
     "name": "stdout",
     "output_type": "stream",
     "text": [
      "Epoch 170/500: 100%|█████████████████████████| 126/126 [0:11<00:00, 0.09s/it, D Loss=0.1377, G Loss=5.3269, Mem=1.52/12.88GB]\n",
      "Epoch 170/500, Avg D Loss: 0.1377, Avg G Loss: 5.3269\n",
      "Saved checkpoint: MURA-v1.1/checkpoints\\bagan_XR_ELBOW_positive_epoch170.pt\n",
      "Saved sample images at epoch 170 in MURA-v1.1/synthetic/samples\\XR_ELBOW\\positive\n"
     ]
    },
    {
     "name": "stderr",
     "output_type": "stream",
     "text": [
      "Epoch 171/500: 100%|██████████████| 126/126 [00:10<00:00, 11.46batch/s, D Loss=0.0082, G Loss=4.9654, Mem=1.52/12.88GB]\n"
     ]
    },
    {
     "name": "stdout",
     "output_type": "stream",
     "text": [
      "Epoch 171/500: 100%|█████████████████████████| 126/126 [0:10<00:00, 0.09s/it, D Loss=0.0838, G Loss=4.5543, Mem=1.52/12.88GB]\n",
      "Epoch 171/500, Avg D Loss: 0.0838, Avg G Loss: 4.5543\n",
      "Saved checkpoint: MURA-v1.1/checkpoints\\bagan_XR_ELBOW_positive_epoch171.pt\n"
     ]
    },
    {
     "name": "stderr",
     "output_type": "stream",
     "text": [
      "Epoch 172/500: 100%|██████████████| 126/126 [00:11<00:00, 11.24batch/s, D Loss=0.0263, G Loss=4.7908, Mem=1.52/12.88GB]\n"
     ]
    },
    {
     "name": "stdout",
     "output_type": "stream",
     "text": [
      "Epoch 172/500: 100%|█████████████████████████| 126/126 [0:11<00:00, 0.09s/it, D Loss=0.0741, G Loss=4.7438, Mem=1.52/12.88GB]\n",
      "Epoch 172/500, Avg D Loss: 0.0741, Avg G Loss: 4.7438\n",
      "Saved checkpoint: MURA-v1.1/checkpoints\\bagan_XR_ELBOW_positive_epoch172.pt\n"
     ]
    },
    {
     "name": "stderr",
     "output_type": "stream",
     "text": [
      "Epoch 173/500: 100%|██████████████| 126/126 [00:11<00:00, 10.69batch/s, D Loss=0.0249, G Loss=6.0541, Mem=1.52/12.88GB]\n"
     ]
    },
    {
     "name": "stdout",
     "output_type": "stream",
     "text": [
      "Epoch 173/500: 100%|█████████████████████████| 126/126 [0:11<00:00, 0.09s/it, D Loss=0.0857, G Loss=4.9040, Mem=1.52/12.88GB]\n",
      "Epoch 173/500, Avg D Loss: 0.0857, Avg G Loss: 4.9040\n",
      "Saved checkpoint: MURA-v1.1/checkpoints\\bagan_XR_ELBOW_positive_epoch173.pt\n"
     ]
    },
    {
     "name": "stderr",
     "output_type": "stream",
     "text": [
      "Epoch 174/500: 100%|██████████████| 126/126 [00:11<00:00, 10.78batch/s, D Loss=0.0440, G Loss=3.5308, Mem=1.52/12.88GB]\n"
     ]
    },
    {
     "name": "stdout",
     "output_type": "stream",
     "text": [
      "Epoch 174/500: 100%|█████████████████████████| 126/126 [0:11<00:00, 0.09s/it, D Loss=0.1115, G Loss=5.0863, Mem=1.52/12.88GB]\n",
      "Epoch 174/500, Avg D Loss: 0.1115, Avg G Loss: 5.0863\n",
      "Saved checkpoint: MURA-v1.1/checkpoints\\bagan_XR_ELBOW_positive_epoch174.pt\n"
     ]
    },
    {
     "name": "stderr",
     "output_type": "stream",
     "text": [
      "Epoch 175/500: 100%|██████████████| 126/126 [00:11<00:00, 10.81batch/s, D Loss=0.0343, G Loss=4.0637, Mem=1.52/12.88GB]\n"
     ]
    },
    {
     "name": "stdout",
     "output_type": "stream",
     "text": [
      "Epoch 175/500: 100%|█████████████████████████| 126/126 [0:11<00:00, 0.09s/it, D Loss=0.0941, G Loss=4.7136, Mem=1.52/12.88GB]\n",
      "Epoch 175/500, Avg D Loss: 0.0941, Avg G Loss: 4.7136\n",
      "Saved checkpoint: MURA-v1.1/checkpoints\\bagan_XR_ELBOW_positive_epoch175.pt\n"
     ]
    },
    {
     "name": "stderr",
     "output_type": "stream",
     "text": [
      "Epoch 176/500: 100%|██████████████| 126/126 [00:11<00:00, 10.60batch/s, D Loss=0.0209, G Loss=4.6328, Mem=1.52/12.88GB]\n"
     ]
    },
    {
     "name": "stdout",
     "output_type": "stream",
     "text": [
      "Epoch 176/500: 100%|█████████████████████████| 126/126 [0:11<00:00, 0.09s/it, D Loss=0.1915, G Loss=5.1101, Mem=1.52/12.88GB]\n",
      "Epoch 176/500, Avg D Loss: 0.1915, Avg G Loss: 5.1101\n",
      "Saved checkpoint: MURA-v1.1/checkpoints\\bagan_XR_ELBOW_positive_epoch176.pt\n"
     ]
    },
    {
     "name": "stderr",
     "output_type": "stream",
     "text": [
      "Epoch 177/500: 100%|██████████████| 126/126 [00:11<00:00, 10.83batch/s, D Loss=0.0740, G Loss=4.4991, Mem=1.52/12.88GB]\n"
     ]
    },
    {
     "name": "stdout",
     "output_type": "stream",
     "text": [
      "Epoch 177/500: 100%|█████████████████████████| 126/126 [0:11<00:00, 0.09s/it, D Loss=0.0978, G Loss=4.6864, Mem=1.52/12.88GB]\n",
      "Epoch 177/500, Avg D Loss: 0.0978, Avg G Loss: 4.6864\n",
      "Saved checkpoint: MURA-v1.1/checkpoints\\bagan_XR_ELBOW_positive_epoch177.pt\n"
     ]
    },
    {
     "name": "stderr",
     "output_type": "stream",
     "text": [
      "Epoch 178/500: 100%|██████████████| 126/126 [00:11<00:00, 10.92batch/s, D Loss=0.6559, G Loss=6.3134, Mem=1.52/12.88GB]\n"
     ]
    },
    {
     "name": "stdout",
     "output_type": "stream",
     "text": [
      "Epoch 178/500: 100%|█████████████████████████| 126/126 [0:11<00:00, 0.09s/it, D Loss=0.1614, G Loss=5.2736, Mem=1.52/12.88GB]\n",
      "Epoch 178/500, Avg D Loss: 0.1614, Avg G Loss: 5.2736\n",
      "Saved checkpoint: MURA-v1.1/checkpoints\\bagan_XR_ELBOW_positive_epoch178.pt\n"
     ]
    },
    {
     "name": "stderr",
     "output_type": "stream",
     "text": [
      "Epoch 179/500: 100%|██████████████| 126/126 [00:11<00:00, 11.08batch/s, D Loss=0.0608, G Loss=4.2805, Mem=1.52/12.88GB]\n"
     ]
    },
    {
     "name": "stdout",
     "output_type": "stream",
     "text": [
      "Epoch 179/500: 100%|█████████████████████████| 126/126 [0:11<00:00, 0.09s/it, D Loss=0.1289, G Loss=4.7083, Mem=1.52/12.88GB]\n",
      "Epoch 179/500, Avg D Loss: 0.1289, Avg G Loss: 4.7083\n",
      "Saved checkpoint: MURA-v1.1/checkpoints\\bagan_XR_ELBOW_positive_epoch179.pt\n"
     ]
    },
    {
     "name": "stderr",
     "output_type": "stream",
     "text": [
      "Epoch 180/500: 100%|██████████████| 126/126 [00:11<00:00, 11.27batch/s, D Loss=0.0505, G Loss=7.6484, Mem=1.52/12.88GB]\n"
     ]
    },
    {
     "name": "stdout",
     "output_type": "stream",
     "text": [
      "Epoch 180/500: 100%|█████████████████████████| 126/126 [0:11<00:00, 0.09s/it, D Loss=0.0807, G Loss=4.5756, Mem=1.52/12.88GB]\n",
      "Epoch 180/500, Avg D Loss: 0.0807, Avg G Loss: 4.5756\n",
      "Saved checkpoint: MURA-v1.1/checkpoints\\bagan_XR_ELBOW_positive_epoch180.pt\n",
      "Saved sample images at epoch 180 in MURA-v1.1/synthetic/samples\\XR_ELBOW\\positive\n"
     ]
    },
    {
     "name": "stderr",
     "output_type": "stream",
     "text": [
      "Epoch 181/500: 100%|██████████████| 126/126 [00:10<00:00, 11.49batch/s, D Loss=0.0285, G Loss=5.1266, Mem=1.52/12.88GB]\n"
     ]
    },
    {
     "name": "stdout",
     "output_type": "stream",
     "text": [
      "Epoch 181/500: 100%|█████████████████████████| 126/126 [0:10<00:00, 0.09s/it, D Loss=0.1064, G Loss=4.8954, Mem=1.52/12.88GB]\n",
      "Epoch 181/500, Avg D Loss: 0.1064, Avg G Loss: 4.8954\n",
      "Saved checkpoint: MURA-v1.1/checkpoints\\bagan_XR_ELBOW_positive_epoch181.pt\n"
     ]
    },
    {
     "name": "stderr",
     "output_type": "stream",
     "text": [
      "Epoch 182/500: 100%|██████████████| 126/126 [00:11<00:00, 10.98batch/s, D Loss=0.0956, G Loss=5.5384, Mem=1.52/12.88GB]\n"
     ]
    },
    {
     "name": "stdout",
     "output_type": "stream",
     "text": [
      "Epoch 182/500: 100%|█████████████████████████| 126/126 [0:11<00:00, 0.09s/it, D Loss=0.0971, G Loss=4.8399, Mem=1.52/12.88GB]\n",
      "Epoch 182/500, Avg D Loss: 0.0971, Avg G Loss: 4.8399\n",
      "Saved checkpoint: MURA-v1.1/checkpoints\\bagan_XR_ELBOW_positive_epoch182.pt\n"
     ]
    },
    {
     "name": "stderr",
     "output_type": "stream",
     "text": [
      "Epoch 183/500: 100%|██████████████| 126/126 [00:11<00:00, 11.04batch/s, D Loss=0.0331, G Loss=4.9651, Mem=1.52/12.88GB]\n"
     ]
    },
    {
     "name": "stdout",
     "output_type": "stream",
     "text": [
      "Epoch 183/500: 100%|█████████████████████████| 126/126 [0:11<00:00, 0.09s/it, D Loss=0.0738, G Loss=4.8012, Mem=1.52/12.88GB]\n",
      "Epoch 183/500, Avg D Loss: 0.0738, Avg G Loss: 4.8012\n",
      "Saved checkpoint: MURA-v1.1/checkpoints\\bagan_XR_ELBOW_positive_epoch183.pt\n"
     ]
    },
    {
     "name": "stderr",
     "output_type": "stream",
     "text": [
      "Epoch 184/500: 100%|██████████████| 126/126 [00:11<00:00, 11.18batch/s, D Loss=0.0626, G Loss=4.7136, Mem=1.52/12.88GB]\n"
     ]
    },
    {
     "name": "stdout",
     "output_type": "stream",
     "text": [
      "Epoch 184/500: 100%|█████████████████████████| 126/126 [0:11<00:00, 0.09s/it, D Loss=0.0690, G Loss=4.7927, Mem=1.52/12.88GB]\n",
      "Epoch 184/500, Avg D Loss: 0.0690, Avg G Loss: 4.7927\n",
      "Saved checkpoint: MURA-v1.1/checkpoints\\bagan_XR_ELBOW_positive_epoch184.pt\n"
     ]
    },
    {
     "name": "stderr",
     "output_type": "stream",
     "text": [
      "Epoch 185/500: 100%|██████████████| 126/126 [00:11<00:00, 10.94batch/s, D Loss=0.2597, G Loss=3.5318, Mem=1.52/12.88GB]\n"
     ]
    },
    {
     "name": "stdout",
     "output_type": "stream",
     "text": [
      "Epoch 185/500: 100%|█████████████████████████| 126/126 [0:11<00:00, 0.09s/it, D Loss=0.0914, G Loss=5.0999, Mem=1.52/12.88GB]\n",
      "Epoch 185/500, Avg D Loss: 0.0914, Avg G Loss: 5.0999\n",
      "Saved checkpoint: MURA-v1.1/checkpoints\\bagan_XR_ELBOW_positive_epoch185.pt\n"
     ]
    },
    {
     "name": "stderr",
     "output_type": "stream",
     "text": [
      "Epoch 186/500: 100%|██████████████| 126/126 [00:11<00:00, 11.04batch/s, D Loss=0.0470, G Loss=5.8971, Mem=1.52/12.88GB]\n"
     ]
    },
    {
     "name": "stdout",
     "output_type": "stream",
     "text": [
      "Epoch 186/500: 100%|█████████████████████████| 126/126 [0:11<00:00, 0.09s/it, D Loss=0.1309, G Loss=5.2163, Mem=1.52/12.88GB]\n",
      "Epoch 186/500, Avg D Loss: 0.1309, Avg G Loss: 5.2163\n",
      "Saved checkpoint: MURA-v1.1/checkpoints\\bagan_XR_ELBOW_positive_epoch186.pt\n"
     ]
    },
    {
     "name": "stderr",
     "output_type": "stream",
     "text": [
      "Epoch 187/500: 100%|██████████████| 126/126 [00:11<00:00, 11.26batch/s, D Loss=0.0542, G Loss=7.0801, Mem=1.52/12.88GB]\n"
     ]
    },
    {
     "name": "stdout",
     "output_type": "stream",
     "text": [
      "Epoch 187/500: 100%|█████████████████████████| 126/126 [0:11<00:00, 0.09s/it, D Loss=0.1389, G Loss=5.3000, Mem=1.52/12.88GB]\n",
      "Epoch 187/500, Avg D Loss: 0.1389, Avg G Loss: 5.3000\n",
      "Saved checkpoint: MURA-v1.1/checkpoints\\bagan_XR_ELBOW_positive_epoch187.pt\n"
     ]
    },
    {
     "name": "stderr",
     "output_type": "stream",
     "text": [
      "Epoch 188/500: 100%|██████████████| 126/126 [00:11<00:00, 11.26batch/s, D Loss=0.0626, G Loss=4.8360, Mem=1.52/12.88GB]\n"
     ]
    },
    {
     "name": "stdout",
     "output_type": "stream",
     "text": [
      "Epoch 188/500: 100%|█████████████████████████| 126/126 [0:11<00:00, 0.09s/it, D Loss=0.1039, G Loss=4.7816, Mem=1.52/12.88GB]\n",
      "Epoch 188/500, Avg D Loss: 0.1039, Avg G Loss: 4.7816\n",
      "Saved checkpoint: MURA-v1.1/checkpoints\\bagan_XR_ELBOW_positive_epoch188.pt\n"
     ]
    },
    {
     "name": "stderr",
     "output_type": "stream",
     "text": [
      "Epoch 189/500: 100%|██████████████| 126/126 [00:11<00:00, 11.29batch/s, D Loss=0.0939, G Loss=7.2522, Mem=1.52/12.88GB]\n"
     ]
    },
    {
     "name": "stdout",
     "output_type": "stream",
     "text": [
      "Epoch 189/500: 100%|█████████████████████████| 126/126 [0:11<00:00, 0.09s/it, D Loss=0.0699, G Loss=4.8382, Mem=1.52/12.88GB]\n",
      "Epoch 189/500, Avg D Loss: 0.0699, Avg G Loss: 4.8382\n",
      "Saved checkpoint: MURA-v1.1/checkpoints\\bagan_XR_ELBOW_positive_epoch189.pt\n"
     ]
    },
    {
     "name": "stderr",
     "output_type": "stream",
     "text": [
      "Epoch 190/500: 100%|██████████████| 126/126 [00:11<00:00, 11.06batch/s, D Loss=0.0076, G Loss=5.7583, Mem=1.52/12.88GB]\n"
     ]
    },
    {
     "name": "stdout",
     "output_type": "stream",
     "text": [
      "Epoch 190/500: 100%|█████████████████████████| 126/126 [0:11<00:00, 0.09s/it, D Loss=0.0892, G Loss=4.9667, Mem=1.52/12.88GB]\n",
      "Epoch 190/500, Avg D Loss: 0.0892, Avg G Loss: 4.9667\n",
      "Saved checkpoint: MURA-v1.1/checkpoints\\bagan_XR_ELBOW_positive_epoch190.pt\n",
      "Saved sample images at epoch 190 in MURA-v1.1/synthetic/samples\\XR_ELBOW\\positive\n"
     ]
    },
    {
     "name": "stderr",
     "output_type": "stream",
     "text": [
      "Epoch 191/500: 100%|██████████████| 126/126 [00:11<00:00, 11.21batch/s, D Loss=0.0199, G Loss=4.5678, Mem=1.52/12.88GB]\n"
     ]
    },
    {
     "name": "stdout",
     "output_type": "stream",
     "text": [
      "Epoch 191/500: 100%|█████████████████████████| 126/126 [0:11<00:00, 0.09s/it, D Loss=0.0891, G Loss=4.9796, Mem=1.52/12.88GB]\n",
      "Epoch 191/500, Avg D Loss: 0.0891, Avg G Loss: 4.9796\n",
      "Saved checkpoint: MURA-v1.1/checkpoints\\bagan_XR_ELBOW_positive_epoch191.pt\n"
     ]
    },
    {
     "name": "stderr",
     "output_type": "stream",
     "text": [
      "Epoch 192/500: 100%|██████████████| 126/126 [00:11<00:00, 10.73batch/s, D Loss=0.1312, G Loss=4.2754, Mem=1.52/12.88GB]\n"
     ]
    },
    {
     "name": "stdout",
     "output_type": "stream",
     "text": [
      "Epoch 192/500: 100%|█████████████████████████| 126/126 [0:11<00:00, 0.09s/it, D Loss=0.0815, G Loss=5.0884, Mem=1.52/12.88GB]\n",
      "Epoch 192/500, Avg D Loss: 0.0815, Avg G Loss: 5.0884\n",
      "Saved checkpoint: MURA-v1.1/checkpoints\\bagan_XR_ELBOW_positive_epoch192.pt\n"
     ]
    },
    {
     "name": "stderr",
     "output_type": "stream",
     "text": [
      "Epoch 193/500: 100%|██████████████| 126/126 [00:11<00:00, 10.67batch/s, D Loss=0.1921, G Loss=4.9440, Mem=1.52/12.88GB]\n"
     ]
    },
    {
     "name": "stdout",
     "output_type": "stream",
     "text": [
      "Epoch 193/500: 100%|█████████████████████████| 126/126 [0:11<00:00, 0.09s/it, D Loss=0.1502, G Loss=5.2633, Mem=1.52/12.88GB]\n",
      "Epoch 193/500, Avg D Loss: 0.1502, Avg G Loss: 5.2633\n",
      "Saved checkpoint: MURA-v1.1/checkpoints\\bagan_XR_ELBOW_positive_epoch193.pt\n"
     ]
    },
    {
     "name": "stderr",
     "output_type": "stream",
     "text": [
      "Epoch 194/500: 100%|██████████████| 126/126 [00:12<00:00, 10.26batch/s, D Loss=0.3570, G Loss=5.0980, Mem=1.52/12.88GB]\n"
     ]
    },
    {
     "name": "stdout",
     "output_type": "stream",
     "text": [
      "Epoch 194/500: 100%|█████████████████████████| 126/126 [0:12<00:00, 0.10s/it, D Loss=0.1091, G Loss=5.1657, Mem=1.52/12.88GB]\n",
      "Epoch 194/500, Avg D Loss: 0.1091, Avg G Loss: 5.1657\n",
      "Saved checkpoint: MURA-v1.1/checkpoints\\bagan_XR_ELBOW_positive_epoch194.pt\n"
     ]
    },
    {
     "name": "stderr",
     "output_type": "stream",
     "text": [
      "Epoch 195/500: 100%|██████████████| 126/126 [00:11<00:00, 10.98batch/s, D Loss=0.0599, G Loss=4.4349, Mem=1.52/12.88GB]\n"
     ]
    },
    {
     "name": "stdout",
     "output_type": "stream",
     "text": [
      "Epoch 195/500: 100%|█████████████████████████| 126/126 [0:11<00:00, 0.09s/it, D Loss=0.1091, G Loss=4.9365, Mem=1.52/12.88GB]\n",
      "Epoch 195/500, Avg D Loss: 0.1091, Avg G Loss: 4.9365\n",
      "Saved checkpoint: MURA-v1.1/checkpoints\\bagan_XR_ELBOW_positive_epoch195.pt\n"
     ]
    },
    {
     "name": "stderr",
     "output_type": "stream",
     "text": [
      "Epoch 196/500: 100%|██████████████| 126/126 [00:11<00:00, 11.12batch/s, D Loss=0.0159, G Loss=4.6225, Mem=1.52/12.88GB]\n"
     ]
    },
    {
     "name": "stdout",
     "output_type": "stream",
     "text": [
      "Epoch 196/500: 100%|█████████████████████████| 126/126 [0:11<00:00, 0.09s/it, D Loss=0.0605, G Loss=4.8843, Mem=1.52/12.88GB]\n",
      "Epoch 196/500, Avg D Loss: 0.0605, Avg G Loss: 4.8843\n",
      "Saved checkpoint: MURA-v1.1/checkpoints\\bagan_XR_ELBOW_positive_epoch196.pt\n"
     ]
    },
    {
     "name": "stderr",
     "output_type": "stream",
     "text": [
      "Epoch 197/500: 100%|██████████████| 126/126 [00:11<00:00, 11.19batch/s, D Loss=0.1416, G Loss=7.0132, Mem=1.52/12.88GB]\n"
     ]
    },
    {
     "name": "stdout",
     "output_type": "stream",
     "text": [
      "Epoch 197/500: 100%|█████████████████████████| 126/126 [0:11<00:00, 0.09s/it, D Loss=0.0689, G Loss=5.2342, Mem=1.52/12.88GB]\n",
      "Epoch 197/500, Avg D Loss: 0.0689, Avg G Loss: 5.2342\n",
      "Saved checkpoint: MURA-v1.1/checkpoints\\bagan_XR_ELBOW_positive_epoch197.pt\n"
     ]
    },
    {
     "name": "stderr",
     "output_type": "stream",
     "text": [
      "Epoch 198/500: 100%|██████████████| 126/126 [00:11<00:00, 11.37batch/s, D Loss=0.0787, G Loss=6.7476, Mem=1.52/12.88GB]\n"
     ]
    },
    {
     "name": "stdout",
     "output_type": "stream",
     "text": [
      "Epoch 198/500: 100%|█████████████████████████| 126/126 [0:11<00:00, 0.09s/it, D Loss=0.1164, G Loss=5.3603, Mem=1.52/12.88GB]\n",
      "Epoch 198/500, Avg D Loss: 0.1164, Avg G Loss: 5.3603\n",
      "Saved checkpoint: MURA-v1.1/checkpoints\\bagan_XR_ELBOW_positive_epoch198.pt\n"
     ]
    },
    {
     "name": "stderr",
     "output_type": "stream",
     "text": [
      "Epoch 199/500: 100%|██████████████| 126/126 [00:11<00:00, 11.20batch/s, D Loss=0.0089, G Loss=5.9337, Mem=1.52/12.88GB]\n"
     ]
    },
    {
     "name": "stdout",
     "output_type": "stream",
     "text": [
      "Epoch 199/500: 100%|█████████████████████████| 126/126 [0:11<00:00, 0.09s/it, D Loss=0.1086, G Loss=5.0046, Mem=1.52/12.88GB]\n",
      "Epoch 199/500, Avg D Loss: 0.1086, Avg G Loss: 5.0046\n",
      "Saved checkpoint: MURA-v1.1/checkpoints\\bagan_XR_ELBOW_positive_epoch199.pt\n"
     ]
    },
    {
     "name": "stderr",
     "output_type": "stream",
     "text": [
      "Epoch 200/500: 100%|██████████████| 126/126 [00:11<00:00, 11.44batch/s, D Loss=0.0302, G Loss=4.6290, Mem=1.52/12.88GB]\n"
     ]
    },
    {
     "name": "stdout",
     "output_type": "stream",
     "text": [
      "Epoch 200/500: 100%|█████████████████████████| 126/126 [0:11<00:00, 0.09s/it, D Loss=0.0720, G Loss=5.1159, Mem=1.52/12.88GB]\n",
      "Epoch 200/500, Avg D Loss: 0.0720, Avg G Loss: 5.1159\n",
      "Saved checkpoint: MURA-v1.1/checkpoints\\bagan_XR_ELBOW_positive_epoch200.pt\n",
      "Saved sample images at epoch 200 in MURA-v1.1/synthetic/samples\\XR_ELBOW\\positive\n"
     ]
    },
    {
     "name": "stderr",
     "output_type": "stream",
     "text": [
      "Epoch 201/500: 100%|██████████████| 126/126 [00:11<00:00, 10.89batch/s, D Loss=0.0182, G Loss=5.6016, Mem=1.52/12.88GB]\n"
     ]
    },
    {
     "name": "stdout",
     "output_type": "stream",
     "text": [
      "Epoch 201/500: 100%|█████████████████████████| 126/126 [0:11<00:00, 0.09s/it, D Loss=0.0711, G Loss=5.0834, Mem=1.52/12.88GB]\n",
      "Epoch 201/500, Avg D Loss: 0.0711, Avg G Loss: 5.0834\n",
      "Saved checkpoint: MURA-v1.1/checkpoints\\bagan_XR_ELBOW_positive_epoch201.pt\n"
     ]
    },
    {
     "name": "stderr",
     "output_type": "stream",
     "text": [
      "Epoch 202/500: 100%|██████████████| 126/126 [00:11<00:00, 11.05batch/s, D Loss=0.0383, G Loss=6.4825, Mem=1.52/12.88GB]\n"
     ]
    },
    {
     "name": "stdout",
     "output_type": "stream",
     "text": [
      "Epoch 202/500: 100%|█████████████████████████| 126/126 [0:11<00:00, 0.09s/it, D Loss=0.0996, G Loss=5.5392, Mem=1.52/12.88GB]\n",
      "Epoch 202/500, Avg D Loss: 0.0996, Avg G Loss: 5.5392\n",
      "Saved checkpoint: MURA-v1.1/checkpoints\\bagan_XR_ELBOW_positive_epoch202.pt\n"
     ]
    },
    {
     "name": "stderr",
     "output_type": "stream",
     "text": [
      "Epoch 203/500: 100%|██████████████| 126/126 [00:11<00:00, 11.11batch/s, D Loss=0.0328, G Loss=4.9903, Mem=1.52/12.88GB]\n"
     ]
    },
    {
     "name": "stdout",
     "output_type": "stream",
     "text": [
      "Epoch 203/500: 100%|█████████████████████████| 126/126 [0:11<00:00, 0.09s/it, D Loss=0.1838, G Loss=5.0972, Mem=1.52/12.88GB]\n",
      "Epoch 203/500, Avg D Loss: 0.1838, Avg G Loss: 5.0972\n",
      "Saved checkpoint: MURA-v1.1/checkpoints\\bagan_XR_ELBOW_positive_epoch203.pt\n"
     ]
    },
    {
     "name": "stderr",
     "output_type": "stream",
     "text": [
      "Epoch 204/500: 100%|██████████████| 126/126 [00:11<00:00, 11.23batch/s, D Loss=0.0275, G Loss=3.4262, Mem=1.52/12.88GB]\n"
     ]
    },
    {
     "name": "stdout",
     "output_type": "stream",
     "text": [
      "Epoch 204/500: 100%|█████████████████████████| 126/126 [0:11<00:00, 0.09s/it, D Loss=0.0870, G Loss=4.9262, Mem=1.52/12.88GB]\n",
      "Epoch 204/500, Avg D Loss: 0.0870, Avg G Loss: 4.9262\n",
      "Saved checkpoint: MURA-v1.1/checkpoints\\bagan_XR_ELBOW_positive_epoch204.pt\n"
     ]
    },
    {
     "name": "stderr",
     "output_type": "stream",
     "text": [
      "Epoch 205/500: 100%|██████████████| 126/126 [00:11<00:00, 10.91batch/s, D Loss=0.0689, G Loss=3.0671, Mem=1.52/12.88GB]\n"
     ]
    },
    {
     "name": "stdout",
     "output_type": "stream",
     "text": [
      "Epoch 205/500: 100%|█████████████████████████| 126/126 [0:11<00:00, 0.09s/it, D Loss=0.0574, G Loss=4.9635, Mem=1.52/12.88GB]\n",
      "Epoch 205/500, Avg D Loss: 0.0574, Avg G Loss: 4.9635\n",
      "Saved checkpoint: MURA-v1.1/checkpoints\\bagan_XR_ELBOW_positive_epoch205.pt\n"
     ]
    },
    {
     "name": "stderr",
     "output_type": "stream",
     "text": [
      "Epoch 206/500: 100%|██████████████| 126/126 [00:11<00:00, 10.79batch/s, D Loss=0.0121, G Loss=7.1182, Mem=1.52/12.88GB]\n"
     ]
    },
    {
     "name": "stdout",
     "output_type": "stream",
     "text": [
      "Epoch 206/500: 100%|█████████████████████████| 126/126 [0:11<00:00, 0.09s/it, D Loss=0.0601, G Loss=5.1402, Mem=1.52/12.88GB]\n",
      "Epoch 206/500, Avg D Loss: 0.0601, Avg G Loss: 5.1402\n",
      "Saved checkpoint: MURA-v1.1/checkpoints\\bagan_XR_ELBOW_positive_epoch206.pt\n"
     ]
    },
    {
     "name": "stderr",
     "output_type": "stream",
     "text": [
      "Epoch 207/500: 100%|██████████████| 126/126 [00:11<00:00, 11.02batch/s, D Loss=0.0155, G Loss=5.8476, Mem=1.52/12.88GB]\n"
     ]
    },
    {
     "name": "stdout",
     "output_type": "stream",
     "text": [
      "Epoch 207/500: 100%|█████████████████████████| 126/126 [0:11<00:00, 0.09s/it, D Loss=0.0906, G Loss=5.1786, Mem=1.52/12.88GB]\n",
      "Epoch 207/500, Avg D Loss: 0.0906, Avg G Loss: 5.1786\n",
      "Saved checkpoint: MURA-v1.1/checkpoints\\bagan_XR_ELBOW_positive_epoch207.pt\n"
     ]
    },
    {
     "name": "stderr",
     "output_type": "stream",
     "text": [
      "Epoch 208/500: 100%|██████████████| 126/126 [00:11<00:00, 11.11batch/s, D Loss=0.0254, G Loss=5.9744, Mem=1.52/12.88GB]\n"
     ]
    },
    {
     "name": "stdout",
     "output_type": "stream",
     "text": [
      "Epoch 208/500: 100%|█████████████████████████| 126/126 [0:11<00:00, 0.09s/it, D Loss=0.0668, G Loss=5.3327, Mem=1.52/12.88GB]\n",
      "Epoch 208/500, Avg D Loss: 0.0668, Avg G Loss: 5.3327\n",
      "Saved checkpoint: MURA-v1.1/checkpoints\\bagan_XR_ELBOW_positive_epoch208.pt\n"
     ]
    },
    {
     "name": "stderr",
     "output_type": "stream",
     "text": [
      "Epoch 209/500: 100%|██████████████| 126/126 [00:11<00:00, 10.97batch/s, D Loss=0.0190, G Loss=4.2507, Mem=1.52/12.88GB]\n"
     ]
    },
    {
     "name": "stdout",
     "output_type": "stream",
     "text": [
      "Epoch 209/500: 100%|█████████████████████████| 126/126 [0:11<00:00, 0.09s/it, D Loss=0.1460, G Loss=5.5733, Mem=1.52/12.88GB]\n",
      "Epoch 209/500, Avg D Loss: 0.1460, Avg G Loss: 5.5733\n",
      "Saved checkpoint: MURA-v1.1/checkpoints\\bagan_XR_ELBOW_positive_epoch209.pt\n"
     ]
    },
    {
     "name": "stderr",
     "output_type": "stream",
     "text": [
      "Epoch 210/500: 100%|██████████████| 126/126 [00:11<00:00, 10.90batch/s, D Loss=0.0756, G Loss=3.8976, Mem=1.52/12.88GB]\n"
     ]
    },
    {
     "name": "stdout",
     "output_type": "stream",
     "text": [
      "Epoch 210/500: 100%|█████████████████████████| 126/126 [0:11<00:00, 0.09s/it, D Loss=0.1232, G Loss=5.1383, Mem=1.52/12.88GB]\n",
      "Epoch 210/500, Avg D Loss: 0.1232, Avg G Loss: 5.1383\n",
      "Saved checkpoint: MURA-v1.1/checkpoints\\bagan_XR_ELBOW_positive_epoch210.pt\n",
      "Saved sample images at epoch 210 in MURA-v1.1/synthetic/samples\\XR_ELBOW\\positive\n"
     ]
    },
    {
     "name": "stderr",
     "output_type": "stream",
     "text": [
      "Epoch 211/500: 100%|██████████████| 126/126 [00:11<00:00, 10.80batch/s, D Loss=0.0047, G Loss=5.3676, Mem=1.52/12.88GB]\n"
     ]
    },
    {
     "name": "stdout",
     "output_type": "stream",
     "text": [
      "Epoch 211/500: 100%|█████████████████████████| 126/126 [0:11<00:00, 0.09s/it, D Loss=0.0943, G Loss=5.1903, Mem=1.52/12.88GB]\n",
      "Epoch 211/500, Avg D Loss: 0.0943, Avg G Loss: 5.1903\n",
      "Saved checkpoint: MURA-v1.1/checkpoints\\bagan_XR_ELBOW_positive_epoch211.pt\n"
     ]
    },
    {
     "name": "stderr",
     "output_type": "stream",
     "text": [
      "Epoch 212/500: 100%|██████████████| 126/126 [00:11<00:00, 10.80batch/s, D Loss=0.0234, G Loss=5.0086, Mem=1.52/12.88GB]\n"
     ]
    },
    {
     "name": "stdout",
     "output_type": "stream",
     "text": [
      "Epoch 212/500: 100%|█████████████████████████| 126/126 [0:11<00:00, 0.09s/it, D Loss=0.0864, G Loss=5.5271, Mem=1.52/12.88GB]\n",
      "Epoch 212/500, Avg D Loss: 0.0864, Avg G Loss: 5.5271\n",
      "Saved checkpoint: MURA-v1.1/checkpoints\\bagan_XR_ELBOW_positive_epoch212.pt\n"
     ]
    },
    {
     "name": "stderr",
     "output_type": "stream",
     "text": [
      "Epoch 213/500: 100%|██████████████| 126/126 [00:11<00:00, 10.78batch/s, D Loss=0.0013, G Loss=6.0178, Mem=1.52/12.88GB]\n"
     ]
    },
    {
     "name": "stdout",
     "output_type": "stream",
     "text": [
      "Epoch 213/500: 100%|█████████████████████████| 126/126 [0:11<00:00, 0.09s/it, D Loss=0.0681, G Loss=5.1774, Mem=1.52/12.88GB]\n",
      "Epoch 213/500, Avg D Loss: 0.0681, Avg G Loss: 5.1774\n",
      "Saved checkpoint: MURA-v1.1/checkpoints\\bagan_XR_ELBOW_positive_epoch213.pt\n"
     ]
    },
    {
     "name": "stderr",
     "output_type": "stream",
     "text": [
      "Epoch 214/500: 100%|██████████████| 126/126 [00:12<00:00, 10.48batch/s, D Loss=0.0051, G Loss=5.4116, Mem=1.52/12.88GB]\n"
     ]
    },
    {
     "name": "stdout",
     "output_type": "stream",
     "text": [
      "Epoch 214/500: 100%|█████████████████████████| 126/126 [0:12<00:00, 0.10s/it, D Loss=0.0482, G Loss=5.3310, Mem=1.52/12.88GB]\n",
      "Epoch 214/500, Avg D Loss: 0.0482, Avg G Loss: 5.3310\n",
      "Saved checkpoint: MURA-v1.1/checkpoints\\bagan_XR_ELBOW_positive_epoch214.pt\n"
     ]
    },
    {
     "name": "stderr",
     "output_type": "stream",
     "text": [
      "Epoch 215/500: 100%|██████████████| 126/126 [00:11<00:00, 10.59batch/s, D Loss=0.0793, G Loss=5.5202, Mem=1.52/12.88GB]\n"
     ]
    },
    {
     "name": "stdout",
     "output_type": "stream",
     "text": [
      "Epoch 215/500: 100%|█████████████████████████| 126/126 [0:11<00:00, 0.09s/it, D Loss=0.1546, G Loss=6.0036, Mem=1.52/12.88GB]\n",
      "Epoch 215/500, Avg D Loss: 0.1546, Avg G Loss: 6.0036\n",
      "Saved checkpoint: MURA-v1.1/checkpoints\\bagan_XR_ELBOW_positive_epoch215.pt\n"
     ]
    },
    {
     "name": "stderr",
     "output_type": "stream",
     "text": [
      "Epoch 216/500: 100%|██████████████| 126/126 [00:11<00:00, 10.62batch/s, D Loss=0.0341, G Loss=4.3522, Mem=1.52/12.88GB]\n"
     ]
    },
    {
     "name": "stdout",
     "output_type": "stream",
     "text": [
      "Epoch 216/500: 100%|█████████████████████████| 126/126 [0:11<00:00, 0.09s/it, D Loss=0.1010, G Loss=5.1886, Mem=1.52/12.88GB]\n",
      "Epoch 216/500, Avg D Loss: 0.1010, Avg G Loss: 5.1886\n",
      "Saved checkpoint: MURA-v1.1/checkpoints\\bagan_XR_ELBOW_positive_epoch216.pt\n"
     ]
    },
    {
     "name": "stderr",
     "output_type": "stream",
     "text": [
      "Epoch 217/500: 100%|██████████████| 126/126 [00:11<00:00, 10.55batch/s, D Loss=0.0797, G Loss=4.4266, Mem=1.52/12.88GB]\n"
     ]
    },
    {
     "name": "stdout",
     "output_type": "stream",
     "text": [
      "Epoch 217/500: 100%|█████████████████████████| 126/126 [0:11<00:00, 0.09s/it, D Loss=0.0567, G Loss=5.0720, Mem=1.52/12.88GB]\n",
      "Epoch 217/500, Avg D Loss: 0.0567, Avg G Loss: 5.0720\n",
      "Saved checkpoint: MURA-v1.1/checkpoints\\bagan_XR_ELBOW_positive_epoch217.pt\n"
     ]
    },
    {
     "name": "stderr",
     "output_type": "stream",
     "text": [
      "Epoch 218/500: 100%|██████████████| 126/126 [00:11<00:00, 10.73batch/s, D Loss=0.0207, G Loss=4.3362, Mem=1.52/12.88GB]\n"
     ]
    },
    {
     "name": "stdout",
     "output_type": "stream",
     "text": [
      "Epoch 218/500: 100%|█████████████████████████| 126/126 [0:11<00:00, 0.09s/it, D Loss=0.0629, G Loss=5.2968, Mem=1.52/12.88GB]\n",
      "Epoch 218/500, Avg D Loss: 0.0629, Avg G Loss: 5.2968\n",
      "Saved checkpoint: MURA-v1.1/checkpoints\\bagan_XR_ELBOW_positive_epoch218.pt\n"
     ]
    },
    {
     "name": "stderr",
     "output_type": "stream",
     "text": [
      "Epoch 219/500: 100%|██████████████| 126/126 [00:11<00:00, 10.57batch/s, D Loss=0.0053, G Loss=6.4659, Mem=1.52/12.88GB]\n"
     ]
    },
    {
     "name": "stdout",
     "output_type": "stream",
     "text": [
      "Epoch 219/500: 100%|█████████████████████████| 126/126 [0:11<00:00, 0.09s/it, D Loss=0.0924, G Loss=5.6218, Mem=1.52/12.88GB]\n",
      "Epoch 219/500, Avg D Loss: 0.0924, Avg G Loss: 5.6218\n",
      "Saved checkpoint: MURA-v1.1/checkpoints\\bagan_XR_ELBOW_positive_epoch219.pt\n"
     ]
    },
    {
     "name": "stderr",
     "output_type": "stream",
     "text": [
      "Epoch 220/500: 100%|██████████████| 126/126 [00:11<00:00, 10.71batch/s, D Loss=0.0354, G Loss=4.9304, Mem=1.52/12.88GB]\n"
     ]
    },
    {
     "name": "stdout",
     "output_type": "stream",
     "text": [
      "Epoch 220/500: 100%|█████████████████████████| 126/126 [0:11<00:00, 0.09s/it, D Loss=0.0791, G Loss=5.2314, Mem=1.52/12.88GB]\n",
      "Epoch 220/500, Avg D Loss: 0.0791, Avg G Loss: 5.2314\n",
      "Saved checkpoint: MURA-v1.1/checkpoints\\bagan_XR_ELBOW_positive_epoch220.pt\n",
      "Saved sample images at epoch 220 in MURA-v1.1/synthetic/samples\\XR_ELBOW\\positive\n"
     ]
    },
    {
     "name": "stderr",
     "output_type": "stream",
     "text": [
      "Epoch 221/500: 100%|██████████████| 126/126 [00:11<00:00, 10.73batch/s, D Loss=0.1023, G Loss=3.7752, Mem=1.52/12.88GB]\n"
     ]
    },
    {
     "name": "stdout",
     "output_type": "stream",
     "text": [
      "Epoch 221/500: 100%|█████████████████████████| 126/126 [0:11<00:00, 0.09s/it, D Loss=0.0810, G Loss=5.5517, Mem=1.52/12.88GB]\n",
      "Epoch 221/500, Avg D Loss: 0.0810, Avg G Loss: 5.5517\n",
      "Saved checkpoint: MURA-v1.1/checkpoints\\bagan_XR_ELBOW_positive_epoch221.pt\n"
     ]
    },
    {
     "name": "stderr",
     "output_type": "stream",
     "text": [
      "Epoch 222/500: 100%|██████████████| 126/126 [00:11<00:00, 10.58batch/s, D Loss=0.1293, G Loss=3.2558, Mem=1.52/12.88GB]\n"
     ]
    },
    {
     "name": "stdout",
     "output_type": "stream",
     "text": [
      "Epoch 222/500: 100%|█████████████████████████| 126/126 [0:11<00:00, 0.09s/it, D Loss=0.1182, G Loss=5.5932, Mem=1.52/12.88GB]\n",
      "Epoch 222/500, Avg D Loss: 0.1182, Avg G Loss: 5.5932\n",
      "Saved checkpoint: MURA-v1.1/checkpoints\\bagan_XR_ELBOW_positive_epoch222.pt\n"
     ]
    },
    {
     "name": "stderr",
     "output_type": "stream",
     "text": [
      "Epoch 223/500: 100%|██████████████| 126/126 [00:11<00:00, 10.96batch/s, D Loss=0.0114, G Loss=6.0410, Mem=1.52/12.88GB]\n"
     ]
    },
    {
     "name": "stdout",
     "output_type": "stream",
     "text": [
      "Epoch 223/500: 100%|█████████████████████████| 126/126 [0:11<00:00, 0.09s/it, D Loss=0.0592, G Loss=5.1812, Mem=1.52/12.88GB]\n",
      "Epoch 223/500, Avg D Loss: 0.0592, Avg G Loss: 5.1812\n",
      "Saved checkpoint: MURA-v1.1/checkpoints\\bagan_XR_ELBOW_positive_epoch223.pt\n"
     ]
    },
    {
     "name": "stderr",
     "output_type": "stream",
     "text": [
      "Epoch 224/500: 100%|██████████████| 126/126 [00:12<00:00, 10.32batch/s, D Loss=0.0208, G Loss=6.0593, Mem=1.52/12.88GB]\n"
     ]
    },
    {
     "name": "stdout",
     "output_type": "stream",
     "text": [
      "Epoch 224/500: 100%|█████████████████████████| 126/126 [0:12<00:00, 0.10s/it, D Loss=0.0604, G Loss=5.5152, Mem=1.52/12.88GB]\n",
      "Epoch 224/500, Avg D Loss: 0.0604, Avg G Loss: 5.5152\n",
      "Saved checkpoint: MURA-v1.1/checkpoints\\bagan_XR_ELBOW_positive_epoch224.pt\n"
     ]
    },
    {
     "name": "stderr",
     "output_type": "stream",
     "text": [
      "Epoch 225/500: 100%|██████████████| 126/126 [00:12<00:00,  9.74batch/s, D Loss=0.2324, G Loss=2.7909, Mem=1.52/12.88GB]\n"
     ]
    },
    {
     "name": "stdout",
     "output_type": "stream",
     "text": [
      "Epoch 225/500: 100%|█████████████████████████| 126/126 [0:12<00:00, 0.10s/it, D Loss=0.1266, G Loss=5.9269, Mem=1.52/12.88GB]\n",
      "Epoch 225/500, Avg D Loss: 0.1266, Avg G Loss: 5.9269\n",
      "Saved checkpoint: MURA-v1.1/checkpoints\\bagan_XR_ELBOW_positive_epoch225.pt\n"
     ]
    },
    {
     "name": "stderr",
     "output_type": "stream",
     "text": [
      "Epoch 226/500: 100%|██████████████| 126/126 [00:12<00:00, 10.11batch/s, D Loss=0.0138, G Loss=4.1460, Mem=1.52/12.88GB]\n"
     ]
    },
    {
     "name": "stdout",
     "output_type": "stream",
     "text": [
      "Epoch 226/500: 100%|█████████████████████████| 126/126 [0:12<00:00, 0.10s/it, D Loss=0.0972, G Loss=5.3583, Mem=1.52/12.88GB]\n",
      "Epoch 226/500, Avg D Loss: 0.0972, Avg G Loss: 5.3583\n",
      "Saved checkpoint: MURA-v1.1/checkpoints\\bagan_XR_ELBOW_positive_epoch226.pt\n"
     ]
    },
    {
     "name": "stderr",
     "output_type": "stream",
     "text": [
      "Epoch 227/500: 100%|██████████████| 126/126 [00:12<00:00,  9.81batch/s, D Loss=0.0577, G Loss=7.3670, Mem=1.52/12.88GB]\n"
     ]
    },
    {
     "name": "stdout",
     "output_type": "stream",
     "text": [
      "Epoch 227/500: 100%|█████████████████████████| 126/126 [0:12<00:00, 0.10s/it, D Loss=0.0798, G Loss=5.4351, Mem=1.52/12.88GB]\n",
      "Epoch 227/500, Avg D Loss: 0.0798, Avg G Loss: 5.4351\n",
      "Saved checkpoint: MURA-v1.1/checkpoints\\bagan_XR_ELBOW_positive_epoch227.pt\n"
     ]
    },
    {
     "name": "stderr",
     "output_type": "stream",
     "text": [
      "Epoch 228/500: 100%|██████████████| 126/126 [00:12<00:00, 10.20batch/s, D Loss=0.0042, G Loss=7.3609, Mem=1.52/12.88GB]\n"
     ]
    },
    {
     "name": "stdout",
     "output_type": "stream",
     "text": [
      "Epoch 228/500: 100%|█████████████████████████| 126/126 [0:12<00:00, 0.10s/it, D Loss=0.1321, G Loss=5.7567, Mem=1.52/12.88GB]\n",
      "Epoch 228/500, Avg D Loss: 0.1321, Avg G Loss: 5.7567\n",
      "Saved checkpoint: MURA-v1.1/checkpoints\\bagan_XR_ELBOW_positive_epoch228.pt\n"
     ]
    },
    {
     "name": "stderr",
     "output_type": "stream",
     "text": [
      "Epoch 229/500: 100%|██████████████| 126/126 [00:12<00:00,  9.83batch/s, D Loss=0.1271, G Loss=4.4308, Mem=1.52/12.88GB]\n"
     ]
    },
    {
     "name": "stdout",
     "output_type": "stream",
     "text": [
      "Epoch 229/500: 100%|█████████████████████████| 126/126 [0:12<00:00, 0.10s/it, D Loss=0.0807, G Loss=5.3107, Mem=1.52/12.88GB]\n",
      "Epoch 229/500, Avg D Loss: 0.0807, Avg G Loss: 5.3107\n",
      "Saved checkpoint: MURA-v1.1/checkpoints\\bagan_XR_ELBOW_positive_epoch229.pt\n"
     ]
    },
    {
     "name": "stderr",
     "output_type": "stream",
     "text": [
      "Epoch 230/500: 100%|██████████████| 126/126 [00:12<00:00, 10.11batch/s, D Loss=0.0895, G Loss=2.6090, Mem=1.52/12.88GB]\n"
     ]
    },
    {
     "name": "stdout",
     "output_type": "stream",
     "text": [
      "Epoch 230/500: 100%|█████████████████████████| 126/126 [0:12<00:00, 0.10s/it, D Loss=0.0858, G Loss=5.4767, Mem=1.52/12.88GB]\n",
      "Epoch 230/500, Avg D Loss: 0.0858, Avg G Loss: 5.4767\n",
      "Saved checkpoint: MURA-v1.1/checkpoints\\bagan_XR_ELBOW_positive_epoch230.pt\n",
      "Saved sample images at epoch 230 in MURA-v1.1/synthetic/samples\\XR_ELBOW\\positive\n"
     ]
    },
    {
     "name": "stderr",
     "output_type": "stream",
     "text": [
      "Epoch 231/500: 100%|██████████████| 126/126 [00:12<00:00, 10.29batch/s, D Loss=0.2759, G Loss=2.2462, Mem=1.52/12.88GB]\n"
     ]
    },
    {
     "name": "stdout",
     "output_type": "stream",
     "text": [
      "Epoch 231/500: 100%|█████████████████████████| 126/126 [0:12<00:00, 0.10s/it, D Loss=0.1473, G Loss=5.8257, Mem=1.52/12.88GB]\n",
      "Epoch 231/500, Avg D Loss: 0.1473, Avg G Loss: 5.8257\n",
      "Saved checkpoint: MURA-v1.1/checkpoints\\bagan_XR_ELBOW_positive_epoch231.pt\n"
     ]
    },
    {
     "name": "stderr",
     "output_type": "stream",
     "text": [
      "Epoch 232/500: 100%|██████████████| 126/126 [00:12<00:00, 10.33batch/s, D Loss=0.0318, G Loss=7.6188, Mem=1.52/12.88GB]\n"
     ]
    },
    {
     "name": "stdout",
     "output_type": "stream",
     "text": [
      "Epoch 232/500: 100%|█████████████████████████| 126/126 [0:12<00:00, 0.10s/it, D Loss=0.1187, G Loss=5.4705, Mem=1.52/12.88GB]\n",
      "Epoch 232/500, Avg D Loss: 0.1187, Avg G Loss: 5.4705\n",
      "Saved checkpoint: MURA-v1.1/checkpoints\\bagan_XR_ELBOW_positive_epoch232.pt\n"
     ]
    },
    {
     "name": "stderr",
     "output_type": "stream",
     "text": [
      "Epoch 233/500: 100%|██████████████| 126/126 [00:11<00:00, 10.51batch/s, D Loss=0.0101, G Loss=4.8030, Mem=1.52/12.88GB]\n"
     ]
    },
    {
     "name": "stdout",
     "output_type": "stream",
     "text": [
      "Epoch 233/500: 100%|█████████████████████████| 126/126 [0:11<00:00, 0.10s/it, D Loss=0.0784, G Loss=5.2855, Mem=1.52/12.88GB]\n",
      "Epoch 233/500, Avg D Loss: 0.0784, Avg G Loss: 5.2855\n",
      "Saved checkpoint: MURA-v1.1/checkpoints\\bagan_XR_ELBOW_positive_epoch233.pt\n"
     ]
    },
    {
     "name": "stderr",
     "output_type": "stream",
     "text": [
      "Epoch 234/500: 100%|██████████████| 126/126 [00:11<00:00, 10.66batch/s, D Loss=0.0586, G Loss=4.4845, Mem=1.52/12.88GB]\n"
     ]
    },
    {
     "name": "stdout",
     "output_type": "stream",
     "text": [
      "Epoch 234/500: 100%|█████████████████████████| 126/126 [0:11<00:00, 0.09s/it, D Loss=0.0694, G Loss=5.6081, Mem=1.52/12.88GB]\n",
      "Epoch 234/500, Avg D Loss: 0.0694, Avg G Loss: 5.6081\n",
      "Saved checkpoint: MURA-v1.1/checkpoints\\bagan_XR_ELBOW_positive_epoch234.pt\n"
     ]
    },
    {
     "name": "stderr",
     "output_type": "stream",
     "text": [
      "Epoch 235/500: 100%|██████████████| 126/126 [00:11<00:00, 10.99batch/s, D Loss=0.0091, G Loss=5.8414, Mem=1.52/12.88GB]\n"
     ]
    },
    {
     "name": "stdout",
     "output_type": "stream",
     "text": [
      "Epoch 235/500: 100%|█████████████████████████| 126/126 [0:11<00:00, 0.09s/it, D Loss=0.0635, G Loss=5.4947, Mem=1.52/12.88GB]\n",
      "Epoch 235/500, Avg D Loss: 0.0635, Avg G Loss: 5.4947\n",
      "Saved checkpoint: MURA-v1.1/checkpoints\\bagan_XR_ELBOW_positive_epoch235.pt\n"
     ]
    },
    {
     "name": "stderr",
     "output_type": "stream",
     "text": [
      "Epoch 236/500: 100%|██████████████| 126/126 [00:11<00:00, 10.81batch/s, D Loss=0.0891, G Loss=4.0565, Mem=1.52/12.88GB]\n"
     ]
    },
    {
     "name": "stdout",
     "output_type": "stream",
     "text": [
      "Epoch 236/500: 100%|█████████████████████████| 126/126 [0:11<00:00, 0.09s/it, D Loss=0.1669, G Loss=5.8550, Mem=1.52/12.88GB]\n",
      "Epoch 236/500, Avg D Loss: 0.1669, Avg G Loss: 5.8550\n",
      "Saved checkpoint: MURA-v1.1/checkpoints\\bagan_XR_ELBOW_positive_epoch236.pt\n"
     ]
    },
    {
     "name": "stderr",
     "output_type": "stream",
     "text": [
      "Epoch 237/500: 100%|██████████████| 126/126 [00:11<00:00, 10.83batch/s, D Loss=0.0595, G Loss=6.3750, Mem=1.52/12.88GB]\n"
     ]
    },
    {
     "name": "stdout",
     "output_type": "stream",
     "text": [
      "Epoch 237/500: 100%|█████████████████████████| 126/126 [0:11<00:00, 0.09s/it, D Loss=0.0985, G Loss=5.3103, Mem=1.52/12.88GB]\n",
      "Epoch 237/500, Avg D Loss: 0.0985, Avg G Loss: 5.3103\n",
      "Saved checkpoint: MURA-v1.1/checkpoints\\bagan_XR_ELBOW_positive_epoch237.pt\n"
     ]
    },
    {
     "name": "stderr",
     "output_type": "stream",
     "text": [
      "Epoch 238/500: 100%|██████████████| 126/126 [00:11<00:00, 10.55batch/s, D Loss=0.0589, G Loss=4.4528, Mem=1.52/12.88GB]\n"
     ]
    },
    {
     "name": "stdout",
     "output_type": "stream",
     "text": [
      "Epoch 238/500: 100%|█████████████████████████| 126/126 [0:11<00:00, 0.09s/it, D Loss=0.0986, G Loss=5.3441, Mem=1.52/12.88GB]\n",
      "Epoch 238/500, Avg D Loss: 0.0986, Avg G Loss: 5.3441\n",
      "Saved checkpoint: MURA-v1.1/checkpoints\\bagan_XR_ELBOW_positive_epoch238.pt\n"
     ]
    },
    {
     "name": "stderr",
     "output_type": "stream",
     "text": [
      "Epoch 239/500: 100%|██████████████| 126/126 [00:11<00:00, 10.85batch/s, D Loss=0.1804, G Loss=3.7281, Mem=1.52/12.88GB]\n"
     ]
    },
    {
     "name": "stdout",
     "output_type": "stream",
     "text": [
      "Epoch 239/500: 100%|█████████████████████████| 126/126 [0:11<00:00, 0.09s/it, D Loss=0.0456, G Loss=5.2816, Mem=1.52/12.88GB]\n",
      "Epoch 239/500, Avg D Loss: 0.0456, Avg G Loss: 5.2816\n",
      "Saved checkpoint: MURA-v1.1/checkpoints\\bagan_XR_ELBOW_positive_epoch239.pt\n"
     ]
    },
    {
     "name": "stderr",
     "output_type": "stream",
     "text": [
      "Epoch 240/500: 100%|██████████████| 126/126 [00:11<00:00, 10.73batch/s, D Loss=0.0336, G Loss=5.7008, Mem=1.52/12.88GB]\n"
     ]
    },
    {
     "name": "stdout",
     "output_type": "stream",
     "text": [
      "Epoch 240/500: 100%|█████████████████████████| 126/126 [0:11<00:00, 0.09s/it, D Loss=0.0742, G Loss=5.4096, Mem=1.52/12.88GB]\n",
      "Epoch 240/500, Avg D Loss: 0.0742, Avg G Loss: 5.4096\n",
      "Saved checkpoint: MURA-v1.1/checkpoints\\bagan_XR_ELBOW_positive_epoch240.pt\n",
      "Saved sample images at epoch 240 in MURA-v1.1/synthetic/samples\\XR_ELBOW\\positive\n"
     ]
    },
    {
     "name": "stderr",
     "output_type": "stream",
     "text": [
      "Epoch 241/500: 100%|██████████████| 126/126 [00:11<00:00, 10.67batch/s, D Loss=0.0131, G Loss=4.8155, Mem=1.52/12.88GB]\n"
     ]
    },
    {
     "name": "stdout",
     "output_type": "stream",
     "text": [
      "Epoch 241/500: 100%|█████████████████████████| 126/126 [0:11<00:00, 0.09s/it, D Loss=0.0553, G Loss=5.4332, Mem=1.52/12.88GB]\n",
      "Epoch 241/500, Avg D Loss: 0.0553, Avg G Loss: 5.4332\n",
      "Saved checkpoint: MURA-v1.1/checkpoints\\bagan_XR_ELBOW_positive_epoch241.pt\n"
     ]
    },
    {
     "name": "stderr",
     "output_type": "stream",
     "text": [
      "Epoch 242/500: 100%|██████████████| 126/126 [00:11<00:00, 11.13batch/s, D Loss=0.0325, G Loss=4.5577, Mem=1.52/12.88GB]\n"
     ]
    },
    {
     "name": "stdout",
     "output_type": "stream",
     "text": [
      "Epoch 242/500: 100%|█████████████████████████| 126/126 [0:11<00:00, 0.09s/it, D Loss=0.0384, G Loss=5.5262, Mem=1.52/12.88GB]\n",
      "Epoch 242/500, Avg D Loss: 0.0384, Avg G Loss: 5.5262\n",
      "Saved checkpoint: MURA-v1.1/checkpoints\\bagan_XR_ELBOW_positive_epoch242.pt\n"
     ]
    },
    {
     "name": "stderr",
     "output_type": "stream",
     "text": [
      "Epoch 243/500: 100%|██████████████| 126/126 [00:12<00:00, 10.11batch/s, D Loss=0.0875, G Loss=7.3635, Mem=1.52/12.88GB]\n"
     ]
    },
    {
     "name": "stdout",
     "output_type": "stream",
     "text": [
      "Epoch 243/500: 100%|█████████████████████████| 126/126 [0:12<00:00, 0.10s/it, D Loss=0.1635, G Loss=6.5705, Mem=1.52/12.88GB]\n",
      "Epoch 243/500, Avg D Loss: 0.1635, Avg G Loss: 6.5705\n",
      "Saved checkpoint: MURA-v1.1/checkpoints\\bagan_XR_ELBOW_positive_epoch243.pt\n"
     ]
    },
    {
     "name": "stderr",
     "output_type": "stream",
     "text": [
      "Epoch 244/500: 100%|██████████████| 126/126 [00:12<00:00, 10.20batch/s, D Loss=0.0314, G Loss=4.1146, Mem=1.52/12.88GB]\n"
     ]
    },
    {
     "name": "stdout",
     "output_type": "stream",
     "text": [
      "Epoch 244/500: 100%|█████████████████████████| 126/126 [0:12<00:00, 0.10s/it, D Loss=0.1383, G Loss=5.3916, Mem=1.52/12.88GB]\n",
      "Epoch 244/500, Avg D Loss: 0.1383, Avg G Loss: 5.3916\n",
      "Saved checkpoint: MURA-v1.1/checkpoints\\bagan_XR_ELBOW_positive_epoch244.pt\n"
     ]
    },
    {
     "name": "stderr",
     "output_type": "stream",
     "text": [
      "Epoch 245/500: 100%|██████████████| 126/126 [00:12<00:00, 10.02batch/s, D Loss=0.0603, G Loss=7.0309, Mem=1.52/12.88GB]\n"
     ]
    },
    {
     "name": "stdout",
     "output_type": "stream",
     "text": [
      "Epoch 245/500: 100%|█████████████████████████| 126/126 [0:12<00:00, 0.10s/it, D Loss=0.0780, G Loss=5.3593, Mem=1.52/12.88GB]\n",
      "Epoch 245/500, Avg D Loss: 0.0780, Avg G Loss: 5.3593\n",
      "Saved checkpoint: MURA-v1.1/checkpoints\\bagan_XR_ELBOW_positive_epoch245.pt\n"
     ]
    },
    {
     "name": "stderr",
     "output_type": "stream",
     "text": [
      "Epoch 246/500: 100%|██████████████| 126/126 [00:12<00:00,  9.77batch/s, D Loss=0.0662, G Loss=6.6828, Mem=1.52/12.88GB]\n"
     ]
    },
    {
     "name": "stdout",
     "output_type": "stream",
     "text": [
      "Epoch 246/500: 100%|█████████████████████████| 126/126 [0:12<00:00, 0.10s/it, D Loss=0.0537, G Loss=5.4595, Mem=1.52/12.88GB]\n",
      "Epoch 246/500, Avg D Loss: 0.0537, Avg G Loss: 5.4595\n",
      "Saved checkpoint: MURA-v1.1/checkpoints\\bagan_XR_ELBOW_positive_epoch246.pt\n"
     ]
    },
    {
     "name": "stderr",
     "output_type": "stream",
     "text": [
      "Epoch 247/500: 100%|█████████████| 126/126 [00:12<00:00,  9.71batch/s, D Loss=0.3830, G Loss=13.2874, Mem=1.52/12.88GB]\n"
     ]
    },
    {
     "name": "stdout",
     "output_type": "stream",
     "text": [
      "Epoch 247/500: 100%|█████████████████████████| 126/126 [0:12<00:00, 0.10s/it, D Loss=0.1253, G Loss=6.2603, Mem=1.52/12.88GB]\n",
      "Epoch 247/500, Avg D Loss: 0.1253, Avg G Loss: 6.2603\n",
      "Saved checkpoint: MURA-v1.1/checkpoints\\bagan_XR_ELBOW_positive_epoch247.pt\n"
     ]
    },
    {
     "name": "stderr",
     "output_type": "stream",
     "text": [
      "Epoch 248/500: 100%|██████████████| 126/126 [00:12<00:00,  9.81batch/s, D Loss=0.0552, G Loss=6.3710, Mem=1.52/12.88GB]\n"
     ]
    },
    {
     "name": "stdout",
     "output_type": "stream",
     "text": [
      "Epoch 248/500: 100%|█████████████████████████| 126/126 [0:12<00:00, 0.10s/it, D Loss=0.1168, G Loss=5.3556, Mem=1.52/12.88GB]\n",
      "Epoch 248/500, Avg D Loss: 0.1168, Avg G Loss: 5.3556\n",
      "Saved checkpoint: MURA-v1.1/checkpoints\\bagan_XR_ELBOW_positive_epoch248.pt\n"
     ]
    },
    {
     "name": "stderr",
     "output_type": "stream",
     "text": [
      "Epoch 249/500: 100%|██████████████| 126/126 [00:12<00:00,  9.78batch/s, D Loss=0.0621, G Loss=5.7834, Mem=1.52/12.88GB]\n"
     ]
    },
    {
     "name": "stdout",
     "output_type": "stream",
     "text": [
      "Epoch 249/500: 100%|█████████████████████████| 126/126 [0:12<00:00, 0.10s/it, D Loss=0.0692, G Loss=5.4265, Mem=1.52/12.88GB]\n",
      "Epoch 249/500, Avg D Loss: 0.0692, Avg G Loss: 5.4265\n",
      "Saved checkpoint: MURA-v1.1/checkpoints\\bagan_XR_ELBOW_positive_epoch249.pt\n"
     ]
    },
    {
     "name": "stderr",
     "output_type": "stream",
     "text": [
      "Epoch 250/500: 100%|██████████████| 126/126 [00:13<00:00,  9.62batch/s, D Loss=0.0047, G Loss=6.0261, Mem=1.52/12.88GB]\n"
     ]
    },
    {
     "name": "stdout",
     "output_type": "stream",
     "text": [
      "Epoch 250/500: 100%|█████████████████████████| 126/126 [0:13<00:00, 0.10s/it, D Loss=0.1580, G Loss=5.7021, Mem=1.52/12.88GB]\n",
      "Epoch 250/500, Avg D Loss: 0.1580, Avg G Loss: 5.7021\n",
      "Saved checkpoint: MURA-v1.1/checkpoints\\bagan_XR_ELBOW_positive_epoch250.pt\n",
      "Saved sample images at epoch 250 in MURA-v1.1/synthetic/samples\\XR_ELBOW\\positive\n"
     ]
    },
    {
     "name": "stderr",
     "output_type": "stream",
     "text": [
      "Epoch 251/500: 100%|██████████████| 126/126 [00:12<00:00,  9.92batch/s, D Loss=0.0733, G Loss=4.3366, Mem=1.52/12.88GB]\n"
     ]
    },
    {
     "name": "stdout",
     "output_type": "stream",
     "text": [
      "Epoch 251/500: 100%|█████████████████████████| 126/126 [0:12<00:00, 0.10s/it, D Loss=0.0740, G Loss=5.1164, Mem=1.52/12.88GB]\n",
      "Epoch 251/500, Avg D Loss: 0.0740, Avg G Loss: 5.1164\n",
      "Saved checkpoint: MURA-v1.1/checkpoints\\bagan_XR_ELBOW_positive_epoch251.pt\n"
     ]
    },
    {
     "name": "stderr",
     "output_type": "stream",
     "text": [
      "Epoch 252/500: 100%|██████████████| 126/126 [00:12<00:00,  9.73batch/s, D Loss=0.0412, G Loss=6.8015, Mem=1.52/12.88GB]\n"
     ]
    },
    {
     "name": "stdout",
     "output_type": "stream",
     "text": [
      "Epoch 252/500: 100%|█████████████████████████| 126/126 [0:12<00:00, 0.10s/it, D Loss=0.0652, G Loss=5.5759, Mem=1.52/12.88GB]\n",
      "Epoch 252/500, Avg D Loss: 0.0652, Avg G Loss: 5.5759\n",
      "Saved checkpoint: MURA-v1.1/checkpoints\\bagan_XR_ELBOW_positive_epoch252.pt\n"
     ]
    },
    {
     "name": "stderr",
     "output_type": "stream",
     "text": [
      "Epoch 253/500: 100%|██████████████| 126/126 [00:11<00:00, 11.26batch/s, D Loss=0.0102, G Loss=5.9009, Mem=1.52/12.88GB]\n"
     ]
    },
    {
     "name": "stdout",
     "output_type": "stream",
     "text": [
      "Epoch 253/500: 100%|█████████████████████████| 126/126 [0:11<00:00, 0.09s/it, D Loss=0.0911, G Loss=5.5387, Mem=1.52/12.88GB]\n",
      "Epoch 253/500, Avg D Loss: 0.0911, Avg G Loss: 5.5387\n",
      "Saved checkpoint: MURA-v1.1/checkpoints\\bagan_XR_ELBOW_positive_epoch253.pt\n"
     ]
    },
    {
     "name": "stderr",
     "output_type": "stream",
     "text": [
      "Epoch 254/500: 100%|██████████████| 126/126 [00:12<00:00, 10.27batch/s, D Loss=0.0670, G Loss=4.9368, Mem=1.52/12.88GB]\n"
     ]
    },
    {
     "name": "stdout",
     "output_type": "stream",
     "text": [
      "Epoch 254/500: 100%|█████████████████████████| 126/126 [0:12<00:00, 0.10s/it, D Loss=0.0574, G Loss=5.5599, Mem=1.52/12.88GB]\n",
      "Epoch 254/500, Avg D Loss: 0.0574, Avg G Loss: 5.5599\n",
      "Saved checkpoint: MURA-v1.1/checkpoints\\bagan_XR_ELBOW_positive_epoch254.pt\n"
     ]
    },
    {
     "name": "stderr",
     "output_type": "stream",
     "text": [
      "Epoch 255/500: 100%|██████████████| 126/126 [00:12<00:00,  9.77batch/s, D Loss=0.0552, G Loss=4.7830, Mem=1.52/12.88GB]\n"
     ]
    },
    {
     "name": "stdout",
     "output_type": "stream",
     "text": [
      "Epoch 255/500: 100%|█████████████████████████| 126/126 [0:12<00:00, 0.10s/it, D Loss=1.1879, G Loss=9.0273, Mem=1.52/12.88GB]\n",
      "Epoch 255/500, Avg D Loss: 1.1879, Avg G Loss: 9.0273\n",
      "Saved checkpoint: MURA-v1.1/checkpoints\\bagan_XR_ELBOW_positive_epoch255.pt\n"
     ]
    },
    {
     "name": "stderr",
     "output_type": "stream",
     "text": [
      "Epoch 256/500: 100%|██████████████| 126/126 [00:12<00:00,  9.71batch/s, D Loss=0.0277, G Loss=4.2381, Mem=1.52/12.88GB]\n"
     ]
    },
    {
     "name": "stdout",
     "output_type": "stream",
     "text": [
      "Epoch 256/500: 100%|█████████████████████████| 126/126 [0:12<00:00, 0.10s/it, D Loss=0.1812, G Loss=4.3185, Mem=1.52/12.88GB]\n",
      "Epoch 256/500, Avg D Loss: 0.1812, Avg G Loss: 4.3185\n",
      "Saved checkpoint: MURA-v1.1/checkpoints\\bagan_XR_ELBOW_positive_epoch256.pt\n"
     ]
    },
    {
     "name": "stderr",
     "output_type": "stream",
     "text": [
      "Epoch 257/500: 100%|██████████████| 126/126 [00:12<00:00, 10.02batch/s, D Loss=0.0233, G Loss=6.0839, Mem=1.52/12.88GB]\n"
     ]
    },
    {
     "name": "stdout",
     "output_type": "stream",
     "text": [
      "Epoch 257/500: 100%|█████████████████████████| 126/126 [0:12<00:00, 0.10s/it, D Loss=0.0926, G Loss=4.4840, Mem=1.52/12.88GB]\n",
      "Epoch 257/500, Avg D Loss: 0.0926, Avg G Loss: 4.4840\n",
      "Saved checkpoint: MURA-v1.1/checkpoints\\bagan_XR_ELBOW_positive_epoch257.pt\n"
     ]
    },
    {
     "name": "stderr",
     "output_type": "stream",
     "text": [
      "Epoch 258/500: 100%|██████████████| 126/126 [00:12<00:00,  9.70batch/s, D Loss=0.0064, G Loss=5.2827, Mem=1.52/12.88GB]\n"
     ]
    },
    {
     "name": "stdout",
     "output_type": "stream",
     "text": [
      "Epoch 258/500: 100%|█████████████████████████| 126/126 [0:12<00:00, 0.10s/it, D Loss=0.0583, G Loss=4.6478, Mem=1.52/12.88GB]\n",
      "Epoch 258/500, Avg D Loss: 0.0583, Avg G Loss: 4.6478\n",
      "Saved checkpoint: MURA-v1.1/checkpoints\\bagan_XR_ELBOW_positive_epoch258.pt\n"
     ]
    },
    {
     "name": "stderr",
     "output_type": "stream",
     "text": [
      "Epoch 259/500: 100%|██████████████| 126/126 [00:12<00:00,  9.81batch/s, D Loss=0.0222, G Loss=4.5980, Mem=1.52/12.88GB]\n"
     ]
    },
    {
     "name": "stdout",
     "output_type": "stream",
     "text": [
      "Epoch 259/500: 100%|█████████████████████████| 126/126 [0:12<00:00, 0.10s/it, D Loss=0.0467, G Loss=4.9731, Mem=1.52/12.88GB]\n",
      "Epoch 259/500, Avg D Loss: 0.0467, Avg G Loss: 4.9731\n",
      "Saved checkpoint: MURA-v1.1/checkpoints\\bagan_XR_ELBOW_positive_epoch259.pt\n"
     ]
    },
    {
     "name": "stderr",
     "output_type": "stream",
     "text": [
      "Epoch 260/500: 100%|██████████████| 126/126 [00:12<00:00,  9.74batch/s, D Loss=0.0164, G Loss=4.4439, Mem=1.52/12.88GB]\n"
     ]
    },
    {
     "name": "stdout",
     "output_type": "stream",
     "text": [
      "Epoch 260/500: 100%|█████████████████████████| 126/126 [0:12<00:00, 0.10s/it, D Loss=0.0376, G Loss=5.0944, Mem=1.52/12.88GB]\n",
      "Epoch 260/500, Avg D Loss: 0.0376, Avg G Loss: 5.0944\n",
      "Saved checkpoint: MURA-v1.1/checkpoints\\bagan_XR_ELBOW_positive_epoch260.pt\n",
      "Saved sample images at epoch 260 in MURA-v1.1/synthetic/samples\\XR_ELBOW\\positive\n"
     ]
    },
    {
     "name": "stderr",
     "output_type": "stream",
     "text": [
      "Epoch 261/500: 100%|██████████████| 126/126 [00:12<00:00,  9.70batch/s, D Loss=0.0041, G Loss=6.1570, Mem=1.52/12.88GB]\n"
     ]
    },
    {
     "name": "stdout",
     "output_type": "stream",
     "text": [
      "Epoch 261/500: 100%|█████████████████████████| 126/126 [0:12<00:00, 0.10s/it, D Loss=0.0341, G Loss=5.0878, Mem=1.52/12.88GB]\n",
      "Epoch 261/500, Avg D Loss: 0.0341, Avg G Loss: 5.0878\n",
      "Saved checkpoint: MURA-v1.1/checkpoints\\bagan_XR_ELBOW_positive_epoch261.pt\n"
     ]
    },
    {
     "name": "stderr",
     "output_type": "stream",
     "text": [
      "Epoch 262/500: 100%|██████████████| 126/126 [00:12<00:00,  9.72batch/s, D Loss=0.0690, G Loss=3.9372, Mem=1.52/12.88GB]\n"
     ]
    },
    {
     "name": "stdout",
     "output_type": "stream",
     "text": [
      "Epoch 262/500: 100%|█████████████████████████| 126/126 [0:12<00:00, 0.10s/it, D Loss=0.0729, G Loss=5.7839, Mem=1.52/12.88GB]\n",
      "Epoch 262/500, Avg D Loss: 0.0729, Avg G Loss: 5.7839\n",
      "Saved checkpoint: MURA-v1.1/checkpoints\\bagan_XR_ELBOW_positive_epoch262.pt\n"
     ]
    },
    {
     "name": "stderr",
     "output_type": "stream",
     "text": [
      "Epoch 263/500: 100%|██████████████| 126/126 [00:11<00:00, 10.96batch/s, D Loss=0.0332, G Loss=6.3397, Mem=1.52/12.88GB]\n"
     ]
    },
    {
     "name": "stdout",
     "output_type": "stream",
     "text": [
      "Epoch 263/500: 100%|█████████████████████████| 126/126 [0:11<00:00, 0.09s/it, D Loss=0.0648, G Loss=5.3062, Mem=1.52/12.88GB]\n",
      "Epoch 263/500, Avg D Loss: 0.0648, Avg G Loss: 5.3062\n",
      "Saved checkpoint: MURA-v1.1/checkpoints\\bagan_XR_ELBOW_positive_epoch263.pt\n"
     ]
    },
    {
     "name": "stderr",
     "output_type": "stream",
     "text": [
      "Epoch 264/500: 100%|██████████████| 126/126 [00:11<00:00, 10.67batch/s, D Loss=0.0068, G Loss=6.7412, Mem=1.52/12.88GB]\n"
     ]
    },
    {
     "name": "stdout",
     "output_type": "stream",
     "text": [
      "Epoch 264/500: 100%|█████████████████████████| 126/126 [0:11<00:00, 0.09s/it, D Loss=0.0743, G Loss=5.6732, Mem=1.52/12.88GB]\n",
      "Epoch 264/500, Avg D Loss: 0.0743, Avg G Loss: 5.6732\n",
      "Saved checkpoint: MURA-v1.1/checkpoints\\bagan_XR_ELBOW_positive_epoch264.pt\n"
     ]
    },
    {
     "name": "stderr",
     "output_type": "stream",
     "text": [
      "Epoch 265/500: 100%|██████████████| 126/126 [00:11<00:00, 10.65batch/s, D Loss=0.0059, G Loss=6.2959, Mem=1.52/12.88GB]\n"
     ]
    },
    {
     "name": "stdout",
     "output_type": "stream",
     "text": [
      "Epoch 265/500: 100%|█████████████████████████| 126/126 [0:11<00:00, 0.09s/it, D Loss=0.0550, G Loss=5.4850, Mem=1.52/12.88GB]\n",
      "Epoch 265/500, Avg D Loss: 0.0550, Avg G Loss: 5.4850\n",
      "Saved checkpoint: MURA-v1.1/checkpoints\\bagan_XR_ELBOW_positive_epoch265.pt\n"
     ]
    },
    {
     "name": "stderr",
     "output_type": "stream",
     "text": [
      "Epoch 266/500: 100%|██████████████| 126/126 [00:12<00:00, 10.30batch/s, D Loss=0.0145, G Loss=5.1051, Mem=1.52/12.88GB]\n"
     ]
    },
    {
     "name": "stdout",
     "output_type": "stream",
     "text": [
      "Epoch 266/500: 100%|█████████████████████████| 126/126 [0:12<00:00, 0.10s/it, D Loss=0.0573, G Loss=5.3654, Mem=1.52/12.88GB]\n",
      "Epoch 266/500, Avg D Loss: 0.0573, Avg G Loss: 5.3654\n",
      "Saved checkpoint: MURA-v1.1/checkpoints\\bagan_XR_ELBOW_positive_epoch266.pt\n"
     ]
    },
    {
     "name": "stderr",
     "output_type": "stream",
     "text": [
      "Epoch 267/500: 100%|██████████████| 126/126 [00:12<00:00, 10.07batch/s, D Loss=0.0271, G Loss=5.5149, Mem=1.52/12.88GB]\n"
     ]
    },
    {
     "name": "stdout",
     "output_type": "stream",
     "text": [
      "Epoch 267/500: 100%|█████████████████████████| 126/126 [0:12<00:00, 0.10s/it, D Loss=0.0630, G Loss=5.6682, Mem=1.52/12.88GB]\n",
      "Epoch 267/500, Avg D Loss: 0.0630, Avg G Loss: 5.6682\n",
      "Saved checkpoint: MURA-v1.1/checkpoints\\bagan_XR_ELBOW_positive_epoch267.pt\n"
     ]
    },
    {
     "name": "stderr",
     "output_type": "stream",
     "text": [
      "Epoch 268/500: 100%|██████████████| 126/126 [00:11<00:00, 10.86batch/s, D Loss=0.1356, G Loss=2.7965, Mem=1.52/12.88GB]\n"
     ]
    },
    {
     "name": "stdout",
     "output_type": "stream",
     "text": [
      "Epoch 268/500: 100%|█████████████████████████| 126/126 [0:11<00:00, 0.09s/it, D Loss=0.0554, G Loss=5.6028, Mem=1.52/12.88GB]\n",
      "Epoch 268/500, Avg D Loss: 0.0554, Avg G Loss: 5.6028\n",
      "Saved checkpoint: MURA-v1.1/checkpoints\\bagan_XR_ELBOW_positive_epoch268.pt\n"
     ]
    },
    {
     "name": "stderr",
     "output_type": "stream",
     "text": [
      "Epoch 269/500: 100%|██████████████| 126/126 [00:11<00:00, 10.59batch/s, D Loss=0.0046, G Loss=4.4620, Mem=1.52/12.88GB]\n"
     ]
    },
    {
     "name": "stdout",
     "output_type": "stream",
     "text": [
      "Epoch 269/500: 100%|█████████████████████████| 126/126 [0:11<00:00, 0.09s/it, D Loss=0.0987, G Loss=5.7089, Mem=1.52/12.88GB]\n",
      "Epoch 269/500, Avg D Loss: 0.0987, Avg G Loss: 5.7089\n",
      "Saved checkpoint: MURA-v1.1/checkpoints\\bagan_XR_ELBOW_positive_epoch269.pt\n"
     ]
    },
    {
     "name": "stderr",
     "output_type": "stream",
     "text": [
      "Epoch 270/500: 100%|██████████████| 126/126 [00:11<00:00, 11.14batch/s, D Loss=0.0120, G Loss=4.9246, Mem=1.52/12.88GB]\n"
     ]
    },
    {
     "name": "stdout",
     "output_type": "stream",
     "text": [
      "Epoch 270/500: 100%|█████████████████████████| 126/126 [0:11<00:00, 0.09s/it, D Loss=0.0428, G Loss=5.5997, Mem=1.52/12.88GB]\n",
      "Epoch 270/500, Avg D Loss: 0.0428, Avg G Loss: 5.5997\n",
      "Saved checkpoint: MURA-v1.1/checkpoints\\bagan_XR_ELBOW_positive_epoch270.pt\n",
      "Saved sample images at epoch 270 in MURA-v1.1/synthetic/samples\\XR_ELBOW\\positive\n"
     ]
    },
    {
     "name": "stderr",
     "output_type": "stream",
     "text": [
      "Epoch 271/500: 100%|██████████████| 126/126 [00:11<00:00, 10.87batch/s, D Loss=0.0948, G Loss=8.9370, Mem=1.52/12.88GB]\n"
     ]
    },
    {
     "name": "stdout",
     "output_type": "stream",
     "text": [
      "Epoch 271/500: 100%|█████████████████████████| 126/126 [0:11<00:00, 0.09s/it, D Loss=0.0600, G Loss=5.9240, Mem=1.52/12.88GB]\n",
      "Epoch 271/500, Avg D Loss: 0.0600, Avg G Loss: 5.9240\n",
      "Saved checkpoint: MURA-v1.1/checkpoints\\bagan_XR_ELBOW_positive_epoch271.pt\n"
     ]
    },
    {
     "name": "stderr",
     "output_type": "stream",
     "text": [
      "Epoch 272/500: 100%|██████████████| 126/126 [00:11<00:00, 10.91batch/s, D Loss=0.4964, G Loss=4.3213, Mem=1.52/12.88GB]\n"
     ]
    },
    {
     "name": "stdout",
     "output_type": "stream",
     "text": [
      "Epoch 272/500: 100%|█████████████████████████| 126/126 [0:11<00:00, 0.09s/it, D Loss=0.4094, G Loss=5.8677, Mem=1.52/12.88GB]\n",
      "Epoch 272/500, Avg D Loss: 0.4094, Avg G Loss: 5.8677\n",
      "Saved checkpoint: MURA-v1.1/checkpoints\\bagan_XR_ELBOW_positive_epoch272.pt\n"
     ]
    },
    {
     "name": "stderr",
     "output_type": "stream",
     "text": [
      "Epoch 273/500: 100%|██████████████| 126/126 [00:11<00:00, 10.65batch/s, D Loss=0.0022, G Loss=6.4360, Mem=1.52/12.88GB]\n"
     ]
    },
    {
     "name": "stdout",
     "output_type": "stream",
     "text": [
      "Epoch 273/500: 100%|█████████████████████████| 126/126 [0:11<00:00, 0.09s/it, D Loss=0.1264, G Loss=5.2241, Mem=1.52/12.88GB]\n",
      "Epoch 273/500, Avg D Loss: 0.1264, Avg G Loss: 5.2241\n",
      "Saved checkpoint: MURA-v1.1/checkpoints\\bagan_XR_ELBOW_positive_epoch273.pt\n"
     ]
    },
    {
     "name": "stderr",
     "output_type": "stream",
     "text": [
      "Epoch 274/500: 100%|██████████████| 126/126 [00:12<00:00, 10.17batch/s, D Loss=0.0229, G Loss=5.2133, Mem=1.52/12.88GB]\n"
     ]
    },
    {
     "name": "stdout",
     "output_type": "stream",
     "text": [
      "Epoch 274/500: 100%|█████████████████████████| 126/126 [0:12<00:00, 0.10s/it, D Loss=0.0668, G Loss=5.1216, Mem=1.52/12.88GB]\n",
      "Epoch 274/500, Avg D Loss: 0.0668, Avg G Loss: 5.1216\n",
      "Saved checkpoint: MURA-v1.1/checkpoints\\bagan_XR_ELBOW_positive_epoch274.pt\n"
     ]
    },
    {
     "name": "stderr",
     "output_type": "stream",
     "text": [
      "Epoch 275/500: 100%|██████████████| 126/126 [00:12<00:00,  9.81batch/s, D Loss=0.0272, G Loss=5.8797, Mem=1.52/12.88GB]\n"
     ]
    },
    {
     "name": "stdout",
     "output_type": "stream",
     "text": [
      "Epoch 275/500: 100%|█████████████████████████| 126/126 [0:12<00:00, 0.10s/it, D Loss=0.0524, G Loss=5.2891, Mem=1.52/12.88GB]\n",
      "Epoch 275/500, Avg D Loss: 0.0524, Avg G Loss: 5.2891\n",
      "Saved checkpoint: MURA-v1.1/checkpoints\\bagan_XR_ELBOW_positive_epoch275.pt\n"
     ]
    },
    {
     "name": "stderr",
     "output_type": "stream",
     "text": [
      "Epoch 276/500: 100%|██████████████| 126/126 [00:11<00:00, 11.23batch/s, D Loss=0.0119, G Loss=5.3522, Mem=1.52/12.88GB]\n"
     ]
    },
    {
     "name": "stdout",
     "output_type": "stream",
     "text": [
      "Epoch 276/500: 100%|█████████████████████████| 126/126 [0:11<00:00, 0.09s/it, D Loss=0.0533, G Loss=5.3581, Mem=1.52/12.88GB]\n",
      "Epoch 276/500, Avg D Loss: 0.0533, Avg G Loss: 5.3581\n",
      "Saved checkpoint: MURA-v1.1/checkpoints\\bagan_XR_ELBOW_positive_epoch276.pt\n"
     ]
    },
    {
     "name": "stderr",
     "output_type": "stream",
     "text": [
      "Epoch 277/500: 100%|██████████████| 126/126 [00:11<00:00, 11.33batch/s, D Loss=0.0065, G Loss=6.2573, Mem=1.52/12.88GB]\n"
     ]
    },
    {
     "name": "stdout",
     "output_type": "stream",
     "text": [
      "Epoch 277/500: 100%|█████████████████████████| 126/126 [0:11<00:00, 0.09s/it, D Loss=0.0410, G Loss=5.5322, Mem=1.52/12.88GB]\n",
      "Epoch 277/500, Avg D Loss: 0.0410, Avg G Loss: 5.5322\n",
      "Saved checkpoint: MURA-v1.1/checkpoints\\bagan_XR_ELBOW_positive_epoch277.pt\n"
     ]
    },
    {
     "name": "stderr",
     "output_type": "stream",
     "text": [
      "Epoch 278/500: 100%|██████████████| 126/126 [00:11<00:00, 11.44batch/s, D Loss=0.0421, G Loss=7.7837, Mem=1.52/12.88GB]\n"
     ]
    },
    {
     "name": "stdout",
     "output_type": "stream",
     "text": [
      "Epoch 278/500: 100%|█████████████████████████| 126/126 [0:11<00:00, 0.09s/it, D Loss=0.1395, G Loss=6.0430, Mem=1.52/12.88GB]\n",
      "Epoch 278/500, Avg D Loss: 0.1395, Avg G Loss: 6.0430\n",
      "Saved checkpoint: MURA-v1.1/checkpoints\\bagan_XR_ELBOW_positive_epoch278.pt\n"
     ]
    },
    {
     "name": "stderr",
     "output_type": "stream",
     "text": [
      "Epoch 279/500: 100%|██████████████| 126/126 [00:11<00:00, 10.93batch/s, D Loss=0.0240, G Loss=4.3783, Mem=1.52/12.88GB]\n"
     ]
    },
    {
     "name": "stdout",
     "output_type": "stream",
     "text": [
      "Epoch 279/500: 100%|█████████████████████████| 126/126 [0:11<00:00, 0.09s/it, D Loss=0.1101, G Loss=5.4220, Mem=1.52/12.88GB]\n",
      "Epoch 279/500, Avg D Loss: 0.1101, Avg G Loss: 5.4220\n",
      "Saved checkpoint: MURA-v1.1/checkpoints\\bagan_XR_ELBOW_positive_epoch279.pt\n"
     ]
    },
    {
     "name": "stderr",
     "output_type": "stream",
     "text": [
      "Epoch 280/500: 100%|██████████████| 126/126 [00:11<00:00, 11.15batch/s, D Loss=0.0786, G Loss=6.8084, Mem=1.52/12.88GB]\n"
     ]
    },
    {
     "name": "stdout",
     "output_type": "stream",
     "text": [
      "Epoch 280/500: 100%|█████████████████████████| 126/126 [0:11<00:00, 0.09s/it, D Loss=0.0586, G Loss=5.3785, Mem=1.52/12.88GB]\n",
      "Epoch 280/500, Avg D Loss: 0.0586, Avg G Loss: 5.3785\n",
      "Saved checkpoint: MURA-v1.1/checkpoints\\bagan_XR_ELBOW_positive_epoch280.pt\n",
      "Saved sample images at epoch 280 in MURA-v1.1/synthetic/samples\\XR_ELBOW\\positive\n"
     ]
    },
    {
     "name": "stderr",
     "output_type": "stream",
     "text": [
      "Epoch 281/500: 100%|██████████████| 126/126 [00:11<00:00, 11.17batch/s, D Loss=0.3665, G Loss=8.4948, Mem=1.52/12.88GB]\n"
     ]
    },
    {
     "name": "stdout",
     "output_type": "stream",
     "text": [
      "Epoch 281/500: 100%|█████████████████████████| 126/126 [0:11<00:00, 0.09s/it, D Loss=1.5647, G Loss=9.5752, Mem=1.52/12.88GB]\n",
      "Epoch 281/500, Avg D Loss: 1.5647, Avg G Loss: 9.5752\n",
      "Saved checkpoint: MURA-v1.1/checkpoints\\bagan_XR_ELBOW_positive_epoch281.pt\n"
     ]
    },
    {
     "name": "stderr",
     "output_type": "stream",
     "text": [
      "Epoch 282/500: 100%|██████████████| 126/126 [00:11<00:00, 10.65batch/s, D Loss=0.0148, G Loss=5.3917, Mem=1.52/12.88GB]\n"
     ]
    },
    {
     "name": "stdout",
     "output_type": "stream",
     "text": [
      "Epoch 282/500: 100%|█████████████████████████| 126/126 [0:11<00:00, 0.09s/it, D Loss=0.3663, G Loss=4.9140, Mem=1.52/12.88GB]\n",
      "Epoch 282/500, Avg D Loss: 0.3663, Avg G Loss: 4.9140\n",
      "Saved checkpoint: MURA-v1.1/checkpoints\\bagan_XR_ELBOW_positive_epoch282.pt\n"
     ]
    },
    {
     "name": "stderr",
     "output_type": "stream",
     "text": [
      "Epoch 283/500: 100%|██████████████| 126/126 [00:12<00:00, 10.47batch/s, D Loss=0.1020, G Loss=4.0653, Mem=1.52/12.88GB]\n"
     ]
    },
    {
     "name": "stdout",
     "output_type": "stream",
     "text": [
      "Epoch 283/500: 100%|█████████████████████████| 126/126 [0:12<00:00, 0.10s/it, D Loss=0.1028, G Loss=4.6106, Mem=1.52/12.88GB]\n",
      "Epoch 283/500, Avg D Loss: 0.1028, Avg G Loss: 4.6106\n",
      "Saved checkpoint: MURA-v1.1/checkpoints\\bagan_XR_ELBOW_positive_epoch283.pt\n"
     ]
    },
    {
     "name": "stderr",
     "output_type": "stream",
     "text": [
      "Epoch 284/500: 100%|██████████████| 126/126 [00:12<00:00, 10.30batch/s, D Loss=0.0223, G Loss=4.7273, Mem=1.52/12.88GB]\n"
     ]
    },
    {
     "name": "stdout",
     "output_type": "stream",
     "text": [
      "Epoch 284/500: 100%|█████████████████████████| 126/126 [0:12<00:00, 0.10s/it, D Loss=0.0662, G Loss=4.7533, Mem=1.52/12.88GB]\n",
      "Epoch 284/500, Avg D Loss: 0.0662, Avg G Loss: 4.7533\n",
      "Saved checkpoint: MURA-v1.1/checkpoints\\bagan_XR_ELBOW_positive_epoch284.pt\n"
     ]
    },
    {
     "name": "stderr",
     "output_type": "stream",
     "text": [
      "Epoch 285/500: 100%|██████████████| 126/126 [00:11<00:00, 10.51batch/s, D Loss=0.0307, G Loss=4.5037, Mem=1.52/12.88GB]\n"
     ]
    },
    {
     "name": "stdout",
     "output_type": "stream",
     "text": [
      "Epoch 285/500: 100%|█████████████████████████| 126/126 [0:11<00:00, 0.10s/it, D Loss=0.0486, G Loss=4.9664, Mem=1.52/12.88GB]\n",
      "Epoch 285/500, Avg D Loss: 0.0486, Avg G Loss: 4.9664\n",
      "Saved checkpoint: MURA-v1.1/checkpoints\\bagan_XR_ELBOW_positive_epoch285.pt\n"
     ]
    },
    {
     "name": "stderr",
     "output_type": "stream",
     "text": [
      "Epoch 286/500: 100%|██████████████| 126/126 [00:12<00:00, 10.47batch/s, D Loss=0.0199, G Loss=3.6465, Mem=1.52/12.88GB]\n"
     ]
    },
    {
     "name": "stdout",
     "output_type": "stream",
     "text": [
      "Epoch 286/500: 100%|█████████████████████████| 126/126 [0:12<00:00, 0.10s/it, D Loss=0.0350, G Loss=4.9996, Mem=1.52/12.88GB]\n",
      "Epoch 286/500, Avg D Loss: 0.0350, Avg G Loss: 4.9996\n",
      "Saved checkpoint: MURA-v1.1/checkpoints\\bagan_XR_ELBOW_positive_epoch286.pt\n"
     ]
    },
    {
     "name": "stderr",
     "output_type": "stream",
     "text": [
      "Epoch 287/500: 100%|██████████████| 126/126 [00:11<00:00, 10.58batch/s, D Loss=0.0263, G Loss=6.0980, Mem=1.52/12.88GB]\n"
     ]
    },
    {
     "name": "stdout",
     "output_type": "stream",
     "text": [
      "Epoch 287/500: 100%|█████████████████████████| 126/126 [0:11<00:00, 0.09s/it, D Loss=0.0414, G Loss=5.2078, Mem=1.52/12.88GB]\n",
      "Epoch 287/500, Avg D Loss: 0.0414, Avg G Loss: 5.2078\n",
      "Saved checkpoint: MURA-v1.1/checkpoints\\bagan_XR_ELBOW_positive_epoch287.pt\n"
     ]
    },
    {
     "name": "stderr",
     "output_type": "stream",
     "text": [
      "Epoch 288/500: 100%|██████████████| 126/126 [00:11<00:00, 10.75batch/s, D Loss=0.0174, G Loss=4.5468, Mem=1.52/12.88GB]\n"
     ]
    },
    {
     "name": "stdout",
     "output_type": "stream",
     "text": [
      "Epoch 288/500: 100%|█████████████████████████| 126/126 [0:11<00:00, 0.09s/it, D Loss=0.0337, G Loss=5.2846, Mem=1.52/12.88GB]\n",
      "Epoch 288/500, Avg D Loss: 0.0337, Avg G Loss: 5.2846\n",
      "Saved checkpoint: MURA-v1.1/checkpoints\\bagan_XR_ELBOW_positive_epoch288.pt\n"
     ]
    },
    {
     "name": "stderr",
     "output_type": "stream",
     "text": [
      "Epoch 289/500: 100%|██████████████| 126/126 [00:11<00:00, 10.98batch/s, D Loss=0.0011, G Loss=6.9293, Mem=1.52/12.88GB]\n"
     ]
    },
    {
     "name": "stdout",
     "output_type": "stream",
     "text": [
      "Epoch 289/500: 100%|█████████████████████████| 126/126 [0:11<00:00, 0.09s/it, D Loss=0.0418, G Loss=5.3250, Mem=1.52/12.88GB]\n",
      "Epoch 289/500, Avg D Loss: 0.0418, Avg G Loss: 5.3250\n",
      "Saved checkpoint: MURA-v1.1/checkpoints\\bagan_XR_ELBOW_positive_epoch289.pt\n"
     ]
    },
    {
     "name": "stderr",
     "output_type": "stream",
     "text": [
      "Epoch 290/500: 100%|██████████████| 126/126 [00:11<00:00, 10.75batch/s, D Loss=0.1047, G Loss=3.2899, Mem=1.52/12.88GB]\n"
     ]
    },
    {
     "name": "stdout",
     "output_type": "stream",
     "text": [
      "Epoch 290/500: 100%|█████████████████████████| 126/126 [0:11<00:00, 0.09s/it, D Loss=0.0661, G Loss=5.7291, Mem=1.52/12.88GB]\n",
      "Epoch 290/500, Avg D Loss: 0.0661, Avg G Loss: 5.7291\n",
      "Saved checkpoint: MURA-v1.1/checkpoints\\bagan_XR_ELBOW_positive_epoch290.pt\n",
      "Saved sample images at epoch 290 in MURA-v1.1/synthetic/samples\\XR_ELBOW\\positive\n"
     ]
    },
    {
     "name": "stderr",
     "output_type": "stream",
     "text": [
      "Epoch 291/500: 100%|██████████████| 126/126 [00:11<00:00, 10.81batch/s, D Loss=0.0100, G Loss=5.0751, Mem=1.52/12.88GB]\n"
     ]
    },
    {
     "name": "stdout",
     "output_type": "stream",
     "text": [
      "Epoch 291/500: 100%|█████████████████████████| 126/126 [0:11<00:00, 0.09s/it, D Loss=0.0729, G Loss=5.6994, Mem=1.52/12.88GB]\n",
      "Epoch 291/500, Avg D Loss: 0.0729, Avg G Loss: 5.6994\n",
      "Saved checkpoint: MURA-v1.1/checkpoints\\bagan_XR_ELBOW_positive_epoch291.pt\n"
     ]
    },
    {
     "name": "stderr",
     "output_type": "stream",
     "text": [
      "Epoch 292/500: 100%|██████████████| 126/126 [00:11<00:00, 10.57batch/s, D Loss=0.0168, G Loss=4.3054, Mem=1.52/12.88GB]\n"
     ]
    },
    {
     "name": "stdout",
     "output_type": "stream",
     "text": [
      "Epoch 292/500: 100%|█████████████████████████| 126/126 [0:11<00:00, 0.09s/it, D Loss=0.0348, G Loss=5.4405, Mem=1.52/12.88GB]\n",
      "Epoch 292/500, Avg D Loss: 0.0348, Avg G Loss: 5.4405\n",
      "Saved checkpoint: MURA-v1.1/checkpoints\\bagan_XR_ELBOW_positive_epoch292.pt\n"
     ]
    },
    {
     "name": "stderr",
     "output_type": "stream",
     "text": [
      "Epoch 293/500: 100%|██████████████| 126/126 [00:11<00:00, 10.86batch/s, D Loss=0.0084, G Loss=4.8639, Mem=1.52/12.88GB]\n"
     ]
    },
    {
     "name": "stdout",
     "output_type": "stream",
     "text": [
      "Epoch 293/500: 100%|█████████████████████████| 126/126 [0:11<00:00, 0.09s/it, D Loss=0.0705, G Loss=5.7729, Mem=1.52/12.88GB]\n",
      "Epoch 293/500, Avg D Loss: 0.0705, Avg G Loss: 5.7729\n",
      "Saved checkpoint: MURA-v1.1/checkpoints\\bagan_XR_ELBOW_positive_epoch293.pt\n"
     ]
    },
    {
     "name": "stderr",
     "output_type": "stream",
     "text": [
      "Epoch 294/500: 100%|██████████████| 126/126 [00:11<00:00, 11.31batch/s, D Loss=0.0886, G Loss=5.8842, Mem=1.52/12.88GB]\n"
     ]
    },
    {
     "name": "stdout",
     "output_type": "stream",
     "text": [
      "Epoch 294/500: 100%|█████████████████████████| 126/126 [0:11<00:00, 0.09s/it, D Loss=0.0453, G Loss=5.5757, Mem=1.52/12.88GB]\n",
      "Epoch 294/500, Avg D Loss: 0.0453, Avg G Loss: 5.5757\n",
      "Saved checkpoint: MURA-v1.1/checkpoints\\bagan_XR_ELBOW_positive_epoch294.pt\n"
     ]
    },
    {
     "name": "stderr",
     "output_type": "stream",
     "text": [
      "Epoch 295/500: 100%|██████████████| 126/126 [00:11<00:00, 11.19batch/s, D Loss=0.0019, G Loss=7.8761, Mem=1.52/12.88GB]\n"
     ]
    },
    {
     "name": "stdout",
     "output_type": "stream",
     "text": [
      "Epoch 295/500: 100%|█████████████████████████| 126/126 [0:11<00:00, 0.09s/it, D Loss=0.0454, G Loss=5.8728, Mem=1.52/12.88GB]\n",
      "Epoch 295/500, Avg D Loss: 0.0454, Avg G Loss: 5.8728\n",
      "Saved checkpoint: MURA-v1.1/checkpoints\\bagan_XR_ELBOW_positive_epoch295.pt\n"
     ]
    },
    {
     "name": "stderr",
     "output_type": "stream",
     "text": [
      "Epoch 296/500: 100%|██████████████| 126/126 [00:11<00:00, 10.93batch/s, D Loss=0.0058, G Loss=6.8269, Mem=1.52/12.88GB]\n"
     ]
    },
    {
     "name": "stdout",
     "output_type": "stream",
     "text": [
      "Epoch 296/500: 100%|█████████████████████████| 126/126 [0:11<00:00, 0.09s/it, D Loss=0.0307, G Loss=5.7785, Mem=1.52/12.88GB]\n",
      "Epoch 296/500, Avg D Loss: 0.0307, Avg G Loss: 5.7785\n",
      "Saved checkpoint: MURA-v1.1/checkpoints\\bagan_XR_ELBOW_positive_epoch296.pt\n"
     ]
    },
    {
     "name": "stderr",
     "output_type": "stream",
     "text": [
      "Epoch 297/500: 100%|██████████████| 126/126 [00:11<00:00, 10.96batch/s, D Loss=0.0865, G Loss=4.6038, Mem=1.52/12.88GB]\n"
     ]
    },
    {
     "name": "stdout",
     "output_type": "stream",
     "text": [
      "Epoch 297/500: 100%|█████████████████████████| 126/126 [0:11<00:00, 0.09s/it, D Loss=0.0292, G Loss=5.9372, Mem=1.52/12.88GB]\n",
      "Epoch 297/500, Avg D Loss: 0.0292, Avg G Loss: 5.9372\n",
      "Saved checkpoint: MURA-v1.1/checkpoints\\bagan_XR_ELBOW_positive_epoch297.pt\n"
     ]
    },
    {
     "name": "stderr",
     "output_type": "stream",
     "text": [
      "Epoch 298/500: 100%|██████████████| 126/126 [00:11<00:00, 11.09batch/s, D Loss=0.0054, G Loss=7.5830, Mem=1.52/12.88GB]\n"
     ]
    },
    {
     "name": "stdout",
     "output_type": "stream",
     "text": [
      "Epoch 298/500: 100%|█████████████████████████| 126/126 [0:11<00:00, 0.09s/it, D Loss=0.1408, G Loss=6.2898, Mem=1.52/12.88GB]\n",
      "Epoch 298/500, Avg D Loss: 0.1408, Avg G Loss: 6.2898\n",
      "Saved checkpoint: MURA-v1.1/checkpoints\\bagan_XR_ELBOW_positive_epoch298.pt\n"
     ]
    },
    {
     "name": "stderr",
     "output_type": "stream",
     "text": [
      "Epoch 299/500: 100%|██████████████| 126/126 [00:11<00:00, 11.22batch/s, D Loss=0.0280, G Loss=7.0212, Mem=1.52/12.88GB]\n"
     ]
    },
    {
     "name": "stdout",
     "output_type": "stream",
     "text": [
      "Epoch 299/500: 100%|█████████████████████████| 126/126 [0:11<00:00, 0.09s/it, D Loss=0.0850, G Loss=5.6926, Mem=1.52/12.88GB]\n",
      "Epoch 299/500, Avg D Loss: 0.0850, Avg G Loss: 5.6926\n",
      "Saved checkpoint: MURA-v1.1/checkpoints\\bagan_XR_ELBOW_positive_epoch299.pt\n"
     ]
    },
    {
     "name": "stderr",
     "output_type": "stream",
     "text": [
      "Epoch 300/500:  21%|███            | 26/126 [00:02<00:09, 10.75batch/s, D Loss=0.0886, G Loss=7.1750, Mem=1.52/12.88GB]\n"
     ]
    },
    {
     "ename": "KeyboardInterrupt",
     "evalue": "",
     "output_type": "error",
     "traceback": [
      "\u001b[1;31m---------------------------------------------------------------------------\u001b[0m",
      "\u001b[1;31mKeyboardInterrupt\u001b[0m                         Traceback (most recent call last)",
      "Cell \u001b[1;32mIn[32], line 95\u001b[0m\n\u001b[0;32m     93\u001b[0m \u001b[38;5;66;03m# Train BAGAN if not fully trained\u001b[39;00m\n\u001b[0;32m     94\u001b[0m \u001b[38;5;28;01mif\u001b[39;00m start_epoch \u001b[38;5;241m<\u001b[39m num_epochs:\n\u001b[1;32m---> 95\u001b[0m     \u001b[43mtrain_bagan\u001b[49m\u001b[43m(\u001b[49m\u001b[43mgenerator\u001b[49m\u001b[43m,\u001b[49m\u001b[43m \u001b[49m\u001b[43mdiscriminator\u001b[49m\u001b[43m,\u001b[49m\u001b[43m \u001b[49m\u001b[43mbagan_loader\u001b[49m\u001b[43m,\u001b[49m\u001b[43m \u001b[49m\u001b[43mnum_epochs\u001b[49m\u001b[43m,\u001b[49m\u001b[43m \u001b[49m\u001b[43mlatent_dim\u001b[49m\u001b[43m,\u001b[49m\u001b[43m \u001b[49m\u001b[43mdevice\u001b[49m\u001b[43m,\u001b[49m\n\u001b[0;32m     96\u001b[0m \u001b[43m                \u001b[49m\u001b[43msave_interval\u001b[49m\u001b[38;5;241;43m=\u001b[39;49m\u001b[43msave_interval\u001b[49m\u001b[43m,\u001b[49m\u001b[43m \u001b[49m\u001b[43msave_dir\u001b[49m\u001b[38;5;241;43m=\u001b[39;49m\u001b[43mcheckpoint_dir\u001b[49m\u001b[43m,\u001b[49m\u001b[43m \u001b[49m\n\u001b[0;32m     97\u001b[0m \u001b[43m                \u001b[49m\u001b[43mminority_label\u001b[49m\u001b[38;5;241;43m=\u001b[39;49m\u001b[43mminority_label\u001b[49m\u001b[43m,\u001b[49m\u001b[43m \u001b[49m\u001b[43mcategory\u001b[49m\u001b[38;5;241;43m=\u001b[39;49m\u001b[43mcategory\u001b[49m\u001b[43m,\u001b[49m\u001b[43m \u001b[49m\u001b[43mstart_epoch\u001b[49m\u001b[38;5;241;43m=\u001b[39;49m\u001b[43mstart_epoch\u001b[49m\u001b[43m)\u001b[49m\n\u001b[0;32m     99\u001b[0m \u001b[38;5;66;03m# Generate synthetic positive images in batches\u001b[39;00m\n\u001b[0;32m    100\u001b[0m synthetic_images \u001b[38;5;241m=\u001b[39m []\n",
      "Cell \u001b[1;32mIn[30], line 54\u001b[0m, in \u001b[0;36mtrain_bagan\u001b[1;34m(generator, discriminator, dataloader, num_epochs, latent_dim, device, save_interval, save_dir, minority_label, category, start_epoch)\u001b[0m\n\u001b[0;32m     51\u001b[0m g_optimizer\u001b[38;5;241m.\u001b[39mstep()\n\u001b[0;32m     53\u001b[0m \u001b[38;5;66;03m# Accumulate losses\u001b[39;00m\n\u001b[1;32m---> 54\u001b[0m total_d_loss \u001b[38;5;241m+\u001b[39m\u001b[38;5;241m=\u001b[39m \u001b[43md_loss\u001b[49m\u001b[38;5;241;43m.\u001b[39;49m\u001b[43mitem\u001b[49m\u001b[43m(\u001b[49m\u001b[43m)\u001b[49m\n\u001b[0;32m     55\u001b[0m total_g_loss \u001b[38;5;241m+\u001b[39m\u001b[38;5;241m=\u001b[39m g_loss\u001b[38;5;241m.\u001b[39mitem()\n\u001b[0;32m     57\u001b[0m \u001b[38;5;66;03m# Update progress bar\u001b[39;00m\n",
      "\u001b[1;31mKeyboardInterrupt\u001b[0m: "
     ]
    }
   ],
   "source": [
    "import time\n",
    "import os\n",
    "import torch\n",
    "import gc\n",
    "\n",
    "# Set environment variable to avoid memory fragmentation\n",
    "os.environ[\"PYTORCH_CUDA_ALLOC_CONF\"] = \"expandable_segments:True\"\n",
    "\n",
    "# Hyperparameters\n",
    "latent_dim = 100\n",
    "num_epochs = 500\n",
    "batch_size = 16\n",
    "save_interval = 10\n",
    "checkpoint_dir = \"MURA-v1.1/checkpoints\"\n",
    "generation_batch_size = 64\n",
    "\n",
    "# Dictionary to store synthetic image paths\n",
    "synthetic_data = []\n",
    "\n",
    "# Debugging: Inspect state before balancing\n",
    "print(\"🔍 Pre-balancing check:\")\n",
    "print(f\"Total rows in df_train_images: {len(df_train_images)}\")\n",
    "print(f\"df_train_images head:\\n{df_train_images.head()}\")\n",
    "print(f\"Unique categories in df_train_images: {df_train_images['category'].unique()}\")\n",
    "print(f\"Unique labels in df_train_images: {df_train_images['label'].unique()}\")\n",
    "print(f\"Categories list from Cell 4: {categories}\")\n",
    "\n",
    "# Get target count (largest body part count from Cell 4)\n",
    "target_count = max(category_counts.values())\n",
    "print(f\"Target count for balancing (largest body part): {target_count}\")\n",
    "\n",
    "# For each category, balance to target count with equal positive/negative\n",
    "for category in categories:\n",
    "    print(f\"\\n🔍 Balancing body part {category} to target count {target_count}...\")\n",
    "    \n",
    "    # Get current positive and negative counts\n",
    "    category_data = df_train_images[df_train_images[\"category\"] == category]\n",
    "    print(f\"Rows for {category}: {len(category_data)}\")\n",
    "    print(f\"Sample category_data:\\n\", category_data.head() if not category_data.empty else \"Empty\")\n",
    "    positive_count = len(category_data[category_data[\"label\"] == 1])\n",
    "    negative_count = len(category_data[category_data[\"label\"] == 0])\n",
    "    print(f\"Current Positive: {positive_count}, Negative: {negative_count}\")\n",
    "\n",
    "    # Calculate target counts for positive and negative\n",
    "    target_positive = target_negative = target_count // 2\n",
    "    current_total = positive_count + negative_count\n",
    "\n",
    "    # If already at or above target, ensure equal positive/negative within target count\n",
    "    if current_total >= target_count:\n",
    "        if positive_count > target_positive:\n",
    "            num_synthetic_positive = 0\n",
    "            num_synthetic_negative = target_negative - negative_count\n",
    "        elif negative_count > target_negative:\n",
    "            num_synthetic_positive = target_positive - positive_count\n",
    "            num_synthetic_negative = 0\n",
    "        else:\n",
    "            num_synthetic_positive = target_positive - positive_count\n",
    "            num_synthetic_negative = target_negative - negative_count\n",
    "    else:\n",
    "        # Need to generate to reach target, ensure equal split\n",
    "        num_synthetic_positive = target_positive - positive_count\n",
    "        num_synthetic_negative = target_negative - negative_count\n",
    "\n",
    "    # Generate synthetic images for positive if needed\n",
    "    if num_synthetic_positive > 0:\n",
    "        print(f\"Generating {num_synthetic_positive} synthetic positive images for {category}...\")\n",
    "        minority_label = 1  # Positive\n",
    "        minority_images = category_data[category_data[\"label\"] == minority_label][0].tolist() if minority_label in category_data[\"label\"].values else []\n",
    "        minority_labels = [minority_label] * len(minority_images)\n",
    "        bagan_dataset = MURADataset(minority_images, minority_labels, transform=transform)\n",
    "        bagan_loader = DataLoader(bagan_dataset, batch_size=batch_size, shuffle=True, num_workers=0)\n",
    "\n",
    "        # Initialize models\n",
    "        generator = Generator(latent_dim, num_classes=2).to(device)\n",
    "        discriminator = Discriminator(num_classes=2).to(device)\n",
    "        g_optimizer = optim.Adam(generator.parameters(), lr=0.0002, betas=(0.5, 0.999))\n",
    "        d_optimizer = optim.Adam(discriminator.parameters(), lr=0.0002, betas=(0.5, 0.999))\n",
    "\n",
    "        # Check for existing checkpoint to resume\n",
    "        checkpoint_path = os.path.join(checkpoint_dir, f\"bagan_{category}_positive_epoch{num_epochs}.pt\")\n",
    "        start_epoch = 0\n",
    "        if os.path.exists(checkpoint_path):\n",
    "            checkpoint = torch.load(checkpoint_path)\n",
    "            generator.load_state_dict(checkpoint['generator_state_dict'])\n",
    "            discriminator.load_state_dict(checkpoint['discriminator_state_dict'])\n",
    "            g_optimizer.load_state_dict(checkpoint['g_optimizer_state_dict'])\n",
    "            d_optimizer.load_state_dict(checkpoint['d_optimizer_state_dict'])\n",
    "            start_epoch = checkpoint['epoch']\n",
    "            print(f\"Resuming training for {category} (positive) from epoch {start_epoch}\")\n",
    "        else:\n",
    "            print(f\"No checkpoint found for {category} (positive), starting training from scratch.\")\n",
    "\n",
    "        # Train BAGAN if not fully trained\n",
    "        if start_epoch < num_epochs:\n",
    "            train_bagan(generator, discriminator, bagan_loader, num_epochs, latent_dim, device,\n",
    "                        save_interval=save_interval, save_dir=checkpoint_dir, \n",
    "                        minority_label=minority_label, category=category, start_epoch=start_epoch)\n",
    "\n",
    "        # Generate synthetic positive images in batches\n",
    "        synthetic_images = []\n",
    "        synthetic_labels = [minority_label] * num_synthetic_positive\n",
    "        for i in range(0, num_synthetic_positive, generation_batch_size):\n",
    "            batch_size = min(generation_batch_size, num_synthetic_positive - i)\n",
    "            batch_labels = synthetic_labels[i:i + batch_size]\n",
    "            with torch.no_grad():\n",
    "                batch_images = generate_synthetic_images(generator, batch_size, batch_labels, latent_dim, device)\n",
    "                synthetic_images.append(batch_images.cpu())\n",
    "            torch.cuda.empty_cache()\n",
    "            gc.collect()\n",
    "            print(f\"Generated positive batch {i//generation_batch_size + 1}: {batch_size} images\")\n",
    "\n",
    "        # Concatenate all batches\n",
    "        synthetic_images = torch.cat(synthetic_images, dim=0)\n",
    "\n",
    "        # Save synthetic positive images\n",
    "        synthetic_dir = f\"MURA-v1.1/synthetic/{category}/positive\"\n",
    "        os.makedirs(synthetic_dir, exist_ok=True)\n",
    "        for i, img in enumerate(synthetic_images):\n",
    "            img = img.squeeze().numpy()\n",
    "            img = (img * 0.5) + 0.5\n",
    "            img = (img * 255).astype(np.uint8)\n",
    "            img_path = os.path.join(synthetic_dir, f\"synthetic_{i}.png\")\n",
    "            Image.fromarray(img, mode='L').save(img_path)\n",
    "            synthetic_data.append([img_path, minority_label, category])\n",
    "\n",
    "        # Clear memory\n",
    "        del generator, discriminator, bagan_dataset, bagan_loader, synthetic_images\n",
    "        torch.cuda.empty_cache()\n",
    "        gc.collect()\n",
    "\n",
    "    # Generate synthetic images for negative if needed\n",
    "    if num_synthetic_negative > 0:\n",
    "        print(f\"Generating {num_synthetic_negative} synthetic negative images for {category}...\")\n",
    "        minority_label = 0  # Negative\n",
    "        minority_images = category_data[category_data[\"label\"] == minority_label][0].tolist() if minority_label in category_data[\"label\"].values else []\n",
    "        minority_labels = [minority_label] * len(minority_images)\n",
    "        bagan_dataset = MURADataset(minority_images, minority_labels, transform=transform)\n",
    "        bagan_loader = DataLoader(bagan_dataset, batch_size=batch_size, shuffle=True, num_workers=0)\n",
    "\n",
    "        # Initialize models\n",
    "        generator = Generator(latent_dim, num_classes=2).to(device)\n",
    "        discriminator = Discriminator(num_classes=2).to(device)\n",
    "        g_optimizer = optim.Adam(generator.parameters(), lr=0.0002, betas=(0.5, 0.999))\n",
    "        d_optimizer = optim.Adam(discriminator.parameters(), lr=0.0002, betas=(0.5, 0.999))\n",
    "\n",
    "        # Check for existing checkpoint to resume\n",
    "        checkpoint_path = os.path.join(checkpoint_dir, f\"bagan_{category}_negative_epoch{num_epochs}.pt\")\n",
    "        start_epoch = 0\n",
    "        if os.path.exists(checkpoint_path):\n",
    "            checkpoint = torch.load(checkpoint_path)\n",
    "            generator.load_state_dict(checkpoint['generator_state_dict'])\n",
    "            discriminator.load_state_dict(checkpoint['discriminator_state_dict'])\n",
    "            g_optimizer.load_state_dict(checkpoint['g_optimizer_state_dict'])\n",
    "            d_optimizer.load_state_dict(checkpoint['d_optimizer_state_dict'])\n",
    "            start_epoch = checkpoint['epoch']\n",
    "            print(f\"Resuming training for {category} (negative) from epoch {start_epoch}\")\n",
    "        else:\n",
    "            print(f\"No checkpoint found for {category} (negative), starting training from scratch.\")\n",
    "\n",
    "        # Train BAGAN if not fully trained\n",
    "        if start_epoch < num_epochs:\n",
    "            train_bagan(generator, discriminator, bagan_loader, num_epochs, latent_dim, device,\n",
    "                        save_interval=save_interval, save_dir=checkpoint_dir, \n",
    "                        minority_label=minority_label, category=category, start_epoch=start_epoch)\n",
    "\n",
    "        # Generate synthetic negative images in batches\n",
    "        synthetic_images = []\n",
    "        synthetic_labels = [minority_label] * num_synthetic_negative\n",
    "        for i in range(0, num_synthetic_negative, generation_batch_size):\n",
    "            batch_size = min(generation_batch_size, num_synthetic_negative - i)\n",
    "            batch_labels = synthetic_labels[i:i + batch_size]\n",
    "            with torch.no_grad():\n",
    "                batch_images = generate_synthetic_images(generator, batch_size, batch_labels, latent_dim, device)\n",
    "                synthetic_images.append(batch_images.cpu())\n",
    "            torch.cuda.empty_cache()\n",
    "            gc.collect()\n",
    "            print(f\"Generated negative batch {i//generation_batch_size + 1}: {batch_size} images\")\n",
    "\n",
    "        # Concatenate all batches\n",
    "        synthetic_images = torch.cat(synthetic_images, dim=0)\n",
    "\n",
    "        # Save synthetic negative images\n",
    "        synthetic_dir = f\"MURA-v1.1/synthetic/{category}/negative\"\n",
    "        os.makedirs(synthetic_dir, exist_ok=True)\n",
    "        for i, img in enumerate(synthetic_images):\n",
    "            img = img.squeeze().numpy()\n",
    "            img = (img * 0.5) + 0.5\n",
    "            img = (img * 255).astype(np.uint8)\n",
    "            img_path = os.path.join(synthetic_dir, f\"synthetic_{i}.png\")\n",
    "            Image.fromarray(img, mode='L').save(img_path)\n",
    "            synthetic_data.append([img_path, minority_label, category])\n",
    "\n",
    "        # Clear memory\n",
    "        del generator, discriminator, bagan_dataset, bagan_loader, synthetic_images\n",
    "        torch.cuda.empty_cache()\n",
    "        gc.collect()\n",
    "\n",
    "    print(f\"Completed processing for {category}, memory cleared.\")\n",
    "\n",
    "print(\"Positive/Negative balancing complete!\")"
   ]
  },
  {
   "cell_type": "code",
   "execution_count": null,
   "id": "17e367f0-ce34-4d5a-8510-8d79008f2ce3",
   "metadata": {
    "jupyter": {
     "source_hidden": true
    }
   },
   "outputs": [],
   "source": [
    "# Target number of images per category (match the largest category)\n",
    "target_count = max(category_counts.values())\n",
    "print(f\"Target number of images per category: {target_count}\")\n",
    "\n",
    "# For each category, balance the total number of images\n",
    "for category in categories:\n",
    "    print(f\"\\nBalancing body part {category}...\")\n",
    "    \n",
    "    current_count = category_counts[category]\n",
    "    num_synthetic_total = target_count - current_count\n",
    "\n",
    "    if num_synthetic_total <= 0:\n",
    "        print(f\"No balancing needed for {category}\")\n",
    "        continue\n",
    "\n",
    "    # Get current positive/negative ratio\n",
    "    category_data = df_train_images[df_train_images[\"category\"] == category]\n",
    "    positive_count = len(category_data[category_data[\"label\"] == 1])\n",
    "    negative_count = len(category_data[category_data[\"label\"] == 0])\n",
    "    total = positive_count + negative_count\n",
    "    positive_ratio = positive_count / total\n",
    "\n",
    "    # Calculate how many positive/negative synthetic images to generate\n",
    "    num_positive_synthetic = int(num_synthetic_total * positive_ratio)\n",
    "    num_negative_synthetic = num_synthetic_total - num_positive_synthetic\n",
    "\n",
    "    # Generate synthetic positive images\n",
    "    if num_positive_synthetic > 0:\n",
    "        positive_images = category_data[category_data[\"label\"] == 1][0].tolist()\n",
    "        positive_labels = [1] * len(positive_images)\n",
    "        bagan_dataset = MURADataset(positive_images, positive_labels, transform=transform)\n",
    "        bagan_loader = DataLoader(bagan_dataset, batch_size=batch_size, shuffle=True, num_workers=0)\n",
    "\n",
    "        generator = Generator(latent_dim, num_classes=2).to(device)\n",
    "        discriminator = Discriminator(num_classes=2).to(device)\n",
    "        train_bagan(generator, discriminator, bagan_loader, num_epochs, latent_dim, device)\n",
    "\n",
    "        synthetic_positive = generate_synthetic_images(generator, num_positive_synthetic, [1] * num_positive_synthetic, latent_dim, device)\n",
    "        synthetic_dir = f\"MURA-v1.1/synthetic/{category}/positive\"\n",
    "        os.makedirs(synthetic_dir, exist_ok=True)\n",
    "        for i, img in enumerate(synthetic_positive):\n",
    "            img = img.cpu().permute(1, 2, 0).numpy()\n",
    "            img = (img * 0.5) + 0.5\n",
    "            img = (img * 255).astype(np.uint8)\n",
    "            img_path = os.path.join(synthetic_dir, f\"synthetic_{len(positive_images) + i}.png\")\n",
    "            Image.fromarray(img).save(img_path)\n",
    "            synthetic_data.append([img_path, 1, category])\n",
    "\n",
    "    # Generate synthetic negative images\n",
    "    if num_negative_synthetic > 0:\n",
    "        negative_images = category_data[category_data[\"label\"] == 0][0].tolist()\n",
    "        negative_labels = [0] * len(negative_images)\n",
    "        bagan_dataset = MURADataset(negative_images, negative_labels, transform=transform)\n",
    "        bagan_loader = DataLoader(bagan_dataset, batch_size=batch_size, shuffle=True, num_workers=0)\n",
    "\n",
    "        generator = Generator(latent_dim, num_classes=2).to(device)\n",
    "        discriminator = Discriminator(num_classes=2).to(device)\n",
    "        train_bagan(generator, discriminator, bagan_loader, num_epochs, latent_dim, device)\n",
    "\n",
    "        synthetic_negative = generate_synthetic_images(generator, num_negative_synthetic, [0] * num_negative_synthetic, latent_dim, device)\n",
    "        synthetic_dir = f\"MURA-v1.1/synthetic/{category}/negative\"\n",
    "        os.makedirs(synthetic_dir, exist_ok=True)\n",
    "        for i, img in enumerate(synthetic_negative):\n",
    "            img = img.cpu().permute(1, 2, 0).numpy()\n",
    "            img = (img * 0.5) + 0.5\n",
    "            img = (img * 255).astype(np.uint8)\n",
    "            img_path = os.path.join(synthetic_dir, f\"synthetic_{len(negative_images) + i}.png\")\n",
    "            Image.fromarray(img).save(img_path)\n",
    "            synthetic_data.append([img_path, 0, category])\n",
    "\n",
    "print(\"Body part balancing complete!\")"
   ]
  },
  {
   "cell_type": "code",
   "execution_count": null,
   "id": "f5183905-caae-46ec-ada1-8877204b0daf",
   "metadata": {},
   "outputs": [],
   "source": [
    "    # Generate synthetic images\n",
    "    synthetic_labels = [minority_label] * num_synthetic\n",
    "    synthetic_images = generate_synthetic_images(generator, num_synthetic, synthetic_labels, latent_dim, device)\n",
    "\n",
    "    # Save synthetic images\n",
    "    synthetic_dir = f\"MURA-v1.1/synthetic/{category}/{'positive' if minority_label == 1 else 'negative'}\"\n",
    "    os.makedirs(synthetic_dir, exist_ok=True)\n",
    "    for i, img in enumerate(synthetic_images):\n",
    "        img = img.cpu().squeeze().numpy()  # Remove channel dimension for grayscale\n",
    "        img = (img * 0.5) + 0.5  # Denormalize\n",
    "        img = (img * 255).astype(np.uint8)\n",
    "        img_path = os.path.join(synthetic_dir, f\"synthetic_{i}.png\")\n",
    "        Image.fromarray(img, mode='L').save(img_path)  # Save as grayscale\n",
    "        synthetic_data.append([img_path, minority_label, category])\n",
    "\n",
    "print(\"Positive/Negative balancing complete!\")"
   ]
  },
  {
   "cell_type": "code",
   "execution_count": null,
   "id": "01718183-1f0d-4e87-968d-52154b67ec6f",
   "metadata": {},
   "outputs": [],
   "source": []
  },
  {
   "cell_type": "code",
   "execution_count": null,
   "id": "6fbebb49-1f1c-4ee5-a1a2-63aeafd1fc26",
   "metadata": {},
   "outputs": [],
   "source": []
  }
 ],
 "metadata": {
  "kernelspec": {
   "display_name": "Python 3 (ipykernel)",
   "language": "python",
   "name": "python3"
  },
  "language_info": {
   "codemirror_mode": {
    "name": "ipython",
    "version": 3
   },
   "file_extension": ".py",
   "mimetype": "text/x-python",
   "name": "python",
   "nbconvert_exporter": "python",
   "pygments_lexer": "ipython3",
   "version": "3.10.11"
  }
 },
 "nbformat": 4,
 "nbformat_minor": 5
}
